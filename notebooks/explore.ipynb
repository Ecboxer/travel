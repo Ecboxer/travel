{
 "cells": [
  {
   "cell_type": "code",
   "execution_count": 1,
   "metadata": {},
   "outputs": [],
   "source": [
    "import pandas as pd\n",
    "import numpy as np\n",
    "import matplotlib.pyplot as plt\n",
    "import seaborn as sns"
   ]
  },
  {
   "cell_type": "markdown",
   "metadata": {},
   "source": [
    "Read in the data"
   ]
  },
  {
   "cell_type": "code",
   "execution_count": 2,
   "metadata": {},
   "outputs": [
    {
     "data": {
      "text/html": [
       "<div>\n",
       "<style scoped>\n",
       "    .dataframe tbody tr th:only-of-type {\n",
       "        vertical-align: middle;\n",
       "    }\n",
       "\n",
       "    .dataframe tbody tr th {\n",
       "        vertical-align: top;\n",
       "    }\n",
       "\n",
       "    .dataframe thead th {\n",
       "        text-align: right;\n",
       "    }\n",
       "</style>\n",
       "<table border=\"1\" class=\"dataframe\">\n",
       "  <thead>\n",
       "    <tr style=\"text-align: right;\">\n",
       "      <th></th>\n",
       "      <th>Timestamp</th>\n",
       "      <th>How old are you?</th>\n",
       "      <th>What gender do you most identify as?</th>\n",
       "      <th>What is your country of primary nationality?</th>\n",
       "      <th>What is your current country of residence?</th>\n",
       "      <th>What is your level of education?</th>\n",
       "      <th>What is your employment status?</th>\n",
       "      <th>Do you work in the travel industry? (and if so, what sector?)</th>\n",
       "      <th>What is your relationship status?</th>\n",
       "      <th>Do you have a passport?</th>\n",
       "      <th>...</th>\n",
       "      <th>In three or fewer words, what is your strangest souvenir?</th>\n",
       "      <th>In three of fewer words, what is your favorite/best souvenir?</th>\n",
       "      <th>What is the one item (excluding passport/money/phone/clothes/hygiene) you cannot travel without?</th>\n",
       "      <th>If you could travel to a fictional place which would you choose?</th>\n",
       "      <th>When is your next trip?</th>\n",
       "      <th>What country is your next trip to?</th>\n",
       "      <th>In 10 words or less, what is your best travel tip?</th>\n",
       "      <th>When deciding on a trip, what is the primary deciding factor?</th>\n",
       "      <th>What would be the most important thing you would like to see change for /r/travel ?</th>\n",
       "      <th>To exclude submissions by bots, please select \"a cruise\" from the options below.</th>\n",
       "    </tr>\n",
       "  </thead>\n",
       "  <tbody>\n",
       "    <tr>\n",
       "      <th>0</th>\n",
       "      <td>19/05/2018 10:32:55</td>\n",
       "      <td>22-29</td>\n",
       "      <td>Male</td>\n",
       "      <td>United States</td>\n",
       "      <td>Germany</td>\n",
       "      <td>Master</td>\n",
       "      <td>Full-time</td>\n",
       "      <td>I do NOT work in the travel industry</td>\n",
       "      <td>Dating</td>\n",
       "      <td>Yes - valid</td>\n",
       "      <td>...</td>\n",
       "      <td>NaN</td>\n",
       "      <td>NaN</td>\n",
       "      <td>earplugs</td>\n",
       "      <td>Tar Valon</td>\n",
       "      <td>0-1 months</td>\n",
       "      <td>Czech Republic</td>\n",
       "      <td>have multiple ways to pay</td>\n",
       "      <td>Cheap transportation</td>\n",
       "      <td>The ban of poptarts</td>\n",
       "      <td>A cruise</td>\n",
       "    </tr>\n",
       "    <tr>\n",
       "      <th>1</th>\n",
       "      <td>21/05/2018 09:30:37</td>\n",
       "      <td>22-29</td>\n",
       "      <td>Male</td>\n",
       "      <td>Russian Federation</td>\n",
       "      <td>Russian Federation</td>\n",
       "      <td>Bachelor</td>\n",
       "      <td>Full-time</td>\n",
       "      <td>I do NOT work in the travel industry</td>\n",
       "      <td>Dating</td>\n",
       "      <td>Yes - valid</td>\n",
       "      <td>...</td>\n",
       "      <td>NaN</td>\n",
       "      <td>NaN</td>\n",
       "      <td>NaN</td>\n",
       "      <td>NaN</td>\n",
       "      <td>NaN</td>\n",
       "      <td>NaN</td>\n",
       "      <td>NaN</td>\n",
       "      <td>NaN</td>\n",
       "      <td>NaN</td>\n",
       "      <td>NaN</td>\n",
       "    </tr>\n",
       "    <tr>\n",
       "      <th>2</th>\n",
       "      <td>21/05/2018 09:32:02</td>\n",
       "      <td>30-40</td>\n",
       "      <td>Male</td>\n",
       "      <td>Germany</td>\n",
       "      <td>Germany</td>\n",
       "      <td>Master</td>\n",
       "      <td>Full-time</td>\n",
       "      <td>I do NOT work in the travel industry</td>\n",
       "      <td>Single</td>\n",
       "      <td>Yes - valid</td>\n",
       "      <td>...</td>\n",
       "      <td>NaN</td>\n",
       "      <td>NaN</td>\n",
       "      <td>camera</td>\n",
       "      <td>NaN</td>\n",
       "      <td>0-1 months</td>\n",
       "      <td>United Kingdom</td>\n",
       "      <td>stay flexible</td>\n",
       "      <td>Destination</td>\n",
       "      <td>fewer photos</td>\n",
       "      <td>A cruise</td>\n",
       "    </tr>\n",
       "    <tr>\n",
       "      <th>3</th>\n",
       "      <td>21/05/2018 09:33:49</td>\n",
       "      <td>22-29</td>\n",
       "      <td>Male</td>\n",
       "      <td>United States</td>\n",
       "      <td>United States</td>\n",
       "      <td>Bachelor</td>\n",
       "      <td>Full-time</td>\n",
       "      <td>I do NOT work in the travel industry</td>\n",
       "      <td>Single</td>\n",
       "      <td>Yes - valid</td>\n",
       "      <td>...</td>\n",
       "      <td>NaN</td>\n",
       "      <td>NaN</td>\n",
       "      <td>NaN</td>\n",
       "      <td>NaN</td>\n",
       "      <td>NaN</td>\n",
       "      <td>NaN</td>\n",
       "      <td>NaN</td>\n",
       "      <td>NaN</td>\n",
       "      <td>NaN</td>\n",
       "      <td>NaN</td>\n",
       "    </tr>\n",
       "    <tr>\n",
       "      <th>4</th>\n",
       "      <td>21/05/2018 09:45:10</td>\n",
       "      <td>19-21</td>\n",
       "      <td>Female</td>\n",
       "      <td>Malaysia</td>\n",
       "      <td>Malaysia</td>\n",
       "      <td>Bachelor</td>\n",
       "      <td>Unemployed</td>\n",
       "      <td>I do NOT work in the travel industry</td>\n",
       "      <td>Single</td>\n",
       "      <td>Yes - expired</td>\n",
       "      <td>...</td>\n",
       "      <td>Autumn leaves</td>\n",
       "      <td>Coins</td>\n",
       "      <td>Earphones</td>\n",
       "      <td>Elysium</td>\n",
       "      <td>0-1 months</td>\n",
       "      <td>Germany</td>\n",
       "      <td>Watch your belongings.</td>\n",
       "      <td>Destination</td>\n",
       "      <td>nothing</td>\n",
       "      <td>A cruise</td>\n",
       "    </tr>\n",
       "  </tbody>\n",
       "</table>\n",
       "<p>5 rows × 100 columns</p>\n",
       "</div>"
      ],
      "text/plain": [
       "             Timestamp How old are you? What gender do you most identify as?  \\\n",
       "0  19/05/2018 10:32:55            22-29                                 Male   \n",
       "1  21/05/2018 09:30:37            22-29                                 Male   \n",
       "2  21/05/2018 09:32:02            30-40                                 Male   \n",
       "3  21/05/2018 09:33:49            22-29                                 Male   \n",
       "4  21/05/2018 09:45:10            19-21                               Female   \n",
       "\n",
       "  What is your country of primary nationality?  \\\n",
       "0                                United States   \n",
       "1                           Russian Federation   \n",
       "2                                      Germany   \n",
       "3                                United States   \n",
       "4                                     Malaysia   \n",
       "\n",
       "  What is your current country of residence? What is your level of education?  \\\n",
       "0                                    Germany                           Master   \n",
       "1                         Russian Federation                         Bachelor   \n",
       "2                                    Germany                           Master   \n",
       "3                              United States                         Bachelor   \n",
       "4                                   Malaysia                         Bachelor   \n",
       "\n",
       "  What is your employment status?  \\\n",
       "0                       Full-time   \n",
       "1                       Full-time   \n",
       "2                       Full-time   \n",
       "3                       Full-time   \n",
       "4                      Unemployed   \n",
       "\n",
       "  Do you work in the travel industry? (and if so, what sector?)  \\\n",
       "0               I do NOT work in the travel industry              \n",
       "1               I do NOT work in the travel industry              \n",
       "2               I do NOT work in the travel industry              \n",
       "3               I do NOT work in the travel industry              \n",
       "4               I do NOT work in the travel industry              \n",
       "\n",
       "  What is your relationship status? Do you have a passport?  \\\n",
       "0                            Dating             Yes - valid   \n",
       "1                            Dating             Yes - valid   \n",
       "2                            Single             Yes - valid   \n",
       "3                            Single             Yes - valid   \n",
       "4                            Single           Yes - expired   \n",
       "\n",
       "                                        ...                                         \\\n",
       "0                                       ...                                          \n",
       "1                                       ...                                          \n",
       "2                                       ...                                          \n",
       "3                                       ...                                          \n",
       "4                                       ...                                          \n",
       "\n",
       "   In three or fewer words, what is your strangest souvenir?  \\\n",
       "0                                                NaN           \n",
       "1                                                NaN           \n",
       "2                                                NaN           \n",
       "3                                                NaN           \n",
       "4                                      Autumn leaves           \n",
       "\n",
       "   In three of fewer words, what is your favorite/best souvenir?   \\\n",
       "0                                                NaN                \n",
       "1                                                NaN                \n",
       "2                                                NaN                \n",
       "3                                                NaN                \n",
       "4                                              Coins                \n",
       "\n",
       "   What is the one item (excluding passport/money/phone/clothes/hygiene) you cannot travel without?  \\\n",
       "0                                           earplugs                                                  \n",
       "1                                                NaN                                                  \n",
       "2                                             camera                                                  \n",
       "3                                                NaN                                                  \n",
       "4                                          Earphones                                                  \n",
       "\n",
       "   If you could travel to a fictional place which would you choose?  \\\n",
       "0                                          Tar Valon                  \n",
       "1                                                NaN                  \n",
       "2                                                NaN                  \n",
       "3                                                NaN                  \n",
       "4                                            Elysium                  \n",
       "\n",
       "  When is your next trip? What country is your next trip to?  \\\n",
       "0              0-1 months                     Czech Republic   \n",
       "1                     NaN                                NaN   \n",
       "2              0-1 months                     United Kingdom   \n",
       "3                     NaN                                NaN   \n",
       "4              0-1 months                            Germany   \n",
       "\n",
       "  In 10 words or less, what is your best travel tip?  \\\n",
       "0                          have multiple ways to pay   \n",
       "1                                                NaN   \n",
       "2                                      stay flexible   \n",
       "3                                                NaN   \n",
       "4                             Watch your belongings.   \n",
       "\n",
       "  When deciding on a trip, what is the primary deciding factor?  \\\n",
       "0                               Cheap transportation              \n",
       "1                                                NaN              \n",
       "2                                        Destination              \n",
       "3                                                NaN              \n",
       "4                                        Destination              \n",
       "\n",
       "  What would be the most important thing you would like to see change for /r/travel ?  \\\n",
       "0                                The ban of poptarts                                    \n",
       "1                                                NaN                                    \n",
       "2                                       fewer photos                                    \n",
       "3                                                NaN                                    \n",
       "4                                            nothing                                    \n",
       "\n",
       "  To exclude submissions by bots, please select \"a cruise\" from the options below.  \n",
       "0                                           A cruise                                \n",
       "1                                                NaN                                \n",
       "2                                           A cruise                                \n",
       "3                                                NaN                                \n",
       "4                                           A cruise                                \n",
       "\n",
       "[5 rows x 100 columns]"
      ]
     },
     "execution_count": 2,
     "metadata": {},
     "output_type": "execute_result"
    }
   ],
   "source": [
    "df = pd.read_csv('../resources/surveyResp.csv')\n",
    "df.head()"
   ]
  },
  {
   "cell_type": "markdown",
   "metadata": {},
   "source": [
    "I don't think that Timestamp will be the most interesting feature, there could be trends in response but they probably not meaningful ones."
   ]
  },
  {
   "cell_type": "markdown",
   "metadata": {},
   "source": [
    "### Age"
   ]
  },
  {
   "cell_type": "code",
   "execution_count": 3,
   "metadata": {},
   "outputs": [],
   "source": [
    "df = df.rename(index=str, columns={'How old are you?':'age'})"
   ]
  },
  {
   "cell_type": "code",
   "execution_count": 4,
   "metadata": {},
   "outputs": [
    {
     "data": {
      "text/plain": [
       "47"
      ]
     },
     "execution_count": 4,
     "metadata": {},
     "output_type": "execute_result"
    }
   ],
   "source": [
    "df.shape[0] - df['age'].count()"
   ]
  },
  {
   "cell_type": "code",
   "execution_count": 5,
   "metadata": {},
   "outputs": [],
   "source": [
    "df['age'].fillna('blank', inplace = True)"
   ]
  },
  {
   "cell_type": "code",
   "execution_count": 6,
   "metadata": {},
   "outputs": [
    {
     "data": {
      "text/plain": [
       "array(['22-29', '30-40', '19-21', '17-18', '41-50', '65+', 'blank',\n",
       "       '51-64', '0-16'], dtype=object)"
      ]
     },
     "execution_count": 6,
     "metadata": {},
     "output_type": "execute_result"
    }
   ],
   "source": [
    "df['age'].unique()"
   ]
  },
  {
   "cell_type": "code",
   "execution_count": 7,
   "metadata": {},
   "outputs": [
    {
     "data": {
      "text/html": [
       "<div>\n",
       "<style scoped>\n",
       "    .dataframe tbody tr th:only-of-type {\n",
       "        vertical-align: middle;\n",
       "    }\n",
       "\n",
       "    .dataframe tbody tr th {\n",
       "        vertical-align: top;\n",
       "    }\n",
       "\n",
       "    .dataframe thead th {\n",
       "        text-align: right;\n",
       "    }\n",
       "</style>\n",
       "<table border=\"1\" class=\"dataframe\">\n",
       "  <thead>\n",
       "    <tr style=\"text-align: right;\">\n",
       "      <th></th>\n",
       "      <th>Timestamp</th>\n",
       "      <th>range</th>\n",
       "      <th>mean</th>\n",
       "    </tr>\n",
       "    <tr>\n",
       "      <th>age</th>\n",
       "      <th></th>\n",
       "      <th></th>\n",
       "      <th></th>\n",
       "    </tr>\n",
       "  </thead>\n",
       "  <tbody>\n",
       "    <tr>\n",
       "      <th>0-16</th>\n",
       "      <td>17</td>\n",
       "      <td>17</td>\n",
       "      <td>8.0</td>\n",
       "    </tr>\n",
       "    <tr>\n",
       "      <th>17-18</th>\n",
       "      <td>38</td>\n",
       "      <td>2</td>\n",
       "      <td>17.5</td>\n",
       "    </tr>\n",
       "    <tr>\n",
       "      <th>19-21</th>\n",
       "      <td>94</td>\n",
       "      <td>3</td>\n",
       "      <td>20.0</td>\n",
       "    </tr>\n",
       "    <tr>\n",
       "      <th>22-29</th>\n",
       "      <td>390</td>\n",
       "      <td>8</td>\n",
       "      <td>25.5</td>\n",
       "    </tr>\n",
       "    <tr>\n",
       "      <th>30-40</th>\n",
       "      <td>208</td>\n",
       "      <td>11</td>\n",
       "      <td>35.0</td>\n",
       "    </tr>\n",
       "    <tr>\n",
       "      <th>41-50</th>\n",
       "      <td>30</td>\n",
       "      <td>10</td>\n",
       "      <td>45.5</td>\n",
       "    </tr>\n",
       "    <tr>\n",
       "      <th>51-64</th>\n",
       "      <td>29</td>\n",
       "      <td>14</td>\n",
       "      <td>57.5</td>\n",
       "    </tr>\n",
       "    <tr>\n",
       "      <th>65+</th>\n",
       "      <td>5</td>\n",
       "      <td>16</td>\n",
       "      <td>72.5</td>\n",
       "    </tr>\n",
       "  </tbody>\n",
       "</table>\n",
       "</div>"
      ],
      "text/plain": [
       "       Timestamp  range  mean\n",
       "age                          \n",
       "0-16          17     17   8.0\n",
       "17-18         38      2  17.5\n",
       "19-21         94      3  20.0\n",
       "22-29        390      8  25.5\n",
       "30-40        208     11  35.0\n",
       "41-50         30     10  45.5\n",
       "51-64         29     14  57.5\n",
       "65+            5     16  72.5"
      ]
     },
     "execution_count": 7,
     "metadata": {},
     "output_type": "execute_result"
    }
   ],
   "source": [
    "df_age = df[['Timestamp','age']][df['age'] != 'blank'].groupby('age').count()\n",
    "df_age['range'] = [17, 2, 3, 8, 11, 10, 14, 16] #Assume upper limit of 80 yrs old\n",
    "df_age['mean'] = [8, 17.5, 20, 25.5, 35, 45.5, 57.5, 72.5]\n",
    "df_age"
   ]
  },
  {
   "cell_type": "code",
   "execution_count": 8,
   "metadata": {},
   "outputs": [
    {
     "data": {
      "text/plain": [
       "28.731196054254006"
      ]
     },
     "execution_count": 8,
     "metadata": {},
     "output_type": "execute_result"
    }
   ],
   "source": [
    "weighted_sum = 0\n",
    "for i in range(df_age.shape[0]):\n",
    "    weighted_sum += df_age['mean'][i] * df_age['Timestamp'][i]\n",
    "weighted_sum / df_age['Timestamp'].sum()"
   ]
  },
  {
   "cell_type": "code",
   "execution_count": 30,
   "metadata": {},
   "outputs": [
    {
     "data": {
      "image/png": "[encoded data removed]",
      "text/plain": [
       "<Figure size 432x288 with 1 Axes>"
      ]
     },
     "metadata": {
      "needs_background": "light"
     },
     "output_type": "display_data"
    }
   ],
   "source": [
    "fig = plt.figure()\n",
    "axs = fig.add_subplot(111)\n",
    "axs.bar(df_age.index, df_age['Timestamp'])\n",
    "axs.set_xlabel('age')\n",
    "axs.set_ylabel('count')\n",
    "axs.set_title('Age of survey respondents')\n",
    "plt.savefig('../resources/agecount.png')"
   ]
  },
  {
   "cell_type": "markdown",
   "metadata": {},
   "source": [
    "This is most definitely a reddit survey! Now that I think about it you might expect to see different results splitting age into 17-18, 19-21 because of different responsibilities and greater freedom of movement. Within a couple of year you become able to travel alone, start college, maybe get a car."
   ]
  },
  {
   "cell_type": "markdown",
   "metadata": {},
   "source": [
    "### Gender"
   ]
  },
  {
   "cell_type": "code",
   "execution_count": 16,
   "metadata": {},
   "outputs": [],
   "source": [
    "df = df.rename(index=str, columns={'What gender do you most identify as?': 'gender'})"
   ]
  },
  {
   "cell_type": "code",
   "execution_count": 17,
   "metadata": {},
   "outputs": [
    {
     "data": {
      "text/plain": [
       "array(['Male', 'Female'], dtype=object)"
      ]
     },
     "execution_count": 17,
     "metadata": {},
     "output_type": "execute_result"
    }
   ],
   "source": [
    "df['gender'].unique()"
   ]
  },
  {
   "cell_type": "markdown",
   "metadata": {},
   "source": [
    "From the phrasing of the question I would expect this to have offered non-binary options. This is my first time seeing the results of one of these questions but I suppose it's not so strange that all respondents would pick a binary option."
   ]
  },
  {
   "cell_type": "code",
   "execution_count": 18,
   "metadata": {},
   "outputs": [
    {
     "data": {
      "text/plain": [
       "0"
      ]
     },
     "execution_count": 18,
     "metadata": {},
     "output_type": "execute_result"
    }
   ],
   "source": [
    "df.shape[0] - df['gender'].count()"
   ]
  },
  {
   "cell_type": "code",
   "execution_count": 19,
   "metadata": {},
   "outputs": [
    {
     "data": {
      "text/html": [
       "<div>\n",
       "<style scoped>\n",
       "    .dataframe tbody tr th:only-of-type {\n",
       "        vertical-align: middle;\n",
       "    }\n",
       "\n",
       "    .dataframe tbody tr th {\n",
       "        vertical-align: top;\n",
       "    }\n",
       "\n",
       "    .dataframe thead th {\n",
       "        text-align: right;\n",
       "    }\n",
       "</style>\n",
       "<table border=\"1\" class=\"dataframe\">\n",
       "  <thead>\n",
       "    <tr style=\"text-align: right;\">\n",
       "      <th></th>\n",
       "      <th>Timestamp</th>\n",
       "    </tr>\n",
       "    <tr>\n",
       "      <th>gender</th>\n",
       "      <th></th>\n",
       "    </tr>\n",
       "  </thead>\n",
       "  <tbody>\n",
       "    <tr>\n",
       "      <th>Female</th>\n",
       "      <td>321</td>\n",
       "    </tr>\n",
       "    <tr>\n",
       "      <th>Male</th>\n",
       "      <td>537</td>\n",
       "    </tr>\n",
       "  </tbody>\n",
       "</table>\n",
       "</div>"
      ],
      "text/plain": [
       "        Timestamp\n",
       "gender           \n",
       "Female        321\n",
       "Male          537"
      ]
     },
     "execution_count": 19,
     "metadata": {},
     "output_type": "execute_result"
    }
   ],
   "source": [
    "df[['Timestamp', 'gender']].groupby('gender').count()"
   ]
  },
  {
   "cell_type": "code",
   "execution_count": 20,
   "metadata": {},
   "outputs": [
    {
     "data": {
      "text/html": [
       "<div>\n",
       "<style scoped>\n",
       "    .dataframe tbody tr th:only-of-type {\n",
       "        vertical-align: middle;\n",
       "    }\n",
       "\n",
       "    .dataframe tbody tr th {\n",
       "        vertical-align: top;\n",
       "    }\n",
       "\n",
       "    .dataframe thead th {\n",
       "        text-align: right;\n",
       "    }\n",
       "</style>\n",
       "<table border=\"1\" class=\"dataframe\">\n",
       "  <thead>\n",
       "    <tr style=\"text-align: right;\">\n",
       "      <th></th>\n",
       "      <th>Timestamp</th>\n",
       "    </tr>\n",
       "    <tr>\n",
       "      <th>gender</th>\n",
       "      <th></th>\n",
       "    </tr>\n",
       "  </thead>\n",
       "  <tbody>\n",
       "    <tr>\n",
       "      <th>Female</th>\n",
       "      <td>0.374126</td>\n",
       "    </tr>\n",
       "    <tr>\n",
       "      <th>Male</th>\n",
       "      <td>0.625874</td>\n",
       "    </tr>\n",
       "  </tbody>\n",
       "</table>\n",
       "</div>"
      ],
      "text/plain": [
       "        Timestamp\n",
       "gender           \n",
       "Female   0.374126\n",
       "Male     0.625874"
      ]
     },
     "execution_count": 20,
     "metadata": {},
     "output_type": "execute_result"
    }
   ],
   "source": [
    "df[['Timestamp', 'gender']].groupby('gender').count() / df.shape[0]"
   ]
  },
  {
   "cell_type": "markdown",
   "metadata": {},
   "source": [
    "The gender ratio is not as disparate as I might have guessed, that's neat. I still don't expect any results to be representative of a significant population, but there might be good representation of the subreddit's population."
   ]
  },
  {
   "cell_type": "markdown",
   "metadata": {},
   "source": [
    "### Nationality"
   ]
  },
  {
   "cell_type": "code",
   "execution_count": 16,
   "metadata": {},
   "outputs": [],
   "source": [
    "df.rename(index=str, columns = {'What is your country of primary nationality?': 'nationality'}, inplace = True)"
   ]
  },
  {
   "cell_type": "code",
   "execution_count": 17,
   "metadata": {},
   "outputs": [
    {
     "data": {
      "text/plain": [
       "3"
      ]
     },
     "execution_count": 17,
     "metadata": {},
     "output_type": "execute_result"
    }
   ],
   "source": [
    "df.shape[0] - df['nationality'].count()"
   ]
  },
  {
   "cell_type": "code",
   "execution_count": 18,
   "metadata": {},
   "outputs": [],
   "source": [
    "df['nationality'].fillna('blank', inplace = True)"
   ]
  },
  {
   "cell_type": "code",
   "execution_count": 19,
   "metadata": {},
   "outputs": [
    {
     "data": {
      "text/plain": [
       "array(['United States', 'Russian Federation', 'Germany', 'Malaysia',\n",
       "       'United Kingdom', 'India', 'Switzerland', 'Australia', 'Canada',\n",
       "       'Finland', 'Austria', 'Mauritius', 'Netherlands', 'Belgium',\n",
       "       'France', 'Philippines', 'Portugal', 'Argentina', 'Romania',\n",
       "       'Italy', 'Estonia', 'Chile', 'South Africa', 'Ireland {Republic}',\n",
       "       'Guyana', 'Denmark', 'Poland', 'Croatia', 'New Zealand', 'Lebanon',\n",
       "       'Singapore', 'Slovenia', 'Micronesia', 'Indonesia', 'Norway',\n",
       "       'Mexico', 'Guatemala', 'Hungary', 'Sweden', 'Albania',\n",
       "       'Korea South', 'Ukraine', 'Turkey', 'Luxembourg', 'blank',\n",
       "       'Afghanistan', 'China', 'Malta', 'Spain', 'Brazil', 'Iceland',\n",
       "       'Nepal', 'Lithuania', 'United Arab Emirates', 'Bangladesh',\n",
       "       'Saudi Arabia', 'Colombia', 'Czech Republic', 'Tunisia', 'Cuba',\n",
       "       'Israel', 'Iran', 'Taiwan', 'Bulgaria', 'Trinidad & Tobago',\n",
       "       'Greece', 'Serbia'], dtype=object)"
      ]
     },
     "execution_count": 19,
     "metadata": {},
     "output_type": "execute_result"
    }
   ],
   "source": [
    "df['nationality'].unique()"
   ]
  },
  {
   "cell_type": "code",
   "execution_count": 20,
   "metadata": {},
   "outputs": [
    {
     "data": {
      "text/plain": [
       "67"
      ]
     },
     "execution_count": 20,
     "metadata": {},
     "output_type": "execute_result"
    }
   ],
   "source": [
    "len(df['nationality'].unique())"
   ]
  },
  {
   "cell_type": "markdown",
   "metadata": {},
   "source": [
    "That's a good number of countries! How Western-centric is the survey?"
   ]
  },
  {
   "cell_type": "code",
   "execution_count": 21,
   "metadata": {},
   "outputs": [
    {
     "data": {
      "text/html": [
       "<div>\n",
       "<style scoped>\n",
       "    .dataframe tbody tr th:only-of-type {\n",
       "        vertical-align: middle;\n",
       "    }\n",
       "\n",
       "    .dataframe tbody tr th {\n",
       "        vertical-align: top;\n",
       "    }\n",
       "\n",
       "    .dataframe thead th {\n",
       "        text-align: right;\n",
       "    }\n",
       "</style>\n",
       "<table border=\"1\" class=\"dataframe\">\n",
       "  <thead>\n",
       "    <tr style=\"text-align: right;\">\n",
       "      <th></th>\n",
       "      <th>Timestamp</th>\n",
       "    </tr>\n",
       "    <tr>\n",
       "      <th>nationality</th>\n",
       "      <th></th>\n",
       "    </tr>\n",
       "  </thead>\n",
       "  <tbody>\n",
       "    <tr>\n",
       "      <th>Australia</th>\n",
       "      <td>34</td>\n",
       "    </tr>\n",
       "    <tr>\n",
       "      <th>Canada</th>\n",
       "      <td>78</td>\n",
       "    </tr>\n",
       "    <tr>\n",
       "      <th>Germany</th>\n",
       "      <td>22</td>\n",
       "    </tr>\n",
       "    <tr>\n",
       "      <th>India</th>\n",
       "      <td>21</td>\n",
       "    </tr>\n",
       "    <tr>\n",
       "      <th>Ireland {Republic}</th>\n",
       "      <td>12</td>\n",
       "    </tr>\n",
       "    <tr>\n",
       "      <th>Netherlands</th>\n",
       "      <td>25</td>\n",
       "    </tr>\n",
       "    <tr>\n",
       "      <th>Sweden</th>\n",
       "      <td>12</td>\n",
       "    </tr>\n",
       "    <tr>\n",
       "      <th>United Kingdom</th>\n",
       "      <td>60</td>\n",
       "    </tr>\n",
       "    <tr>\n",
       "      <th>United States</th>\n",
       "      <td>428</td>\n",
       "    </tr>\n",
       "  </tbody>\n",
       "</table>\n",
       "</div>"
      ],
      "text/plain": [
       "                    Timestamp\n",
       "nationality                  \n",
       "Australia                  34\n",
       "Canada                     78\n",
       "Germany                    22\n",
       "India                      21\n",
       "Ireland {Republic}         12\n",
       "Netherlands                25\n",
       "Sweden                     12\n",
       "United Kingdom             60\n",
       "United States             428"
      ]
     },
     "execution_count": 21,
     "metadata": {},
     "output_type": "execute_result"
    }
   ],
   "source": [
    "df_nationality = df[['Timestamp', 'nationality']].groupby('nationality').count()\n",
    "df_nationality[df_nationality['Timestamp'] > 10]"
   ]
  },
  {
   "cell_type": "code",
   "execution_count": 22,
   "metadata": {},
   "outputs": [
    {
     "data": {
      "text/html": [
       "<div>\n",
       "<style scoped>\n",
       "    .dataframe tbody tr th:only-of-type {\n",
       "        vertical-align: middle;\n",
       "    }\n",
       "\n",
       "    .dataframe tbody tr th {\n",
       "        vertical-align: top;\n",
       "    }\n",
       "\n",
       "    .dataframe thead th {\n",
       "        text-align: right;\n",
       "    }\n",
       "</style>\n",
       "<table border=\"1\" class=\"dataframe\">\n",
       "  <thead>\n",
       "    <tr style=\"text-align: right;\">\n",
       "      <th></th>\n",
       "      <th>Timestamp</th>\n",
       "    </tr>\n",
       "    <tr>\n",
       "      <th>nationality</th>\n",
       "      <th></th>\n",
       "    </tr>\n",
       "  </thead>\n",
       "  <tbody>\n",
       "    <tr>\n",
       "      <th>United States</th>\n",
       "      <td>0.498834</td>\n",
       "    </tr>\n",
       "    <tr>\n",
       "      <th>Canada</th>\n",
       "      <td>0.090909</td>\n",
       "    </tr>\n",
       "    <tr>\n",
       "      <th>United Kingdom</th>\n",
       "      <td>0.069930</td>\n",
       "    </tr>\n",
       "    <tr>\n",
       "      <th>Australia</th>\n",
       "      <td>0.039627</td>\n",
       "    </tr>\n",
       "    <tr>\n",
       "      <th>Netherlands</th>\n",
       "      <td>0.029138</td>\n",
       "    </tr>\n",
       "    <tr>\n",
       "      <th>Germany</th>\n",
       "      <td>0.025641</td>\n",
       "    </tr>\n",
       "    <tr>\n",
       "      <th>India</th>\n",
       "      <td>0.024476</td>\n",
       "    </tr>\n",
       "    <tr>\n",
       "      <th>Ireland {Republic}</th>\n",
       "      <td>0.013986</td>\n",
       "    </tr>\n",
       "    <tr>\n",
       "      <th>Sweden</th>\n",
       "      <td>0.013986</td>\n",
       "    </tr>\n",
       "    <tr>\n",
       "      <th>Malaysia</th>\n",
       "      <td>0.011655</td>\n",
       "    </tr>\n",
       "  </tbody>\n",
       "</table>\n",
       "</div>"
      ],
      "text/plain": [
       "                    Timestamp\n",
       "nationality                  \n",
       "United States        0.498834\n",
       "Canada               0.090909\n",
       "United Kingdom       0.069930\n",
       "Australia            0.039627\n",
       "Netherlands          0.029138\n",
       "Germany              0.025641\n",
       "India                0.024476\n",
       "Ireland {Republic}   0.013986\n",
       "Sweden               0.013986\n",
       "Malaysia             0.011655"
      ]
     },
     "execution_count": 22,
     "metadata": {},
     "output_type": "execute_result"
    }
   ],
   "source": [
    "df_nationality = df[['Timestamp', 'nationality']].groupby('nationality').count() / df.shape[0]\n",
    "df_nationality.sort_values(by = 'Timestamp', ascending = False).head(10)"
   ]
  },
  {
   "cell_type": "markdown",
   "metadata": {},
   "source": [
    "The most popular nationalities are the usual suspects (US, UK, Canada), but there are more Indian and Dutch than I would have guessed."
   ]
  },
  {
   "cell_type": "markdown",
   "metadata": {},
   "source": [
    "### Residence"
   ]
  },
  {
   "cell_type": "markdown",
   "metadata": {},
   "source": [
    "Will this vary much from the nationality feature?"
   ]
  },
  {
   "cell_type": "code",
   "execution_count": 23,
   "metadata": {},
   "outputs": [],
   "source": [
    "df.rename(index=str, columns={'What is your current country of residence?':'residence'}, inplace = True)"
   ]
  },
  {
   "cell_type": "code",
   "execution_count": 24,
   "metadata": {},
   "outputs": [
    {
     "data": {
      "text/plain": [
       "18"
      ]
     },
     "execution_count": 24,
     "metadata": {},
     "output_type": "execute_result"
    }
   ],
   "source": [
    "df.shape[0] - df['residence'].count()"
   ]
  },
  {
   "cell_type": "code",
   "execution_count": 25,
   "metadata": {},
   "outputs": [],
   "source": [
    "df['residence'].fillna('blank', inplace = True)"
   ]
  },
  {
   "cell_type": "code",
   "execution_count": 26,
   "metadata": {},
   "outputs": [
    {
     "data": {
      "text/plain": [
       "array(['Germany', 'Russian Federation', 'United States', 'Malaysia',\n",
       "       'United Kingdom', 'United Arab Emirates', 'Switzerland',\n",
       "       'Australia', 'Canada', 'Finland', 'Austria', 'India',\n",
       "       'Netherlands', 'Belgium', 'France', 'Korea South', 'Philippines',\n",
       "       'Portugal', 'blank', 'Argentina', 'Romania', 'Vietnam', 'Italy',\n",
       "       'Estonia', 'Chile', 'South Africa', 'Mexico', 'Slovenia',\n",
       "       'Ireland {Republic}', 'Denmark', 'Poland', 'Croatia',\n",
       "       'New Zealand', 'Singapore', 'Indonesia', 'Sweden', 'Norway',\n",
       "       'Georgia', 'Spain', 'Hungary', 'Lesotho', 'China', 'Japan',\n",
       "       'Bulgaria', 'Ukraine', 'Turkey', 'Luxembourg', 'Afghanistan',\n",
       "       'Israel', 'Belarus', 'Brazil', 'Iceland', 'Nepal', 'Lithuania',\n",
       "       'Saudi Arabia', 'Taiwan', 'Kenya', 'Czech Republic', 'Pakistan',\n",
       "       'Bangladesh', 'Iran', 'Kazakhstan'], dtype=object)"
      ]
     },
     "execution_count": 26,
     "metadata": {},
     "output_type": "execute_result"
    }
   ],
   "source": [
    "df['residence'].unique()"
   ]
  },
  {
   "cell_type": "code",
   "execution_count": 27,
   "metadata": {},
   "outputs": [
    {
     "data": {
      "text/plain": [
       "62"
      ]
     },
     "execution_count": 27,
     "metadata": {},
     "output_type": "execute_result"
    }
   ],
   "source": [
    "len(df['residence'].unique())"
   ]
  },
  {
   "cell_type": "code",
   "execution_count": 28,
   "metadata": {},
   "outputs": [
    {
     "data": {
      "text/html": [
       "<div>\n",
       "<style scoped>\n",
       "    .dataframe tbody tr th:only-of-type {\n",
       "        vertical-align: middle;\n",
       "    }\n",
       "\n",
       "    .dataframe tbody tr th {\n",
       "        vertical-align: top;\n",
       "    }\n",
       "\n",
       "    .dataframe thead th {\n",
       "        text-align: right;\n",
       "    }\n",
       "</style>\n",
       "<table border=\"1\" class=\"dataframe\">\n",
       "  <thead>\n",
       "    <tr style=\"text-align: right;\">\n",
       "      <th></th>\n",
       "      <th>Timestamp</th>\n",
       "    </tr>\n",
       "    <tr>\n",
       "      <th>residence</th>\n",
       "      <th></th>\n",
       "    </tr>\n",
       "  </thead>\n",
       "  <tbody>\n",
       "    <tr>\n",
       "      <th>Australia</th>\n",
       "      <td>35</td>\n",
       "    </tr>\n",
       "    <tr>\n",
       "      <th>Canada</th>\n",
       "      <td>70</td>\n",
       "    </tr>\n",
       "    <tr>\n",
       "      <th>Germany</th>\n",
       "      <td>29</td>\n",
       "    </tr>\n",
       "    <tr>\n",
       "      <th>Netherlands</th>\n",
       "      <td>29</td>\n",
       "    </tr>\n",
       "    <tr>\n",
       "      <th>Sweden</th>\n",
       "      <td>13</td>\n",
       "    </tr>\n",
       "    <tr>\n",
       "      <th>United Kingdom</th>\n",
       "      <td>66</td>\n",
       "    </tr>\n",
       "    <tr>\n",
       "      <th>United States</th>\n",
       "      <td>405</td>\n",
       "    </tr>\n",
       "    <tr>\n",
       "      <th>blank</th>\n",
       "      <td>18</td>\n",
       "    </tr>\n",
       "  </tbody>\n",
       "</table>\n",
       "</div>"
      ],
      "text/plain": [
       "                Timestamp\n",
       "residence                \n",
       "Australia              35\n",
       "Canada                 70\n",
       "Germany                29\n",
       "Netherlands            29\n",
       "Sweden                 13\n",
       "United Kingdom         66\n",
       "United States         405\n",
       "blank                  18"
      ]
     },
     "execution_count": 28,
     "metadata": {},
     "output_type": "execute_result"
    }
   ],
   "source": [
    "df_residence = df[['Timestamp', 'residence']].groupby('residence').count()\n",
    "df_residence[df_residence['Timestamp'] > 10]"
   ]
  },
  {
   "cell_type": "markdown",
   "metadata": {},
   "source": [
    "India and Ireland don't make this list, but otherwise it's very similar."
   ]
  },
  {
   "cell_type": "markdown",
   "metadata": {},
   "source": [
    "### Education"
   ]
  },
  {
   "cell_type": "code",
   "execution_count": 21,
   "metadata": {},
   "outputs": [],
   "source": [
    "df.rename(index=str, columns={'What is your level of education?': 'education'}, inplace = True)"
   ]
  },
  {
   "cell_type": "code",
   "execution_count": 22,
   "metadata": {},
   "outputs": [
    {
     "data": {
      "text/plain": [
       "22"
      ]
     },
     "execution_count": 22,
     "metadata": {},
     "output_type": "execute_result"
    }
   ],
   "source": [
    "df.shape[0] - df['education'].count()"
   ]
  },
  {
   "cell_type": "markdown",
   "metadata": {},
   "source": [
    "Non-decreasing"
   ]
  },
  {
   "cell_type": "code",
   "execution_count": 23,
   "metadata": {},
   "outputs": [],
   "source": [
    "df['education'].fillna('blank', inplace = True)"
   ]
  },
  {
   "cell_type": "code",
   "execution_count": 24,
   "metadata": {},
   "outputs": [
    {
     "data": {
      "text/plain": [
       "array(['Master', 'Bachelor', 'Doctorate / PhD', 'College / Tradeschool',\n",
       "       'Highschool', 'blank'], dtype=object)"
      ]
     },
     "execution_count": 24,
     "metadata": {},
     "output_type": "execute_result"
    }
   ],
   "source": [
    "df['education'].unique()"
   ]
  },
  {
   "cell_type": "code",
   "execution_count": 25,
   "metadata": {},
   "outputs": [
    {
     "data": {
      "text/html": [
       "<div>\n",
       "<style scoped>\n",
       "    .dataframe tbody tr th:only-of-type {\n",
       "        vertical-align: middle;\n",
       "    }\n",
       "\n",
       "    .dataframe tbody tr th {\n",
       "        vertical-align: top;\n",
       "    }\n",
       "\n",
       "    .dataframe thead th {\n",
       "        text-align: right;\n",
       "    }\n",
       "</style>\n",
       "<table border=\"1\" class=\"dataframe\">\n",
       "  <thead>\n",
       "    <tr style=\"text-align: right;\">\n",
       "      <th></th>\n",
       "      <th>Timestamp</th>\n",
       "    </tr>\n",
       "    <tr>\n",
       "      <th>education</th>\n",
       "      <th></th>\n",
       "    </tr>\n",
       "  </thead>\n",
       "  <tbody>\n",
       "    <tr>\n",
       "      <th>Highschool</th>\n",
       "      <td>102</td>\n",
       "    </tr>\n",
       "    <tr>\n",
       "      <th>College / Tradeschool</th>\n",
       "      <td>157</td>\n",
       "    </tr>\n",
       "    <tr>\n",
       "      <th>Bachelor</th>\n",
       "      <td>373</td>\n",
       "    </tr>\n",
       "    <tr>\n",
       "      <th>Master</th>\n",
       "      <td>162</td>\n",
       "    </tr>\n",
       "    <tr>\n",
       "      <th>Doctorate / PhD</th>\n",
       "      <td>42</td>\n",
       "    </tr>\n",
       "    <tr>\n",
       "      <th>blank</th>\n",
       "      <td>22</td>\n",
       "    </tr>\n",
       "  </tbody>\n",
       "</table>\n",
       "</div>"
      ],
      "text/plain": [
       "                       Timestamp\n",
       "education                       \n",
       "Highschool                   102\n",
       "College / Tradeschool        157\n",
       "Bachelor                     373\n",
       "Master                       162\n",
       "Doctorate / PhD               42\n",
       "blank                         22"
      ]
     },
     "execution_count": 25,
     "metadata": {},
     "output_type": "execute_result"
    }
   ],
   "source": [
    "df_edu = df[['Timestamp', 'education']].groupby('education').count()\n",
    "df_edu = df_edu.reindex(['Highschool', 'College / Tradeschool', 'Bachelor', 'Master', 'Doctorate / PhD', 'blank'])\n",
    "df_edu"
   ]
  },
  {
   "cell_type": "code",
   "execution_count": 31,
   "metadata": {},
   "outputs": [
    {
     "data": {
      "image/png": "[encoded data removed]",
      "text/plain": [
       "<Figure size 720x288 with 1 Axes>"
      ]
     },
     "metadata": {
      "needs_background": "light"
     },
     "output_type": "display_data"
    }
   ],
   "source": [
    "fig = plt.figure(figsize = (10, 4))\n",
    "axs = fig.add_subplot(111)\n",
    "axs.bar(df_edu.index, df_edu['Timestamp'])\n",
    "axs.set_xlabel('education level')\n",
    "axs.set_ylabel('count')\n",
    "axs.set_title('Education level of survey responents')\n",
    "plt.savefig('../resources/educationcount.png')"
   ]
  },
  {
   "cell_type": "markdown",
   "metadata": {},
   "source": [
    "I could find the number of people who did not attend college in concert with the age feature, or look for any 15yo PhDs, but that doesn't seem very interesting."
   ]
  },
  {
   "cell_type": "markdown",
   "metadata": {},
   "source": [
    "### Employment"
   ]
  },
  {
   "cell_type": "code",
   "execution_count": 35,
   "metadata": {},
   "outputs": [],
   "source": [
    "df.rename(index=str, columns={'What is your employment status?': 'employment'}, inplace = True)"
   ]
  },
  {
   "cell_type": "code",
   "execution_count": 36,
   "metadata": {},
   "outputs": [
    {
     "data": {
      "text/plain": [
       "4"
      ]
     },
     "execution_count": 36,
     "metadata": {},
     "output_type": "execute_result"
    }
   ],
   "source": [
    "df.shape[0] - df['employment'].count()"
   ]
  },
  {
   "cell_type": "markdown",
   "metadata": {},
   "source": [
    "Fewer missing values than in education, my pet hypothesis that more people would drop out at each question is disproved. It might be interesting to plot the number of missing values for each question."
   ]
  },
  {
   "cell_type": "code",
   "execution_count": 37,
   "metadata": {},
   "outputs": [],
   "source": [
    "df['employment'].fillna('blank', inplace = True)"
   ]
  },
  {
   "cell_type": "code",
   "execution_count": 38,
   "metadata": {},
   "outputs": [
    {
     "data": {
      "text/plain": [
       "array(['Full-time', 'Unemployed', 'Part-time', 'Retired', 'blank'],\n",
       "      dtype=object)"
      ]
     },
     "execution_count": 38,
     "metadata": {},
     "output_type": "execute_result"
    }
   ],
   "source": [
    "df['employment'].unique()"
   ]
  },
  {
   "cell_type": "code",
   "execution_count": 39,
   "metadata": {},
   "outputs": [
    {
     "data": {
      "text/html": [
       "<div>\n",
       "<style scoped>\n",
       "    .dataframe tbody tr th:only-of-type {\n",
       "        vertical-align: middle;\n",
       "    }\n",
       "\n",
       "    .dataframe tbody tr th {\n",
       "        vertical-align: top;\n",
       "    }\n",
       "\n",
       "    .dataframe thead th {\n",
       "        text-align: right;\n",
       "    }\n",
       "</style>\n",
       "<table border=\"1\" class=\"dataframe\">\n",
       "  <thead>\n",
       "    <tr style=\"text-align: right;\">\n",
       "      <th></th>\n",
       "      <th>Timestamp</th>\n",
       "    </tr>\n",
       "    <tr>\n",
       "      <th>employment</th>\n",
       "      <th></th>\n",
       "    </tr>\n",
       "  </thead>\n",
       "  <tbody>\n",
       "    <tr>\n",
       "      <th>Full-time</th>\n",
       "      <td>565</td>\n",
       "    </tr>\n",
       "    <tr>\n",
       "      <th>Part-time</th>\n",
       "      <td>144</td>\n",
       "    </tr>\n",
       "    <tr>\n",
       "      <th>Retired</th>\n",
       "      <td>20</td>\n",
       "    </tr>\n",
       "    <tr>\n",
       "      <th>Unemployed</th>\n",
       "      <td>125</td>\n",
       "    </tr>\n",
       "    <tr>\n",
       "      <th>blank</th>\n",
       "      <td>4</td>\n",
       "    </tr>\n",
       "  </tbody>\n",
       "</table>\n",
       "</div>"
      ],
      "text/plain": [
       "            Timestamp\n",
       "employment           \n",
       "Full-time         565\n",
       "Part-time         144\n",
       "Retired            20\n",
       "Unemployed        125\n",
       "blank               4"
      ]
     },
     "execution_count": 39,
     "metadata": {},
     "output_type": "execute_result"
    }
   ],
   "source": [
    "df[['Timestamp', 'employment']].groupby('employment').count()"
   ]
  },
  {
   "cell_type": "markdown",
   "metadata": {},
   "source": [
    "Are students considered unemployed or full-time?"
   ]
  },
  {
   "cell_type": "code",
   "execution_count": 40,
   "metadata": {},
   "outputs": [
    {
     "data": {
      "text/html": [
       "<div>\n",
       "<style scoped>\n",
       "    .dataframe tbody tr th:only-of-type {\n",
       "        vertical-align: middle;\n",
       "    }\n",
       "\n",
       "    .dataframe tbody tr th {\n",
       "        vertical-align: top;\n",
       "    }\n",
       "\n",
       "    .dataframe thead th {\n",
       "        text-align: right;\n",
       "    }\n",
       "</style>\n",
       "<table border=\"1\" class=\"dataframe\">\n",
       "  <thead>\n",
       "    <tr style=\"text-align: right;\">\n",
       "      <th></th>\n",
       "      <th></th>\n",
       "      <th>Timestamp</th>\n",
       "    </tr>\n",
       "    <tr>\n",
       "      <th>employment</th>\n",
       "      <th>age</th>\n",
       "      <th></th>\n",
       "    </tr>\n",
       "  </thead>\n",
       "  <tbody>\n",
       "    <tr>\n",
       "      <th rowspan=\"8\" valign=\"top\">Full-time</th>\n",
       "      <th>17-18</th>\n",
       "      <td>5</td>\n",
       "    </tr>\n",
       "    <tr>\n",
       "      <th>19-21</th>\n",
       "      <td>24</td>\n",
       "    </tr>\n",
       "    <tr>\n",
       "      <th>22-29</th>\n",
       "      <td>287</td>\n",
       "    </tr>\n",
       "    <tr>\n",
       "      <th>30-40</th>\n",
       "      <td>177</td>\n",
       "    </tr>\n",
       "    <tr>\n",
       "      <th>41-50</th>\n",
       "      <td>20</td>\n",
       "    </tr>\n",
       "    <tr>\n",
       "      <th>51-64</th>\n",
       "      <td>20</td>\n",
       "    </tr>\n",
       "    <tr>\n",
       "      <th>65+</th>\n",
       "      <td>1</td>\n",
       "    </tr>\n",
       "    <tr>\n",
       "      <th>blank</th>\n",
       "      <td>31</td>\n",
       "    </tr>\n",
       "    <tr>\n",
       "      <th rowspan=\"8\" valign=\"top\">Part-time</th>\n",
       "      <th>0-16</th>\n",
       "      <td>3</td>\n",
       "    </tr>\n",
       "    <tr>\n",
       "      <th>17-18</th>\n",
       "      <td>17</td>\n",
       "    </tr>\n",
       "    <tr>\n",
       "      <th>19-21</th>\n",
       "      <td>37</td>\n",
       "    </tr>\n",
       "    <tr>\n",
       "      <th>22-29</th>\n",
       "      <td>58</td>\n",
       "    </tr>\n",
       "    <tr>\n",
       "      <th>30-40</th>\n",
       "      <td>14</td>\n",
       "    </tr>\n",
       "    <tr>\n",
       "      <th>41-50</th>\n",
       "      <td>5</td>\n",
       "    </tr>\n",
       "    <tr>\n",
       "      <th>51-64</th>\n",
       "      <td>1</td>\n",
       "    </tr>\n",
       "    <tr>\n",
       "      <th>blank</th>\n",
       "      <td>9</td>\n",
       "    </tr>\n",
       "    <tr>\n",
       "      <th rowspan=\"4\" valign=\"top\">Retired</th>\n",
       "      <th>30-40</th>\n",
       "      <td>7</td>\n",
       "    </tr>\n",
       "    <tr>\n",
       "      <th>51-64</th>\n",
       "      <td>8</td>\n",
       "    </tr>\n",
       "    <tr>\n",
       "      <th>65+</th>\n",
       "      <td>3</td>\n",
       "    </tr>\n",
       "    <tr>\n",
       "      <th>blank</th>\n",
       "      <td>2</td>\n",
       "    </tr>\n",
       "    <tr>\n",
       "      <th rowspan=\"7\" valign=\"top\">Unemployed</th>\n",
       "      <th>0-16</th>\n",
       "      <td>14</td>\n",
       "    </tr>\n",
       "    <tr>\n",
       "      <th>17-18</th>\n",
       "      <td>16</td>\n",
       "    </tr>\n",
       "    <tr>\n",
       "      <th>19-21</th>\n",
       "      <td>33</td>\n",
       "    </tr>\n",
       "    <tr>\n",
       "      <th>22-29</th>\n",
       "      <td>44</td>\n",
       "    </tr>\n",
       "    <tr>\n",
       "      <th>30-40</th>\n",
       "      <td>8</td>\n",
       "    </tr>\n",
       "    <tr>\n",
       "      <th>41-50</th>\n",
       "      <td>5</td>\n",
       "    </tr>\n",
       "    <tr>\n",
       "      <th>blank</th>\n",
       "      <td>5</td>\n",
       "    </tr>\n",
       "    <tr>\n",
       "      <th rowspan=\"3\" valign=\"top\">blank</th>\n",
       "      <th>22-29</th>\n",
       "      <td>1</td>\n",
       "    </tr>\n",
       "    <tr>\n",
       "      <th>30-40</th>\n",
       "      <td>2</td>\n",
       "    </tr>\n",
       "    <tr>\n",
       "      <th>65+</th>\n",
       "      <td>1</td>\n",
       "    </tr>\n",
       "  </tbody>\n",
       "</table>\n",
       "</div>"
      ],
      "text/plain": [
       "                  Timestamp\n",
       "employment age             \n",
       "Full-time  17-18          5\n",
       "           19-21         24\n",
       "           22-29        287\n",
       "           30-40        177\n",
       "           41-50         20\n",
       "           51-64         20\n",
       "           65+            1\n",
       "           blank         31\n",
       "Part-time  0-16           3\n",
       "           17-18         17\n",
       "           19-21         37\n",
       "           22-29         58\n",
       "           30-40         14\n",
       "           41-50          5\n",
       "           51-64          1\n",
       "           blank          9\n",
       "Retired    30-40          7\n",
       "           51-64          8\n",
       "           65+            3\n",
       "           blank          2\n",
       "Unemployed 0-16          14\n",
       "           17-18         16\n",
       "           19-21         33\n",
       "           22-29         44\n",
       "           30-40          8\n",
       "           41-50          5\n",
       "           blank          5\n",
       "blank      22-29          1\n",
       "           30-40          2\n",
       "           65+            1"
      ]
     },
     "execution_count": 40,
     "metadata": {},
     "output_type": "execute_result"
    }
   ],
   "source": [
    "df[['Timestamp', 'age', 'employment']].groupby(['employment', 'age']).count()"
   ]
  },
  {
   "cell_type": "code",
   "execution_count": 41,
   "metadata": {},
   "outputs": [
    {
     "data": {
      "text/html": [
       "<div>\n",
       "<style scoped>\n",
       "    .dataframe tbody tr th:only-of-type {\n",
       "        vertical-align: middle;\n",
       "    }\n",
       "\n",
       "    .dataframe tbody tr th {\n",
       "        vertical-align: top;\n",
       "    }\n",
       "\n",
       "    .dataframe thead th {\n",
       "        text-align: right;\n",
       "    }\n",
       "</style>\n",
       "<table border=\"1\" class=\"dataframe\">\n",
       "  <thead>\n",
       "    <tr style=\"text-align: right;\">\n",
       "      <th></th>\n",
       "      <th></th>\n",
       "      <th>Timestamp</th>\n",
       "    </tr>\n",
       "    <tr>\n",
       "      <th>age</th>\n",
       "      <th>employment</th>\n",
       "      <th></th>\n",
       "    </tr>\n",
       "  </thead>\n",
       "  <tbody>\n",
       "    <tr>\n",
       "      <th rowspan=\"2\" valign=\"top\">0-16</th>\n",
       "      <th>Part-time</th>\n",
       "      <td>3</td>\n",
       "    </tr>\n",
       "    <tr>\n",
       "      <th>Unemployed</th>\n",
       "      <td>14</td>\n",
       "    </tr>\n",
       "    <tr>\n",
       "      <th rowspan=\"3\" valign=\"top\">17-18</th>\n",
       "      <th>Full-time</th>\n",
       "      <td>5</td>\n",
       "    </tr>\n",
       "    <tr>\n",
       "      <th>Part-time</th>\n",
       "      <td>17</td>\n",
       "    </tr>\n",
       "    <tr>\n",
       "      <th>Unemployed</th>\n",
       "      <td>16</td>\n",
       "    </tr>\n",
       "    <tr>\n",
       "      <th rowspan=\"3\" valign=\"top\">19-21</th>\n",
       "      <th>Full-time</th>\n",
       "      <td>24</td>\n",
       "    </tr>\n",
       "    <tr>\n",
       "      <th>Part-time</th>\n",
       "      <td>37</td>\n",
       "    </tr>\n",
       "    <tr>\n",
       "      <th>Unemployed</th>\n",
       "      <td>33</td>\n",
       "    </tr>\n",
       "    <tr>\n",
       "      <th rowspan=\"4\" valign=\"top\">22-29</th>\n",
       "      <th>Full-time</th>\n",
       "      <td>287</td>\n",
       "    </tr>\n",
       "    <tr>\n",
       "      <th>Part-time</th>\n",
       "      <td>58</td>\n",
       "    </tr>\n",
       "    <tr>\n",
       "      <th>Unemployed</th>\n",
       "      <td>44</td>\n",
       "    </tr>\n",
       "    <tr>\n",
       "      <th>blank</th>\n",
       "      <td>1</td>\n",
       "    </tr>\n",
       "    <tr>\n",
       "      <th rowspan=\"5\" valign=\"top\">30-40</th>\n",
       "      <th>Full-time</th>\n",
       "      <td>177</td>\n",
       "    </tr>\n",
       "    <tr>\n",
       "      <th>Part-time</th>\n",
       "      <td>14</td>\n",
       "    </tr>\n",
       "    <tr>\n",
       "      <th>Retired</th>\n",
       "      <td>7</td>\n",
       "    </tr>\n",
       "    <tr>\n",
       "      <th>Unemployed</th>\n",
       "      <td>8</td>\n",
       "    </tr>\n",
       "    <tr>\n",
       "      <th>blank</th>\n",
       "      <td>2</td>\n",
       "    </tr>\n",
       "    <tr>\n",
       "      <th rowspan=\"3\" valign=\"top\">41-50</th>\n",
       "      <th>Full-time</th>\n",
       "      <td>20</td>\n",
       "    </tr>\n",
       "    <tr>\n",
       "      <th>Part-time</th>\n",
       "      <td>5</td>\n",
       "    </tr>\n",
       "    <tr>\n",
       "      <th>Unemployed</th>\n",
       "      <td>5</td>\n",
       "    </tr>\n",
       "    <tr>\n",
       "      <th rowspan=\"3\" valign=\"top\">51-64</th>\n",
       "      <th>Full-time</th>\n",
       "      <td>20</td>\n",
       "    </tr>\n",
       "    <tr>\n",
       "      <th>Part-time</th>\n",
       "      <td>1</td>\n",
       "    </tr>\n",
       "    <tr>\n",
       "      <th>Retired</th>\n",
       "      <td>8</td>\n",
       "    </tr>\n",
       "    <tr>\n",
       "      <th rowspan=\"3\" valign=\"top\">65+</th>\n",
       "      <th>Full-time</th>\n",
       "      <td>1</td>\n",
       "    </tr>\n",
       "    <tr>\n",
       "      <th>Retired</th>\n",
       "      <td>3</td>\n",
       "    </tr>\n",
       "    <tr>\n",
       "      <th>blank</th>\n",
       "      <td>1</td>\n",
       "    </tr>\n",
       "    <tr>\n",
       "      <th rowspan=\"4\" valign=\"top\">blank</th>\n",
       "      <th>Full-time</th>\n",
       "      <td>31</td>\n",
       "    </tr>\n",
       "    <tr>\n",
       "      <th>Part-time</th>\n",
       "      <td>9</td>\n",
       "    </tr>\n",
       "    <tr>\n",
       "      <th>Retired</th>\n",
       "      <td>2</td>\n",
       "    </tr>\n",
       "    <tr>\n",
       "      <th>Unemployed</th>\n",
       "      <td>5</td>\n",
       "    </tr>\n",
       "  </tbody>\n",
       "</table>\n",
       "</div>"
      ],
      "text/plain": [
       "                  Timestamp\n",
       "age   employment           \n",
       "0-16  Part-time           3\n",
       "      Unemployed         14\n",
       "17-18 Full-time           5\n",
       "      Part-time          17\n",
       "      Unemployed         16\n",
       "19-21 Full-time          24\n",
       "      Part-time          37\n",
       "      Unemployed         33\n",
       "22-29 Full-time         287\n",
       "      Part-time          58\n",
       "      Unemployed         44\n",
       "      blank               1\n",
       "30-40 Full-time         177\n",
       "      Part-time          14\n",
       "      Retired             7\n",
       "      Unemployed          8\n",
       "      blank               2\n",
       "41-50 Full-time          20\n",
       "      Part-time           5\n",
       "      Unemployed          5\n",
       "51-64 Full-time          20\n",
       "      Part-time           1\n",
       "      Retired             8\n",
       "65+   Full-time           1\n",
       "      Retired             3\n",
       "      blank               1\n",
       "blank Full-time          31\n",
       "      Part-time           9\n",
       "      Retired             2\n",
       "      Unemployed          5"
      ]
     },
     "execution_count": 41,
     "metadata": {},
     "output_type": "execute_result"
    }
   ],
   "source": [
    "df[['Timestamp', 'age', 'employment']].groupby(['age', 'employment']).count()"
   ]
  },
  {
   "cell_type": "markdown",
   "metadata": {},
   "source": [
    "There are 7 retiress in their 30s!  \n",
    "A bunch of teens chose part-time instead of unemployed."
   ]
  },
  {
   "cell_type": "markdown",
   "metadata": {},
   "source": [
    "### Trips per year"
   ]
  },
  {
   "cell_type": "code",
   "execution_count": 33,
   "metadata": {},
   "outputs": [],
   "source": [
    "df.rename(index=str, columns={'On average, how many trips per year do you take?': 'trips_per_year'}, inplace = True)"
   ]
  },
  {
   "cell_type": "code",
   "execution_count": 34,
   "metadata": {},
   "outputs": [
    {
     "data": {
      "text/plain": [
       "8"
      ]
     },
     "execution_count": 34,
     "metadata": {},
     "output_type": "execute_result"
    }
   ],
   "source": [
    "df.shape[0] - df['trips_per_year'].count()"
   ]
  },
  {
   "cell_type": "code",
   "execution_count": 35,
   "metadata": {},
   "outputs": [],
   "source": [
    "df['trips_per_year'].fillna(0, inplace = True)"
   ]
  },
  {
   "cell_type": "code",
   "execution_count": 36,
   "metadata": {},
   "outputs": [],
   "source": [
    "df['trips_per_year'] = pd.to_numeric(df['trips_per_year'])"
   ]
  },
  {
   "cell_type": "code",
   "execution_count": 37,
   "metadata": {},
   "outputs": [
    {
     "data": {
      "text/plain": [
       "count    858.000000\n",
       "mean       4.620047\n",
       "std        5.487031\n",
       "min        0.000000\n",
       "25%        2.000000\n",
       "50%        3.000000\n",
       "75%        5.000000\n",
       "max       60.000000\n",
       "Name: trips_per_year, dtype: float64"
      ]
     },
     "execution_count": 37,
     "metadata": {},
     "output_type": "execute_result"
    }
   ],
   "source": [
    "df['trips_per_year'].describe()"
   ]
  },
  {
   "cell_type": "markdown",
   "metadata": {},
   "source": [
    "60 trips in a year! These folks travel, who would've guessed!"
   ]
  },
  {
   "cell_type": "code",
   "execution_count": 38,
   "metadata": {},
   "outputs": [
    {
     "data": {
      "text/plain": [
       "(array([105., 386., 210.,  48.,  20.,  32.,  13.,  10.,   0.,   0.,  15.,\n",
       "          0.,   5.,   1.,   0.,   7.,   0.,   2.,   0.,   0.,   3.,   0.,\n",
       "          0.,   0.,   0.,   0.,   0.,   0.,   0.,   1.]),\n",
       " array([ 0.,  2.,  4.,  6.,  8., 10., 12., 14., 16., 18., 20., 22., 24.,\n",
       "        26., 28., 30., 32., 34., 36., 38., 40., 42., 44., 46., 48., 50.,\n",
       "        52., 54., 56., 58., 60.]),\n",
       " <a list of 30 Patch objects>)"
      ]
     },
     "execution_count": 38,
     "metadata": {},
     "output_type": "execute_result"
    },
    {
     "data": {
      "image/png": "[encoded data removed]",
      "text/plain": [
       "<Figure size 432x288 with 1 Axes>"
      ]
     },
     "metadata": {
      "needs_background": "light"
     },
     "output_type": "display_data"
    }
   ],
   "source": [
    "fig = plt.figure()\n",
    "axs = fig.add_subplot(111)\n",
    "axs.hist(df['trips_per_year'], bins = 30)"
   ]
  },
  {
   "cell_type": "code",
   "execution_count": 45,
   "metadata": {},
   "outputs": [
    {
     "data": {
      "image/png": "[encoded data removed]",
      "text/plain": [
       "<Figure size 432x288 with 1 Axes>"
      ]
     },
     "metadata": {
      "needs_background": "light"
     },
     "output_type": "display_data"
    }
   ],
   "source": [
    "fig = sns.kdeplot(df['trips_per_year'])\n",
    "fig.set_ylabel('freq')\n",
    "fig.set_title('Trips per year')\n",
    "fig.legend_.remove()\n",
    "plt.savefig('../resources/tripsPerYear.png')"
   ]
  },
  {
   "cell_type": "markdown",
   "metadata": {},
   "source": [
    "There are a few little peaks at 10, 20, 30, people are probably rounding off the number of trips they've taken."
   ]
  },
  {
   "cell_type": "markdown",
   "metadata": {},
   "source": [
    "### Days per year"
   ]
  },
  {
   "cell_type": "code",
   "execution_count": 46,
   "metadata": {},
   "outputs": [],
   "source": [
    "df.rename(index=str, columns={'On average, how many days per year do you travel?': 'days_per_year'}, inplace = True)"
   ]
  },
  {
   "cell_type": "code",
   "execution_count": 47,
   "metadata": {},
   "outputs": [
    {
     "data": {
      "text/plain": [
       "10"
      ]
     },
     "execution_count": 47,
     "metadata": {},
     "output_type": "execute_result"
    }
   ],
   "source": [
    "df.shape[0] - df['days_per_year'].count()"
   ]
  },
  {
   "cell_type": "code",
   "execution_count": 48,
   "metadata": {},
   "outputs": [],
   "source": [
    "df['days_per_year'].fillna(0, inplace = True)"
   ]
  },
  {
   "cell_type": "code",
   "execution_count": 49,
   "metadata": {},
   "outputs": [
    {
     "data": {
      "text/plain": [
       "(array([ 68., 128., 213.,  81., 173.,  51.,  48.,   4.,  24.,   6.,   5.,\n",
       "          3.,  13.,  13.,   0.,   0.,   4.,   2.,   0.,   1.,   5.,   1.,\n",
       "          0.,   0.,   0.,   0.,   0.,   5.,   0.,   0.,   1.,   1.,   0.,\n",
       "          0.,   0.,   0.,   0.,   0.,   0.,   0.,   0.,   3.,   0.,   0.,\n",
       "          0.,   1.,   0.,   0.,   0.,   4.]),\n",
       " array([  0. ,   7.3,  14.6,  21.9,  29.2,  36.5,  43.8,  51.1,  58.4,\n",
       "         65.7,  73. ,  80.3,  87.6,  94.9, 102.2, 109.5, 116.8, 124.1,\n",
       "        131.4, 138.7, 146. , 153.3, 160.6, 167.9, 175.2, 182.5, 189.8,\n",
       "        197.1, 204.4, 211.7, 219. , 226.3, 233.6, 240.9, 248.2, 255.5,\n",
       "        262.8, 270.1, 277.4, 284.7, 292. , 299.3, 306.6, 313.9, 321.2,\n",
       "        328.5, 335.8, 343.1, 350.4, 357.7, 365. ]),\n",
       " <a list of 50 Patch objects>)"
      ]
     },
     "execution_count": 49,
     "metadata": {},
     "output_type": "execute_result"
    },
    {
     "data": {
      "image/png": "[encoded data removed]",
      "text/plain": [
       "<Figure size 432x288 with 1 Axes>"
      ]
     },
     "metadata": {
      "needs_background": "light"
     },
     "output_type": "display_data"
    }
   ],
   "source": [
    "fig = plt.figure()\n",
    "axs = fig.add_subplot(111)\n",
    "axs.hist(df['days_per_year'], bins = 50)"
   ]
  },
  {
   "cell_type": "code",
   "execution_count": 55,
   "metadata": {},
   "outputs": [
    {
     "data": {
      "image/png": "[encoded data removed]",
      "text/plain": [
       "<Figure size 432x288 with 1 Axes>"
      ]
     },
     "metadata": {
      "needs_background": "light"
     },
     "output_type": "display_data"
    }
   ],
   "source": [
    "fig = sns.kdeplot(df['days_per_year'])\n",
    "fig.set_ylabel('freq')\n",
    "fig.set_title('Travel days per year')\n",
    "fig.legend_.remove()\n",
    "plt.savefig('../resources/daysPerYear.png')"
   ]
  },
  {
   "cell_type": "code",
   "execution_count": 54,
   "metadata": {},
   "outputs": [
    {
     "data": {
      "text/plain": [
       "4"
      ]
     },
     "execution_count": 54,
     "metadata": {},
     "output_type": "execute_result"
    }
   ],
   "source": [
    "df['Timestamp'][df['days_per_year'] == 365].count()"
   ]
  },
  {
   "cell_type": "markdown",
   "metadata": {},
   "source": [
    "Again people are rounding, at 50, 100, 200. Four people travelled 365 days!"
   ]
  },
  {
   "cell_type": "markdown",
   "metadata": {},
   "source": [
    "### Business days"
   ]
  },
  {
   "cell_type": "code",
   "execution_count": 55,
   "metadata": {},
   "outputs": [],
   "source": [
    "df.rename(index=str, columns={'On average, how many of your travel days per year are for business? ': 'bus_days'}, inplace = True)"
   ]
  },
  {
   "cell_type": "code",
   "execution_count": 56,
   "metadata": {},
   "outputs": [
    {
     "data": {
      "text/plain": [
       "16"
      ]
     },
     "execution_count": 56,
     "metadata": {},
     "output_type": "execute_result"
    }
   ],
   "source": [
    "df.shape[0] - df['bus_days'].count()"
   ]
  },
  {
   "cell_type": "code",
   "execution_count": 57,
   "metadata": {},
   "outputs": [],
   "source": [
    "df['bus_days'].fillna(0, inplace = True)"
   ]
  },
  {
   "cell_type": "code",
   "execution_count": 58,
   "metadata": {},
   "outputs": [
    {
     "data": {
      "text/plain": [
       "count    858.000000\n",
       "mean       5.377622\n",
       "std       20.510681\n",
       "min        0.000000\n",
       "25%        0.000000\n",
       "50%        0.000000\n",
       "75%        3.000000\n",
       "max      300.000000\n",
       "Name: bus_days, dtype: float64"
      ]
     },
     "execution_count": 58,
     "metadata": {},
     "output_type": "execute_result"
    }
   ],
   "source": [
    "df['bus_days'].describe()"
   ]
  },
  {
   "cell_type": "markdown",
   "metadata": {},
   "source": [
    "Most people are not travelling for business"
   ]
  },
  {
   "cell_type": "code",
   "execution_count": 59,
   "metadata": {},
   "outputs": [
    {
     "name": "stderr",
     "output_type": "stream",
     "text": [
      "/home/eric/anaconda3/lib/python3.7/site-packages/scipy/stats/stats.py:1713: FutureWarning: Using a non-tuple sequence for multidimensional indexing is deprecated; use `arr[tuple(seq)]` instead of `arr[seq]`. In the future this will be interpreted as an array index, `arr[np.array(seq)]`, which will result either in an error or a different result.\n",
      "  return np.add.reduce(sorted[indexer] * weights, axis=axis) / sumval\n"
     ]
    },
    {
     "data": {
      "text/plain": [
       "<matplotlib.axes._subplots.AxesSubplot at 0x7f20fe54b6d8>"
      ]
     },
     "execution_count": 59,
     "metadata": {},
     "output_type": "execute_result"
    },
    {
     "data": {
      "image/png": "[encoded data removed]",
      "text/plain": [
       "<Figure size 432x288 with 1 Axes>"
      ]
     },
     "metadata": {},
     "output_type": "display_data"
    }
   ],
   "source": [
    "sns.kdeplot(df['bus_days'])"
   ]
  },
  {
   "cell_type": "markdown",
   "metadata": {},
   "source": [
    "There is probably a bit of rounding but most people chose a low number or zero."
   ]
  },
  {
   "cell_type": "markdown",
   "metadata": {},
   "source": [
    "### Money spent"
   ]
  },
  {
   "cell_type": "code",
   "execution_count": 60,
   "metadata": {},
   "outputs": [],
   "source": [
    "df.rename(index=str, columns={'On average, how much money do spend on average per year for travel (including all costs)?':'money_spent'}, inplace=True)"
   ]
  },
  {
   "cell_type": "code",
   "execution_count": 61,
   "metadata": {},
   "outputs": [
    {
     "data": {
      "text/plain": [
       "78"
      ]
     },
     "execution_count": 61,
     "metadata": {},
     "output_type": "execute_result"
    }
   ],
   "source": [
    "df.shape[0] - df['money_spent'].count()"
   ]
  },
  {
   "cell_type": "markdown",
   "metadata": {},
   "source": [
    "Were people uncomfortable answering a question about money?  \n",
    "Now I'm rethinking how interesting it would be to look at how many missing values there are for each question..."
   ]
  },
  {
   "cell_type": "code",
   "execution_count": 62,
   "metadata": {},
   "outputs": [],
   "source": [
    "df['money_spent'].fillna(0, inplace = True)"
   ]
  },
  {
   "cell_type": "markdown",
   "metadata": {},
   "source": [
    "This imputation with zero will sway averages, but it makes it so much easier to look at the column so I'll just try to remember the treatment and exclude missin gvalues from a potential rigorous numerical analysis."
   ]
  },
  {
   "cell_type": "code",
   "execution_count": 63,
   "metadata": {},
   "outputs": [
    {
     "data": {
      "text/plain": [
       "count       858.000000\n",
       "mean       6392.304196\n",
       "std       20774.827448\n",
       "min           0.000000\n",
       "25%        1500.000000\n",
       "50%        3000.000000\n",
       "75%        6000.000000\n",
       "max      450000.000000\n",
       "Name: money_spent, dtype: float64"
      ]
     },
     "execution_count": 63,
     "metadata": {},
     "output_type": "execute_result"
    }
   ],
   "source": [
    "df['money_spent'].describe()"
   ]
  },
  {
   "cell_type": "code",
   "execution_count": 64,
   "metadata": {},
   "outputs": [
    {
     "data": {
      "text/plain": [
       "(array([703., 111.,  19.,  10.,   5.,   4.,   1.,   1.,   2.,   0.,   0.,\n",
       "          0.,   0.,   0.,   0.,   0.,   0.,   0.,   0.,   0.,   0.,   0.,\n",
       "          0.,   0.,   0.,   0.,   0.,   0.,   0.,   0.,   0.,   0.,   0.,\n",
       "          0.,   0.,   0.,   0.,   0.,   1.,   0.,   0.,   0.,   0.,   0.,\n",
       "          0.,   0.,   0.,   0.,   0.,   1.]),\n",
       " array([     0.,   9000.,  18000.,  27000.,  36000.,  45000.,  54000.,\n",
       "         63000.,  72000.,  81000.,  90000.,  99000., 108000., 117000.,\n",
       "        126000., 135000., 144000., 153000., 162000., 171000., 180000.,\n",
       "        189000., 198000., 207000., 216000., 225000., 234000., 243000.,\n",
       "        252000., 261000., 270000., 279000., 288000., 297000., 306000.,\n",
       "        315000., 324000., 333000., 342000., 351000., 360000., 369000.,\n",
       "        378000., 387000., 396000., 405000., 414000., 423000., 432000.,\n",
       "        441000., 450000.]),\n",
       " <a list of 50 Patch objects>)"
      ]
     },
     "execution_count": 64,
     "metadata": {},
     "output_type": "execute_result"
    },
    {
     "data": {
      "image/png": "[encoded data removed]",
      "text/plain": [
       "<Figure size 432x288 with 1 Axes>"
      ]
     },
     "metadata": {},
     "output_type": "display_data"
    }
   ],
   "source": [
    "fig = plt.figure()\n",
    "axs = fig.add_subplot(111)\n",
    "axs.hist(df['money_spent'], bins = 50)"
   ]
  },
  {
   "cell_type": "markdown",
   "metadata": {},
   "source": [
    "The outlier max value is making this indecipherable."
   ]
  },
  {
   "cell_type": "code",
   "execution_count": 65,
   "metadata": {},
   "outputs": [
    {
     "data": {
      "text/plain": [
       "(array([236., 198.,  74., 159.,  25.,  14.,  69.,   7.,   3.,  28.,   1.,\n",
       "          0.,  16.,   0.,   0.,   3.,   0.,   0.,   8.,   0.,   2.,   0.,\n",
       "          1.,   1.,   0.,   3.,   0.,   0.,   0.,   0.,   0.,   4.,   0.,\n",
       "          0.,   0.,   0.,   0.,   1.,   0.,   0.,   0.,   0.,   0.,   1.,\n",
       "          0.,   0.,   1.,   0.,   0.,   1.]),\n",
       " array([    0.,  1600.,  3200.,  4800.,  6400.,  8000.,  9600., 11200.,\n",
       "        12800., 14400., 16000., 17600., 19200., 20800., 22400., 24000.,\n",
       "        25600., 27200., 28800., 30400., 32000., 33600., 35200., 36800.,\n",
       "        38400., 40000., 41600., 43200., 44800., 46400., 48000., 49600.,\n",
       "        51200., 52800., 54400., 56000., 57600., 59200., 60800., 62400.,\n",
       "        64000., 65600., 67200., 68800., 70400., 72000., 73600., 75200.,\n",
       "        76800., 78400., 80000.]),\n",
       " <a list of 50 Patch objects>)"
      ]
     },
     "execution_count": 65,
     "metadata": {},
     "output_type": "execute_result"
    },
    {
     "data": {
      "image/png": "[encoded data removed]",
      "text/plain": [
       "<Figure size 432x288 with 1 Axes>"
      ]
     },
     "metadata": {},
     "output_type": "display_data"
    }
   ],
   "source": [
    "fig = plt.figure()\n",
    "axs = fig.add_subplot(111)\n",
    "axs.hist(df['money_spent'][df['money_spent'] < 100000], bins = 50)"
   ]
  },
  {
   "cell_type": "markdown",
   "metadata": {},
   "source": [
    "Again people are rounding for convenience."
   ]
  },
  {
   "cell_type": "code",
   "execution_count": 66,
   "metadata": {},
   "outputs": [
    {
     "data": {
      "text/plain": [
       "(array([ 92.,  16.,  23.,   9.,   7.,  44.,  10.,  35.,   3.,   0.,  73.,\n",
       "          1.,  37.,   2.,   0.,  82.,   0.,  10.,   1.,   0.,  59.,   0.,\n",
       "          3.,   1.,   0., 118.,   0.,   0.,   0.,   0.,  41.,   0.,   2.,\n",
       "          0.,   0.,  20.,   0.,   3.,   0.,   0.,  10.,   0.,   0.,   0.,\n",
       "          1.,   3.,   0.,   0.,   0.,  69.]),\n",
       " array([    0.,   200.,   400.,   600.,   800.,  1000.,  1200.,  1400.,\n",
       "         1600.,  1800.,  2000.,  2200.,  2400.,  2600.,  2800.,  3000.,\n",
       "         3200.,  3400.,  3600.,  3800.,  4000.,  4200.,  4400.,  4600.,\n",
       "         4800.,  5000.,  5200.,  5400.,  5600.,  5800.,  6000.,  6200.,\n",
       "         6400.,  6600.,  6800.,  7000.,  7200.,  7400.,  7600.,  7800.,\n",
       "         8000.,  8200.,  8400.,  8600.,  8800.,  9000.,  9200.,  9400.,\n",
       "         9600.,  9800., 10000.]),\n",
       " <a list of 50 Patch objects>)"
      ]
     },
     "execution_count": 66,
     "metadata": {},
     "output_type": "execute_result"
    },
    {
     "data": {
      "image/png": "[encoded data removed]",
      "text/plain": [
       "<Figure size 432x288 with 1 Axes>"
      ]
     },
     "metadata": {},
     "output_type": "display_data"
    }
   ],
   "source": [
    "fig = plt.figure()\n",
    "axs = fig.add_subplot(111)\n",
    "axs.hist(df['money_spent'][df['money_spent'] <= 10000], bins = 50)"
   ]
  },
  {
   "cell_type": "markdown",
   "metadata": {},
   "source": [
    "**Note** 78 of the zero bin were imputed missing values"
   ]
  },
  {
   "cell_type": "markdown",
   "metadata": {},
   "source": [
    "Are the people who travel the most spending the most?"
   ]
  },
  {
   "cell_type": "code",
   "execution_count": 67,
   "metadata": {},
   "outputs": [
    {
     "name": "stderr",
     "output_type": "stream",
     "text": [
      "/home/eric/anaconda3/lib/python3.7/site-packages/scipy/stats/stats.py:1713: FutureWarning: Using a non-tuple sequence for multidimensional indexing is deprecated; use `arr[tuple(seq)]` instead of `arr[seq]`. In the future this will be interpreted as an array index, `arr[np.array(seq)]`, which will result either in an error or a different result.\n",
      "  return np.add.reduce(sorted[indexer] * weights, axis=axis) / sumval\n"
     ]
    },
    {
     "data": {
      "text/plain": [
       "<seaborn.axisgrid.JointGrid at 0x7f20fe318908>"
      ]
     },
     "execution_count": 67,
     "metadata": {},
     "output_type": "execute_result"
    },
    {
     "data": {
      "image/png": "[encoded data removed]",
      "text/plain": [
       "<Figure size 432x432 with 3 Axes>"
      ]
     },
     "metadata": {},
     "output_type": "display_data"
    }
   ],
   "source": [
    "sns.jointplot(df['money_spent'], df['trips_per_year'])"
   ]
  },
  {
   "cell_type": "code",
   "execution_count": 68,
   "metadata": {},
   "outputs": [
    {
     "name": "stderr",
     "output_type": "stream",
     "text": [
      "/home/eric/anaconda3/lib/python3.7/site-packages/scipy/stats/stats.py:1713: FutureWarning: Using a non-tuple sequence for multidimensional indexing is deprecated; use `arr[tuple(seq)]` instead of `arr[seq]`. In the future this will be interpreted as an array index, `arr[np.array(seq)]`, which will result either in an error or a different result.\n",
      "  return np.add.reduce(sorted[indexer] * weights, axis=axis) / sumval\n"
     ]
    },
    {
     "data": {
      "text/plain": [
       "<seaborn.axisgrid.JointGrid at 0x7f20fe12d7b8>"
      ]
     },
     "execution_count": 68,
     "metadata": {},
     "output_type": "execute_result"
    },
    {
     "data": {
      "image/png": "[encoded data removed]",
      "text/plain": [
       "<Figure size 432x432 with 3 Axes>"
      ]
     },
     "metadata": {},
     "output_type": "display_data"
    }
   ],
   "source": [
    "df_plot = df[df['money_spent'] <= 100000]\n",
    "sns.jointplot(df_plot['money_spent'], df_plot['trips_per_year'], kind = 'hex')"
   ]
  },
  {
   "cell_type": "code",
   "execution_count": 69,
   "metadata": {},
   "outputs": [
    {
     "name": "stderr",
     "output_type": "stream",
     "text": [
      "/home/eric/anaconda3/lib/python3.7/site-packages/scipy/stats/stats.py:1713: FutureWarning: Using a non-tuple sequence for multidimensional indexing is deprecated; use `arr[tuple(seq)]` instead of `arr[seq]`. In the future this will be interpreted as an array index, `arr[np.array(seq)]`, which will result either in an error or a different result.\n",
      "  return np.add.reduce(sorted[indexer] * weights, axis=axis) / sumval\n"
     ]
    },
    {
     "data": {
      "text/plain": [
       "<seaborn.axisgrid.JointGrid at 0x7f20fdf6c908>"
      ]
     },
     "execution_count": 69,
     "metadata": {},
     "output_type": "execute_result"
    },
    {
     "data": {
      "image/png": "[encoded data removed]",
      "text/plain": [
       "<Figure size 432x432 with 3 Axes>"
      ]
     },
     "metadata": {},
     "output_type": "display_data"
    }
   ],
   "source": [
    "df_plotp = df[df['money_spent'] <= 10000]\n",
    "sns.jointplot(df_plotp['money_spent'], df_plotp['trips_per_year'], kind = 'hex')"
   ]
  },
  {
   "cell_type": "markdown",
   "metadata": {},
   "source": [
    "There is less variation in days per year than in money spent, with the restrictions in place."
   ]
  },
  {
   "cell_type": "markdown",
   "metadata": {},
   "source": [
    "### Meals"
   ]
  },
  {
   "cell_type": "code",
   "execution_count": 70,
   "metadata": {},
   "outputs": [],
   "source": [
    "df.rename(index=str, columns = {'On average, how many meals a day do you eat out while traveling?': 'meals'}, inplace = True)"
   ]
  },
  {
   "cell_type": "code",
   "execution_count": 71,
   "metadata": {},
   "outputs": [
    {
     "data": {
      "text/plain": [
       "14"
      ]
     },
     "execution_count": 71,
     "metadata": {},
     "output_type": "execute_result"
    }
   ],
   "source": [
    "df.shape[0] - df['meals'].count()"
   ]
  },
  {
   "cell_type": "code",
   "execution_count": 72,
   "metadata": {},
   "outputs": [],
   "source": [
    "df['meals'].fillna('0-24%', inplace = True)"
   ]
  },
  {
   "cell_type": "code",
   "execution_count": 73,
   "metadata": {},
   "outputs": [
    {
     "data": {
      "text/plain": [
       "count         858\n",
       "unique          4\n",
       "top       75-100%\n",
       "freq          372\n",
       "Name: meals, dtype: object"
      ]
     },
     "execution_count": 73,
     "metadata": {},
     "output_type": "execute_result"
    }
   ],
   "source": [
    "df['meals'].describe()"
   ]
  },
  {
   "cell_type": "code",
   "execution_count": 74,
   "metadata": {},
   "outputs": [
    {
     "data": {
      "text/plain": [
       "array(['25-49%', '0-24%', '75-100%', '50-74%'], dtype=object)"
      ]
     },
     "execution_count": 74,
     "metadata": {},
     "output_type": "execute_result"
    }
   ],
   "source": [
    "df['meals'].unique()"
   ]
  },
  {
   "cell_type": "code",
   "execution_count": 75,
   "metadata": {},
   "outputs": [
    {
     "data": {
      "text/html": [
       "<div>\n",
       "<style scoped>\n",
       "    .dataframe tbody tr th:only-of-type {\n",
       "        vertical-align: middle;\n",
       "    }\n",
       "\n",
       "    .dataframe tbody tr th {\n",
       "        vertical-align: top;\n",
       "    }\n",
       "\n",
       "    .dataframe thead th {\n",
       "        text-align: right;\n",
       "    }\n",
       "</style>\n",
       "<table border=\"1\" class=\"dataframe\">\n",
       "  <thead>\n",
       "    <tr style=\"text-align: right;\">\n",
       "      <th></th>\n",
       "      <th>Timestamp</th>\n",
       "    </tr>\n",
       "    <tr>\n",
       "      <th>meals</th>\n",
       "      <th></th>\n",
       "    </tr>\n",
       "  </thead>\n",
       "  <tbody>\n",
       "    <tr>\n",
       "      <th>0-24%</th>\n",
       "      <td>72</td>\n",
       "    </tr>\n",
       "    <tr>\n",
       "      <th>25-49%</th>\n",
       "      <td>128</td>\n",
       "    </tr>\n",
       "    <tr>\n",
       "      <th>50-74%</th>\n",
       "      <td>286</td>\n",
       "    </tr>\n",
       "    <tr>\n",
       "      <th>75-100%</th>\n",
       "      <td>372</td>\n",
       "    </tr>\n",
       "  </tbody>\n",
       "</table>\n",
       "</div>"
      ],
      "text/plain": [
       "         Timestamp\n",
       "meals             \n",
       "0-24%           72\n",
       "25-49%         128\n",
       "50-74%         286\n",
       "75-100%        372"
      ]
     },
     "execution_count": 75,
     "metadata": {},
     "output_type": "execute_result"
    }
   ],
   "source": [
    "df[['Timestamp', 'meals']].groupby('meals').count()"
   ]
  },
  {
   "cell_type": "markdown",
   "metadata": {},
   "source": [
    "### Motivation"
   ]
  },
  {
   "cell_type": "code",
   "execution_count": 76,
   "metadata": {},
   "outputs": [],
   "source": [
    "df.rename(index=str, columns = {'What motivates you to travel?':'motivation'}, inplace = True)"
   ]
  },
  {
   "cell_type": "code",
   "execution_count": 77,
   "metadata": {},
   "outputs": [
    {
     "data": {
      "text/plain": [
       "109"
      ]
     },
     "execution_count": 77,
     "metadata": {},
     "output_type": "execute_result"
    }
   ],
   "source": [
    "df.shape[0] - df['motivation'].count()"
   ]
  },
  {
   "cell_type": "code",
   "execution_count": 78,
   "metadata": {},
   "outputs": [],
   "source": [
    "df['motivation'].fillna('None', inplace = True)"
   ]
  },
  {
   "cell_type": "code",
   "execution_count": 79,
   "metadata": {},
   "outputs": [],
   "source": [
    "df['motivation_word_count'] = df['motivation'].apply(lambda x: len(x.split()))"
   ]
  },
  {
   "cell_type": "code",
   "execution_count": 80,
   "metadata": {},
   "outputs": [
    {
     "data": {
      "text/html": [
       "<div>\n",
       "<style scoped>\n",
       "    .dataframe tbody tr th:only-of-type {\n",
       "        vertical-align: middle;\n",
       "    }\n",
       "\n",
       "    .dataframe tbody tr th {\n",
       "        vertical-align: top;\n",
       "    }\n",
       "\n",
       "    .dataframe thead th {\n",
       "        text-align: right;\n",
       "    }\n",
       "</style>\n",
       "<table border=\"1\" class=\"dataframe\">\n",
       "  <thead>\n",
       "    <tr style=\"text-align: right;\">\n",
       "      <th></th>\n",
       "      <th>motivation</th>\n",
       "      <th>motivation_word_count</th>\n",
       "    </tr>\n",
       "  </thead>\n",
       "  <tbody>\n",
       "    <tr>\n",
       "      <th>0</th>\n",
       "      <td>None</td>\n",
       "      <td>1</td>\n",
       "    </tr>\n",
       "    <tr>\n",
       "      <th>1</th>\n",
       "      <td>None</td>\n",
       "      <td>1</td>\n",
       "    </tr>\n",
       "    <tr>\n",
       "      <th>2</th>\n",
       "      <td>Inspiration and getting out of your comfort zone</td>\n",
       "      <td>8</td>\n",
       "    </tr>\n",
       "    <tr>\n",
       "      <th>3</th>\n",
       "      <td>None</td>\n",
       "      <td>1</td>\n",
       "    </tr>\n",
       "    <tr>\n",
       "      <th>4</th>\n",
       "      <td>Exploring cultures</td>\n",
       "      <td>2</td>\n",
       "    </tr>\n",
       "  </tbody>\n",
       "</table>\n",
       "</div>"
      ],
      "text/plain": [
       "                                         motivation  motivation_word_count\n",
       "0                                              None                      1\n",
       "1                                              None                      1\n",
       "2  Inspiration and getting out of your comfort zone                      8\n",
       "3                                              None                      1\n",
       "4                                Exploring cultures                      2"
      ]
     },
     "execution_count": 80,
     "metadata": {},
     "output_type": "execute_result"
    }
   ],
   "source": [
    "df[['motivation', 'motivation_word_count']].head()"
   ]
  },
  {
   "cell_type": "code",
   "execution_count": 81,
   "metadata": {},
   "outputs": [
    {
     "data": {
      "text/plain": [
       "count    858.000000\n",
       "mean       3.954545\n",
       "std        4.655109\n",
       "min        1.000000\n",
       "25%        1.000000\n",
       "50%        3.000000\n",
       "75%        5.000000\n",
       "max       67.000000\n",
       "Name: motivation_word_count, dtype: float64"
      ]
     },
     "execution_count": 81,
     "metadata": {},
     "output_type": "execute_result"
    }
   ],
   "source": [
    "df['motivation_word_count'].describe()"
   ]
  },
  {
   "cell_type": "code",
   "execution_count": 82,
   "metadata": {},
   "outputs": [],
   "source": [
    "pd.set_option('max_colwidth', 1000)"
   ]
  },
  {
   "cell_type": "code",
   "execution_count": 83,
   "metadata": {},
   "outputs": [
    {
     "data": {
      "text/plain": [
       "14     can't think of anything that excites a greater sense of childlike wonder than to be in a country where you are ignorant of almost everything. Suddenly you are five years old again. You can't read anything, you have only the most rudimentary sense of how things work, you can't even reliably cross a street without endangering your life. Your whole existence becomes a series of interesting guesses.” \n",
       "Name: motivation, dtype: object"
      ]
     },
     "execution_count": 83,
     "metadata": {},
     "output_type": "execute_result"
    }
   ],
   "source": [
    "df['motivation'][df['motivation_word_count'] == 67]"
   ]
  },
  {
   "cell_type": "markdown",
   "metadata": {},
   "source": [
    "This person took a moment to answer the question"
   ]
  },
  {
   "cell_type": "code",
   "execution_count": 84,
   "metadata": {},
   "outputs": [
    {
     "data": {
      "text/html": [
       "<div>\n",
       "<style scoped>\n",
       "    .dataframe tbody tr th:only-of-type {\n",
       "        vertical-align: middle;\n",
       "    }\n",
       "\n",
       "    .dataframe tbody tr th {\n",
       "        vertical-align: top;\n",
       "    }\n",
       "\n",
       "    .dataframe thead th {\n",
       "        text-align: right;\n",
       "    }\n",
       "</style>\n",
       "<table border=\"1\" class=\"dataframe\">\n",
       "  <thead>\n",
       "    <tr style=\"text-align: right;\">\n",
       "      <th></th>\n",
       "      <th>motivation</th>\n",
       "      <th>motivation_word_count</th>\n",
       "    </tr>\n",
       "  </thead>\n",
       "  <tbody>\n",
       "    <tr>\n",
       "      <th>14</th>\n",
       "      <td>can't think of anything that excites a greater sense of childlike wonder than to be in a country where you are ignorant of almost everything. Suddenly you are five years old again. You can't read anything, you have only the most rudimentary sense of how things work, you can't even reliably cross a street without endangering your life. Your whole existence becomes a series of interesting guesses.”</td>\n",
       "      <td>67</td>\n",
       "    </tr>\n",
       "    <tr>\n",
       "      <th>676</th>\n",
       "      <td>Seeing how people lead different lives and how people can be different but also the same regardless of where we are from, expanding my mind, getting into crazy situations I would never get into at home, art, and food</td>\n",
       "      <td>39</td>\n",
       "    </tr>\n",
       "    <tr>\n",
       "      <th>555</th>\n",
       "      <td>The prospect of getting out of the daily grind, eating great food, taking time to just do things I enjoy (but wouldn't necessarily take/find time to do at home), learning new things</td>\n",
       "      <td>32</td>\n",
       "    </tr>\n",
       "    <tr>\n",
       "      <th>10</th>\n",
       "      <td>To see what the world has to offer, every single different aspect of every culture, country and continent. Just wanna know how thwe world works and looks in every different place.</td>\n",
       "      <td>31</td>\n",
       "    </tr>\n",
       "    <tr>\n",
       "      <th>294</th>\n",
       "      <td>It makes me feel alive. I love seeing new places, landscapes, nature, history, culture. My goal in life is to see as much of this world as I can :)</td>\n",
       "      <td>30</td>\n",
       "    </tr>\n",
       "    <tr>\n",
       "      <th>561</th>\n",
       "      <td>desire to be in a stranger in a new area and learn about the new location and about others and see the similarities I share with these people</td>\n",
       "      <td>28</td>\n",
       "    </tr>\n",
       "    <tr>\n",
       "      <th>343</th>\n",
       "      <td>Moving from the US, India hit me square in the face. It was an exhilarating experience. And got me hooked to the feeling. This addiction motivates me.</td>\n",
       "      <td>27</td>\n",
       "    </tr>\n",
       "    <tr>\n",
       "      <th>113</th>\n",
       "      <td>I want to see the landscapes around the world that I don't get to see at home. I'm from Ohio, so I don't see much extreme landscape.</td>\n",
       "      <td>27</td>\n",
       "    </tr>\n",
       "    <tr>\n",
       "      <th>579</th>\n",
       "      <td>Shaking up my daily routine and trying something new; relaxing and taking a break from work; meeting new people and eating delicious food</td>\n",
       "      <td>23</td>\n",
       "    </tr>\n",
       "    <tr>\n",
       "      <th>203</th>\n",
       "      <td>Cheaper than where I was living, the world is a big place and I want to see what's there</td>\n",
       "      <td>19</td>\n",
       "    </tr>\n",
       "  </tbody>\n",
       "</table>\n",
       "</div>"
      ],
      "text/plain": [
       "                                                                                                                                                                                                                                                                                                                                                                                                            motivation  \\\n",
       "14    can't think of anything that excites a greater sense of childlike wonder than to be in a country where you are ignorant of almost everything. Suddenly you are five years old again. You can't read anything, you have only the most rudimentary sense of how things work, you can't even reliably cross a street without endangering your life. Your whole existence becomes a series of interesting guesses.”    \n",
       "676                                                                                                                                                                                           Seeing how people lead different lives and how people can be different but also the same regardless of where we are from, expanding my mind, getting into crazy situations I would never get into at home, art, and food   \n",
       "555                                                                                                                                                                                                                              The prospect of getting out of the daily grind, eating great food, taking time to just do things I enjoy (but wouldn't necessarily take/find time to do at home), learning new things   \n",
       "10                                                                                                                                                                                                                                 To see what the world has to offer, every single different aspect of every culture, country and continent. Just wanna know how thwe world works and looks in every different place.   \n",
       "294                                                                                                                                                                                                                                                                It makes me feel alive. I love seeing new places, landscapes, nature, history, culture. My goal in life is to see as much of this world as I can :)   \n",
       "561                                                                                                                                                                                                                                                                      desire to be in a stranger in a new area and learn about the new location and about others and see the similarities I share with these people   \n",
       "343                                                                                                                                                                                                                                                            Moving from the US, India hit me square in the face. It was an exhilarating experience. And got me hooked to the feeling. This addiction motivates me.    \n",
       "113                                                                                                                                                                                                                                                                               I want to see the landscapes around the world that I don't get to see at home. I'm from Ohio, so I don't see much extreme landscape.   \n",
       "579                                                                                                                                                                                                                                                                          Shaking up my daily routine and trying something new; relaxing and taking a break from work; meeting new people and eating delicious food   \n",
       "203                                                                                                                                                                                                                                                                                                                           Cheaper than where I was living, the world is a big place and I want to see what's there   \n",
       "\n",
       "     motivation_word_count  \n",
       "14                      67  \n",
       "676                     39  \n",
       "555                     32  \n",
       "10                      31  \n",
       "294                     30  \n",
       "561                     28  \n",
       "343                     27  \n",
       "113                     27  \n",
       "579                     23  \n",
       "203                     19  "
      ]
     },
     "execution_count": 84,
     "metadata": {},
     "output_type": "execute_result"
    }
   ],
   "source": [
    "df[['motivation', 'motivation_word_count']].sort_values('motivation_word_count', ascending = False)[:10]"
   ]
  },
  {
   "cell_type": "markdown",
   "metadata": {},
   "source": [
    "The coherence of the first observation doesn't carry through to all of the responses, but there are some complete ideas in here"
   ]
  },
  {
   "cell_type": "code",
   "execution_count": 85,
   "metadata": {},
   "outputs": [],
   "source": [
    "df['motivation_char_count'] = df['motivation'].str.len()"
   ]
  },
  {
   "cell_type": "code",
   "execution_count": 86,
   "metadata": {},
   "outputs": [
    {
     "data": {
      "text/plain": [
       "count    858.000000\n",
       "mean      24.545455\n",
       "std       26.678927\n",
       "min        3.000000\n",
       "25%        9.000000\n",
       "50%       17.000000\n",
       "75%       32.000000\n",
       "max      401.000000\n",
       "Name: motivation_char_count, dtype: float64"
      ]
     },
     "execution_count": 86,
     "metadata": {},
     "output_type": "execute_result"
    }
   ],
   "source": [
    "df['motivation_char_count'].describe()"
   ]
  },
  {
   "cell_type": "code",
   "execution_count": 87,
   "metadata": {},
   "outputs": [
    {
     "name": "stderr",
     "output_type": "stream",
     "text": [
      "/home/eric/anaconda3/lib/python3.7/site-packages/ipykernel_launcher.py:1: UserWarning: Boolean Series key will be reindexed to match DataFrame index.\n",
      "  \"\"\"Entry point for launching an IPython kernel.\n",
      "/home/eric/anaconda3/lib/python3.7/site-packages/ipykernel_launcher.py:1: UserWarning: Boolean Series key will be reindexed to match DataFrame index.\n",
      "  \"\"\"Entry point for launching an IPython kernel.\n",
      "/home/eric/anaconda3/lib/python3.7/site-packages/scipy/stats/stats.py:1713: FutureWarning: Using a non-tuple sequence for multidimensional indexing is deprecated; use `arr[tuple(seq)]` instead of `arr[seq]`. In the future this will be interpreted as an array index, `arr[np.array(seq)]`, which will result either in an error or a different result.\n",
      "  return np.add.reduce(sorted[indexer] * weights, axis=axis) / sumval\n"
     ]
    },
    {
     "data": {
      "text/plain": [
       "<seaborn.axisgrid.JointGrid at 0x7f20fdcf9588>"
      ]
     },
     "execution_count": 87,
     "metadata": {},
     "output_type": "execute_result"
    },
    {
     "data": {
      "image/png": "[encoded data removed]",
      "text/plain": [
       "<Figure size 432x432 with 3 Axes>"
      ]
     },
     "metadata": {},
     "output_type": "display_data"
    }
   ],
   "source": [
    "df_motivation = df[df['motivation_char_count'] <= 100][df['motivation_word_count'] <= 20][df['motivation'] != 'None']\n",
    "sns.jointplot(df_motivation['motivation_char_count'], df_motivation['motivation_word_count'], kind = 'hex')"
   ]
  },
  {
   "cell_type": "markdown",
   "metadata": {},
   "source": [
    "Not everyone gave a single-word answer!"
   ]
  },
  {
   "cell_type": "code",
   "execution_count": 88,
   "metadata": {},
   "outputs": [],
   "source": [
    "def avg_length(sentence):\n",
    "    words = sentence.split()\n",
    "    return sum([len(word) for word in words]) / len(words)\n",
    "df['motivation_avg_word_len'] = df['motivation'].apply(avg_length)"
   ]
  },
  {
   "cell_type": "code",
   "execution_count": 89,
   "metadata": {},
   "outputs": [
    {
     "data": {
      "text/html": [
       "<div>\n",
       "<style scoped>\n",
       "    .dataframe tbody tr th:only-of-type {\n",
       "        vertical-align: middle;\n",
       "    }\n",
       "\n",
       "    .dataframe tbody tr th {\n",
       "        vertical-align: top;\n",
       "    }\n",
       "\n",
       "    .dataframe thead th {\n",
       "        text-align: right;\n",
       "    }\n",
       "</style>\n",
       "<table border=\"1\" class=\"dataframe\">\n",
       "  <thead>\n",
       "    <tr style=\"text-align: right;\">\n",
       "      <th></th>\n",
       "      <th>motivation</th>\n",
       "      <th>motivation_avg_word_len</th>\n",
       "    </tr>\n",
       "  </thead>\n",
       "  <tbody>\n",
       "    <tr>\n",
       "      <th>0</th>\n",
       "      <td>None</td>\n",
       "      <td>4.000</td>\n",
       "    </tr>\n",
       "    <tr>\n",
       "      <th>1</th>\n",
       "      <td>None</td>\n",
       "      <td>4.000</td>\n",
       "    </tr>\n",
       "    <tr>\n",
       "      <th>2</th>\n",
       "      <td>Inspiration and getting out of your comfort zone</td>\n",
       "      <td>5.125</td>\n",
       "    </tr>\n",
       "    <tr>\n",
       "      <th>3</th>\n",
       "      <td>None</td>\n",
       "      <td>4.000</td>\n",
       "    </tr>\n",
       "    <tr>\n",
       "      <th>4</th>\n",
       "      <td>Exploring cultures</td>\n",
       "      <td>8.500</td>\n",
       "    </tr>\n",
       "  </tbody>\n",
       "</table>\n",
       "</div>"
      ],
      "text/plain": [
       "                                         motivation  motivation_avg_word_len\n",
       "0                                              None                    4.000\n",
       "1                                              None                    4.000\n",
       "2  Inspiration and getting out of your comfort zone                    5.125\n",
       "3                                              None                    4.000\n",
       "4                                Exploring cultures                    8.500"
      ]
     },
     "execution_count": 89,
     "metadata": {},
     "output_type": "execute_result"
    }
   ],
   "source": [
    "df[['motivation', 'motivation_avg_word_len']].head()"
   ]
  },
  {
   "cell_type": "code",
   "execution_count": 90,
   "metadata": {},
   "outputs": [
    {
     "data": {
      "text/plain": [
       "count    858.000000\n",
       "mean       6.074425\n",
       "std        2.381486\n",
       "min        2.500000\n",
       "25%        4.000000\n",
       "50%        5.636364\n",
       "75%        7.250000\n",
       "max       27.000000\n",
       "Name: motivation_avg_word_len, dtype: float64"
      ]
     },
     "execution_count": 90,
     "metadata": {},
     "output_type": "execute_result"
    }
   ],
   "source": [
    "df['motivation_avg_word_len'].describe()"
   ]
  },
  {
   "cell_type": "code",
   "execution_count": 91,
   "metadata": {},
   "outputs": [
    {
     "data": {
      "text/html": [
       "<div>\n",
       "<style scoped>\n",
       "    .dataframe tbody tr th:only-of-type {\n",
       "        vertical-align: middle;\n",
       "    }\n",
       "\n",
       "    .dataframe tbody tr th {\n",
       "        vertical-align: top;\n",
       "    }\n",
       "\n",
       "    .dataframe thead th {\n",
       "        text-align: right;\n",
       "    }\n",
       "</style>\n",
       "<table border=\"1\" class=\"dataframe\">\n",
       "  <thead>\n",
       "    <tr style=\"text-align: right;\">\n",
       "      <th></th>\n",
       "      <th>motivation</th>\n",
       "      <th>motivation_avg_word_len</th>\n",
       "    </tr>\n",
       "  </thead>\n",
       "  <tbody>\n",
       "    <tr>\n",
       "      <th>433</th>\n",
       "      <td>Culture/Architecture/Nature</td>\n",
       "      <td>27.0</td>\n",
       "    </tr>\n",
       "    <tr>\n",
       "      <th>501</th>\n",
       "      <td>Adventure+culture+food</td>\n",
       "      <td>22.0</td>\n",
       "    </tr>\n",
       "    <tr>\n",
       "      <th>123</th>\n",
       "      <td>food+photography</td>\n",
       "      <td>16.0</td>\n",
       "    </tr>\n",
       "    <tr>\n",
       "      <th>652</th>\n",
       "      <td>Self-fulfillment</td>\n",
       "      <td>16.0</td>\n",
       "    </tr>\n",
       "    <tr>\n",
       "      <th>346</th>\n",
       "      <td>Relax/recharge</td>\n",
       "      <td>14.0</td>\n",
       "    </tr>\n",
       "  </tbody>\n",
       "</table>\n",
       "</div>"
      ],
      "text/plain": [
       "                      motivation  motivation_avg_word_len\n",
       "433  Culture/Architecture/Nature                     27.0\n",
       "501       Adventure+culture+food                     22.0\n",
       "123             food+photography                     16.0\n",
       "652             Self-fulfillment                     16.0\n",
       "346               Relax/recharge                     14.0"
      ]
     },
     "execution_count": 91,
     "metadata": {},
     "output_type": "execute_result"
    }
   ],
   "source": [
    "df[['motivation', 'motivation_avg_word_len']].sort_values('motivation_avg_word_len', ascending = False).head()"
   ]
  },
  {
   "cell_type": "markdown",
   "metadata": {},
   "source": [
    "Punctuation is giving me erroneously long words. I should remove them before doing anything serious."
   ]
  },
  {
   "cell_type": "code",
   "execution_count": 92,
   "metadata": {},
   "outputs": [
    {
     "name": "stderr",
     "output_type": "stream",
     "text": [
      "/home/eric/anaconda3/lib/python3.7/site-packages/sklearn/utils/__init__.py:4: DeprecationWarning: Using or importing the ABCs from 'collections' instead of from 'collections.abc' is deprecated, and in 3.8 it will stop working\n",
      "  from collections import Sequence\n"
     ]
    }
   ],
   "source": [
    "from nltk.corpus import stopwords\n",
    "stop = stopwords.words('english')\n",
    "df['motivation_stopwords'] = df['motivation'].apply(lambda x: len([y for y in x.split() if y in stop]))"
   ]
  },
  {
   "cell_type": "code",
   "execution_count": 93,
   "metadata": {},
   "outputs": [
    {
     "data": {
      "text/html": [
       "<div>\n",
       "<style scoped>\n",
       "    .dataframe tbody tr th:only-of-type {\n",
       "        vertical-align: middle;\n",
       "    }\n",
       "\n",
       "    .dataframe tbody tr th {\n",
       "        vertical-align: top;\n",
       "    }\n",
       "\n",
       "    .dataframe thead th {\n",
       "        text-align: right;\n",
       "    }\n",
       "</style>\n",
       "<table border=\"1\" class=\"dataframe\">\n",
       "  <thead>\n",
       "    <tr style=\"text-align: right;\">\n",
       "      <th></th>\n",
       "      <th>motivation</th>\n",
       "      <th>motivation_stopwords</th>\n",
       "    </tr>\n",
       "  </thead>\n",
       "  <tbody>\n",
       "    <tr>\n",
       "      <th>786</th>\n",
       "      <td>Culture</td>\n",
       "      <td>0</td>\n",
       "    </tr>\n",
       "    <tr>\n",
       "      <th>431</th>\n",
       "      <td>Exploring</td>\n",
       "      <td>0</td>\n",
       "    </tr>\n",
       "    <tr>\n",
       "      <th>430</th>\n",
       "      <td>Curiousity, mostly.</td>\n",
       "      <td>0</td>\n",
       "    </tr>\n",
       "    <tr>\n",
       "      <th>826</th>\n",
       "      <td>Enjoyment</td>\n",
       "      <td>0</td>\n",
       "    </tr>\n",
       "    <tr>\n",
       "      <th>428</th>\n",
       "      <td>Experiencing new things</td>\n",
       "      <td>0</td>\n",
       "    </tr>\n",
       "  </tbody>\n",
       "</table>\n",
       "</div>"
      ],
      "text/plain": [
       "                  motivation  motivation_stopwords\n",
       "786                  Culture                     0\n",
       "431               Exploring                      0\n",
       "430      Curiousity, mostly.                     0\n",
       "826                Enjoyment                     0\n",
       "428  Experiencing new things                     0"
      ]
     },
     "execution_count": 93,
     "metadata": {},
     "output_type": "execute_result"
    }
   ],
   "source": [
    "df[df['motivation'] != 'None'].sort_values('motivation_stopwords')[['motivation', 'motivation_stopwords']].head()"
   ]
  },
  {
   "cell_type": "markdown",
   "metadata": {},
   "source": [
    "That does a good job of identifying useless words!"
   ]
  },
  {
   "cell_type": "code",
   "execution_count": 94,
   "metadata": {},
   "outputs": [],
   "source": [
    "df['motivation_numerics'] = df['motivation'].apply(lambda x: len([y for y in x.split() if y.isdigit()]))"
   ]
  },
  {
   "cell_type": "code",
   "execution_count": 95,
   "metadata": {},
   "outputs": [
    {
     "data": {
      "text/plain": [
       "count    858.0\n",
       "mean       0.0\n",
       "std        0.0\n",
       "min        0.0\n",
       "25%        0.0\n",
       "50%        0.0\n",
       "75%        0.0\n",
       "max        0.0\n",
       "Name: motivation_numerics, dtype: float64"
      ]
     },
     "execution_count": 95,
     "metadata": {},
     "output_type": "execute_result"
    }
   ],
   "source": [
    "df['motivation_numerics'].describe()"
   ]
  },
  {
   "cell_type": "markdown",
   "metadata": {},
   "source": [
    "Noone wanted to write an ordered list, shocking!"
   ]
  },
  {
   "cell_type": "code",
   "execution_count": 96,
   "metadata": {},
   "outputs": [],
   "source": [
    "df['motivation_upper'] = df['motivation'].apply(lambda x: len([y for y in x.split() if y.isupper() and not y in ['I', 'A']]))"
   ]
  },
  {
   "cell_type": "code",
   "execution_count": 97,
   "metadata": {},
   "outputs": [
    {
     "data": {
      "text/plain": [
       "count    858.000000\n",
       "mean       0.006993\n",
       "std        0.083380\n",
       "min        0.000000\n",
       "25%        0.000000\n",
       "50%        0.000000\n",
       "75%        0.000000\n",
       "max        1.000000\n",
       "Name: motivation_upper, dtype: float64"
      ]
     },
     "execution_count": 97,
     "metadata": {},
     "output_type": "execute_result"
    }
   ],
   "source": [
    "df['motivation_upper'].describe()"
   ]
  },
  {
   "cell_type": "code",
   "execution_count": 98,
   "metadata": {},
   "outputs": [
    {
     "data": {
      "text/html": [
       "<div>\n",
       "<style scoped>\n",
       "    .dataframe tbody tr th:only-of-type {\n",
       "        vertical-align: middle;\n",
       "    }\n",
       "\n",
       "    .dataframe tbody tr th {\n",
       "        vertical-align: top;\n",
       "    }\n",
       "\n",
       "    .dataframe thead th {\n",
       "        text-align: right;\n",
       "    }\n",
       "</style>\n",
       "<table border=\"1\" class=\"dataframe\">\n",
       "  <thead>\n",
       "    <tr style=\"text-align: right;\">\n",
       "      <th></th>\n",
       "      <th>motivation</th>\n",
       "    </tr>\n",
       "  </thead>\n",
       "  <tbody>\n",
       "    <tr>\n",
       "      <th>29</th>\n",
       "      <td>FOMO</td>\n",
       "    </tr>\n",
       "    <tr>\n",
       "      <th>162</th>\n",
       "      <td>Discovering new places + R&amp;R</td>\n",
       "    </tr>\n",
       "    <tr>\n",
       "      <th>172</th>\n",
       "      <td>FUN</td>\n",
       "    </tr>\n",
       "    <tr>\n",
       "      <th>343</th>\n",
       "      <td>Moving from the US, India hit me square in the face. It was an exhilarating experience. And got me hooked to the feeling. This addiction motivates me.</td>\n",
       "    </tr>\n",
       "    <tr>\n",
       "      <th>617</th>\n",
       "      <td>Its the reason i live for :D.</td>\n",
       "    </tr>\n",
       "    <tr>\n",
       "      <th>704</th>\n",
       "      <td>Learning new cultures. And FOOOOOD!</td>\n",
       "    </tr>\n",
       "  </tbody>\n",
       "</table>\n",
       "</div>"
      ],
      "text/plain": [
       "                                                                                                                                                  motivation\n",
       "29                                                                                                                                                      FOMO\n",
       "162                                                                                                                             Discovering new places + R&R\n",
       "172                                                                                                                                                      FUN\n",
       "343  Moving from the US, India hit me square in the face. It was an exhilarating experience. And got me hooked to the feeling. This addiction motivates me. \n",
       "617                                                                                                                            Its the reason i live for :D.\n",
       "704                                                                                                                      Learning new cultures. And FOOOOOD!"
      ]
     },
     "execution_count": 98,
     "metadata": {},
     "output_type": "execute_result"
    }
   ],
   "source": [
    "df[df['motivation_upper'] != 0][['motivation']]"
   ]
  },
  {
   "cell_type": "markdown",
   "metadata": {},
   "source": [
    "FOMO, R&R, FUN, FOOOOOD"
   ]
  },
  {
   "cell_type": "markdown",
   "metadata": {},
   "source": [
    "#### Motivation preprocessing"
   ]
  },
  {
   "cell_type": "code",
   "execution_count": 99,
   "metadata": {},
   "outputs": [],
   "source": [
    "df['motivation_pr'] = df['motivation'].apply(lambda x: x.lower())"
   ]
  },
  {
   "cell_type": "code",
   "execution_count": 100,
   "metadata": {},
   "outputs": [],
   "source": [
    "df['motivation_pr'] = df['motivation_pr'].str.replace(r'[^\\w\\s]', '', regex = True)"
   ]
  },
  {
   "cell_type": "code",
   "execution_count": 101,
   "metadata": {},
   "outputs": [
    {
     "data": {
      "text/plain": [
       "'discovering new places  rr'"
      ]
     },
     "execution_count": 101,
     "metadata": {},
     "output_type": "execute_result"
    }
   ],
   "source": [
    "df['motivation_pr'].iloc[162]"
   ]
  },
  {
   "cell_type": "markdown",
   "metadata": {},
   "source": [
    "How'd this pirate tiger get access to a computer!"
   ]
  },
  {
   "cell_type": "code",
   "execution_count": 102,
   "metadata": {},
   "outputs": [
    {
     "data": {
      "text/plain": [
       "'its the reason i live for d'"
      ]
     },
     "execution_count": 102,
     "metadata": {},
     "output_type": "execute_result"
    }
   ],
   "source": [
    "df['motivation_pr'].iloc[617]"
   ]
  },
  {
   "cell_type": "markdown",
   "metadata": {},
   "source": [
    ":|"
   ]
  },
  {
   "cell_type": "code",
   "execution_count": 103,
   "metadata": {},
   "outputs": [],
   "source": [
    "df['motivation_pr'] = df['motivation_pr'].apply(lambda x: ' '.join(y for y in x.split() if not y in stop))"
   ]
  },
  {
   "cell_type": "code",
   "execution_count": 104,
   "metadata": {},
   "outputs": [],
   "source": [
    "freq = pd.Series(' '.join(df['motivation_pr']).split()).value_counts()"
   ]
  },
  {
   "cell_type": "code",
   "execution_count": 105,
   "metadata": {},
   "outputs": [
    {
     "data": {
      "text/plain": [
       "new            222\n",
       "none           109\n",
       "see             89\n",
       "cultures        89\n",
       "experiences     85\n",
       "world           78\n",
       "food            73\n",
       "culture         71\n",
       "seeing          69\n",
       "things          50\n",
       "people          47\n",
       "places          47\n",
       "adventure       47\n",
       "different       44\n",
       "experience      41\n",
       "exploring       32\n",
       "fun             31\n",
       "nature          30\n",
       "life            29\n",
       "history         28\n",
       "dtype: int64"
      ]
     },
     "execution_count": 105,
     "metadata": {},
     "output_type": "execute_result"
    }
   ],
   "source": [
    "freq[:20]"
   ]
  },
  {
   "cell_type": "markdown",
   "metadata": {},
   "source": [
    "**Notes**  \n",
    "Many people uses 'new', 'see', 'seeing'  \n",
    "I'm not sure whether or not to remove any of these, maybe 'things', or 'new' if I don't have a use for them later"
   ]
  },
  {
   "cell_type": "code",
   "execution_count": 106,
   "metadata": {},
   "outputs": [
    {
     "data": {
      "text/plain": [
       "318"
      ]
     },
     "execution_count": 106,
     "metadata": {},
     "output_type": "execute_result"
    }
   ],
   "source": [
    "len(freq[freq == 1])"
   ]
  },
  {
   "cell_type": "code",
   "execution_count": 108,
   "metadata": {},
   "outputs": [],
   "source": [
    "from textblob import TextBlob\n",
    "df['motivation_pr'] = df['motivation_pr'].apply(lambda x: str(TextBlob(x).correct()))"
   ]
  },
  {
   "cell_type": "code",
   "execution_count": 109,
   "metadata": {},
   "outputs": [],
   "source": [
    "exclude = ['none', 'see', 'seeing', 'things', 'different', 'experience', 'experiences', 'fun'] # Some uninteresting words\n",
    "df['motivation_pr'] = df['motivation_pr'].apply(lambda x: ' '.join([y for y in x.split() if y not in exclude]))"
   ]
  },
  {
   "cell_type": "code",
   "execution_count": 110,
   "metadata": {},
   "outputs": [
    {
     "data": {
      "text/plain": [
       "excites        1\n",
       "exchange       1\n",
       "expanded       1\n",
       "guess          1\n",
       "fulfillment    1\n",
       "dtype: int64"
      ]
     },
     "execution_count": 110,
     "metadata": {},
     "output_type": "execute_result"
    }
   ],
   "source": [
    "freq[freq == 1].head()"
   ]
  },
  {
   "cell_type": "markdown",
   "metadata": {},
   "source": [
    "There are some neat words only appearing once, I don't want to lose them :("
   ]
  },
  {
   "cell_type": "code",
   "execution_count": 111,
   "metadata": {},
   "outputs": [],
   "source": [
    "from textblob import Word\n",
    "df['motivation_pr'] = df['motivation_pr'].apply(lambda x: ' '.join([Word(y).lemmatize() for y in x.split()]))"
   ]
  },
  {
   "cell_type": "markdown",
   "metadata": {},
   "source": [
    "Look again at high and low freq words"
   ]
  },
  {
   "cell_type": "code",
   "execution_count": 112,
   "metadata": {},
   "outputs": [],
   "source": [
    "from textblob import TextBlob\n",
    "df['motivation_pr'] = df['motivation_pr'].apply(lambda x: str(TextBlob(x).correct()))"
   ]
  },
  {
   "cell_type": "code",
   "execution_count": 113,
   "metadata": {},
   "outputs": [],
   "source": [
    "freq = pd.Series(' '.join(df['motivation_pr']).split()).value_counts()"
   ]
  },
  {
   "cell_type": "code",
   "execution_count": 114,
   "metadata": {},
   "outputs": [
    {
     "data": {
      "text/plain": [
       "low            1\n",
       "street         1\n",
       "small          1\n",
       "cold           1\n",
       "yes            1\n",
       "differ         1\n",
       "question       1\n",
       "sheer          1\n",
       "journey        1\n",
       "long           1\n",
       "killing        1\n",
       "surrounding    1\n",
       "student        1\n",
       "enjoying       1\n",
       "face           1\n",
       "taste          1\n",
       "being          1\n",
       "fresh          1\n",
       "else           1\n",
       "becomes        1\n",
       "dtype: int64"
      ]
     },
     "execution_count": 114,
     "metadata": {},
     "output_type": "execute_result"
    }
   ],
   "source": [
    "freq[freq == 1][:20]"
   ]
  },
  {
   "cell_type": "code",
   "execution_count": 115,
   "metadata": {},
   "outputs": [
    {
     "data": {
      "text/plain": [
       "316    culture ecosystemslandscapes\n",
       "Name: motivation_pr, dtype: object"
      ]
     },
     "execution_count": 115,
     "metadata": {},
     "output_type": "execute_result"
    }
   ],
   "source": [
    "df['motivation_pr'][df['motivation_pr'].str.contains('ecosystemslandscapes')]"
   ]
  },
  {
   "cell_type": "code",
   "execution_count": 116,
   "metadata": {},
   "outputs": [
    {
     "name": "stderr",
     "output_type": "stream",
     "text": [
      "/home/eric/anaconda3/lib/python3.7/site-packages/ipykernel_launcher.py:1: SettingWithCopyWarning: \n",
      "A value is trying to be set on a copy of a slice from a DataFrame\n",
      "\n",
      "See the caveats in the documentation: http://pandas.pydata.org/pandas-docs/stable/indexing.html#indexing-view-versus-copy\n",
      "  \"\"\"Entry point for launching an IPython kernel.\n"
     ]
    }
   ],
   "source": [
    "df['motivation_pr'][316] = 'culture ecosystems landscapes'"
   ]
  },
  {
   "cell_type": "code",
   "execution_count": 117,
   "metadata": {},
   "outputs": [
    {
     "data": {
      "text/plain": [
       "sightseeing        1\n",
       "animal             1\n",
       "stranger           1\n",
       "snowboarding       1\n",
       "politics           1\n",
       "sighted            1\n",
       "leisure            1\n",
       "changing           1\n",
       "or                 1\n",
       "thrill             1\n",
       "into               1\n",
       "greater            1\n",
       "research           1\n",
       "treasure           1\n",
       "adventuresfoods    1\n",
       "put                1\n",
       "ardor              1\n",
       "genetic            1\n",
       "read               1\n",
       "guy                1\n",
       "dtype: int64"
      ]
     },
     "execution_count": 117,
     "metadata": {},
     "output_type": "execute_result"
    }
   ],
   "source": [
    "freq[freq == 1][40:60]"
   ]
  },
  {
   "cell_type": "code",
   "execution_count": 118,
   "metadata": {},
   "outputs": [
    {
     "data": {
      "text/plain": [
       "123    foodphotography\n",
       "Name: motivation_pr, dtype: object"
      ]
     },
     "execution_count": 118,
     "metadata": {},
     "output_type": "execute_result"
    }
   ],
   "source": [
    "df['motivation_pr'][df['motivation_pr'].str.contains('foodphotography')]"
   ]
  },
  {
   "cell_type": "code",
   "execution_count": 119,
   "metadata": {},
   "outputs": [
    {
     "name": "stderr",
     "output_type": "stream",
     "text": [
      "/home/eric/anaconda3/lib/python3.7/site-packages/ipykernel_launcher.py:1: SettingWithCopyWarning: \n",
      "A value is trying to be set on a copy of a slice from a DataFrame\n",
      "\n",
      "See the caveats in the documentation: http://pandas.pydata.org/pandas-docs/stable/indexing.html#indexing-view-versus-copy\n",
      "  \"\"\"Entry point for launching an IPython kernel.\n"
     ]
    }
   ],
   "source": [
    "df['motivation_pr'][123] = 'food photography'"
   ]
  },
  {
   "cell_type": "code",
   "execution_count": 120,
   "metadata": {},
   "outputs": [
    {
     "data": {
      "text/plain": [
       "interact                     1\n",
       "lot                          1\n",
       "happy                        1\n",
       "educate                      1\n",
       "woman                        1\n",
       "whole                        1\n",
       "understand                   1\n",
       "high                         1\n",
       "seeking                      1\n",
       "culturearchitecturenature    1\n",
       "continent                    1\n",
       "recommendation               1\n",
       "grind                        1\n",
       "hate                         1\n",
       "surroundings                 1\n",
       "goal                         1\n",
       "the                          1\n",
       "foodphotography              1\n",
       "domo                         1\n",
       "childlike                    1\n",
       "dtype: int64"
      ]
     },
     "execution_count": 120,
     "metadata": {},
     "output_type": "execute_result"
    }
   ],
   "source": [
    "freq[freq == 1][60:80]"
   ]
  },
  {
   "cell_type": "code",
   "execution_count": 121,
   "metadata": {},
   "outputs": [
    {
     "data": {
      "text/plain": [
       "215    new adventuresfoods\n",
       "Name: motivation_pr, dtype: object"
      ]
     },
     "execution_count": 121,
     "metadata": {},
     "output_type": "execute_result"
    }
   ],
   "source": [
    "df['motivation_pr'][df['motivation_pr'].str.contains('adventures')]"
   ]
  },
  {
   "cell_type": "code",
   "execution_count": 122,
   "metadata": {},
   "outputs": [
    {
     "name": "stderr",
     "output_type": "stream",
     "text": [
      "/home/eric/anaconda3/lib/python3.7/site-packages/ipykernel_launcher.py:1: SettingWithCopyWarning: \n",
      "A value is trying to be set on a copy of a slice from a DataFrame\n",
      "\n",
      "See the caveats in the documentation: http://pandas.pydata.org/pandas-docs/stable/indexing.html#indexing-view-versus-copy\n",
      "  \"\"\"Entry point for launching an IPython kernel.\n"
     ]
    }
   ],
   "source": [
    "df['motivation_pr'][215] = 'new adventure food'"
   ]
  },
  {
   "cell_type": "code",
   "execution_count": 123,
   "metadata": {},
   "outputs": [
    {
     "data": {
      "text/plain": [
       "story          1\n",
       "creating       1\n",
       "spirit         1\n",
       "normal         1\n",
       "education      1\n",
       "what           1\n",
       "unique         1\n",
       "searching      1\n",
       "secret         1\n",
       "game           1\n",
       "fear           1\n",
       "situation      1\n",
       "nothing        1\n",
       "aspect         1\n",
       "sea            1\n",
       "exchange       1\n",
       "expand         1\n",
       "geocaching     1\n",
       "fortunate      1\n",
       "destination    1\n",
       "dtype: int64"
      ]
     },
     "execution_count": 123,
     "metadata": {},
     "output_type": "execute_result"
    }
   ],
   "source": [
    "freq[freq == 1][100:120]"
   ]
  },
  {
   "cell_type": "code",
   "execution_count": 124,
   "metadata": {},
   "outputs": [
    {
     "data": {
      "text/plain": [
       "433    culturearchitecturenature\n",
       "Name: motivation_pr, dtype: object"
      ]
     },
     "execution_count": 124,
     "metadata": {},
     "output_type": "execute_result"
    }
   ],
   "source": [
    "df['motivation_pr'][df['motivation_pr'].str.contains('culturearchitecturenature')]"
   ]
  },
  {
   "cell_type": "code",
   "execution_count": 125,
   "metadata": {},
   "outputs": [
    {
     "name": "stderr",
     "output_type": "stream",
     "text": [
      "/home/eric/anaconda3/lib/python3.7/site-packages/ipykernel_launcher.py:1: SettingWithCopyWarning: \n",
      "A value is trying to be set on a copy of a slice from a DataFrame\n",
      "\n",
      "See the caveats in the documentation: http://pandas.pydata.org/pandas-docs/stable/indexing.html#indexing-view-versus-copy\n",
      "  \"\"\"Entry point for launching an IPython kernel.\n"
     ]
    }
   ],
   "source": [
    "df['motivation_pr'][433] = 'culture architecture nature'"
   ]
  },
  {
   "cell_type": "code",
   "execution_count": 126,
   "metadata": {},
   "outputs": [
    {
     "data": {
      "text/plain": [
       "plus           1\n",
       "even           1\n",
       "custom         1\n",
       "opening        1\n",
       "relic          1\n",
       "cross          1\n",
       "language       1\n",
       "rut            1\n",
       "excitement     1\n",
       "stay           1\n",
       "map            1\n",
       "picture        1\n",
       "cheaper        1\n",
       "music          1\n",
       "winter         1\n",
       "swimming       1\n",
       "almost         1\n",
       "environment    1\n",
       "square         1\n",
       "vacation       1\n",
       "dtype: int64"
      ]
     },
     "execution_count": 126,
     "metadata": {},
     "output_type": "execute_result"
    }
   ],
   "source": [
    "freq[freq == 1][160:180]"
   ]
  },
  {
   "cell_type": "code",
   "execution_count": 127,
   "metadata": {},
   "outputs": [
    {
     "data": {
      "text/plain": [
       "93    new culturessee scene location\n",
       "Name: motivation_pr, dtype: object"
      ]
     },
     "execution_count": 127,
     "metadata": {},
     "output_type": "execute_result"
    }
   ],
   "source": [
    "df['motivation_pr'][df['motivation_pr'].str.contains('culturessee')]"
   ]
  },
  {
   "cell_type": "code",
   "execution_count": 128,
   "metadata": {},
   "outputs": [
    {
     "name": "stderr",
     "output_type": "stream",
     "text": [
      "/home/eric/anaconda3/lib/python3.7/site-packages/ipykernel_launcher.py:1: SettingWithCopyWarning: \n",
      "A value is trying to be set on a copy of a slice from a DataFrame\n",
      "\n",
      "See the caveats in the documentation: http://pandas.pydata.org/pandas-docs/stable/indexing.html#indexing-view-versus-copy\n",
      "  \"\"\"Entry point for launching an IPython kernel.\n"
     ]
    }
   ],
   "source": [
    "df['motivation_pr'][93] = 'new culture scene location'"
   ]
  },
  {
   "cell_type": "code",
   "execution_count": 129,
   "metadata": {},
   "outputs": [
    {
     "data": {
      "text/plain": [
       "especially       1\n",
       "got              1\n",
       "geological       1\n",
       "reference        1\n",
       "endangering      1\n",
       "biggest          1\n",
       "utilize          1\n",
       "existence        1\n",
       "hata             1\n",
       "look             1\n",
       "tell             1\n",
       "needed           1\n",
       "liberating       1\n",
       "across           1\n",
       "instagram        1\n",
       "disconcerting    1\n",
       "general          1\n",
       "extreme          1\n",
       "photo            1\n",
       "source           1\n",
       "together         1\n",
       "lead             1\n",
       "dtype: int64"
      ]
     },
     "execution_count": 129,
     "metadata": {},
     "output_type": "execute_result"
    }
   ],
   "source": [
    "freq[freq == 1][260:]"
   ]
  },
  {
   "cell_type": "code",
   "execution_count": 130,
   "metadata": {},
   "outputs": [
    {
     "data": {
      "text/plain": [
       "501    adventureculturefood\n",
       "Name: motivation_pr, dtype: object"
      ]
     },
     "execution_count": 130,
     "metadata": {},
     "output_type": "execute_result"
    }
   ],
   "source": [
    "df['motivation_pr'][df['motivation_pr'].str.contains('adventurecult')]"
   ]
  },
  {
   "cell_type": "code",
   "execution_count": 131,
   "metadata": {},
   "outputs": [
    {
     "name": "stderr",
     "output_type": "stream",
     "text": [
      "/home/eric/anaconda3/lib/python3.7/site-packages/ipykernel_launcher.py:1: SettingWithCopyWarning: \n",
      "A value is trying to be set on a copy of a slice from a DataFrame\n",
      "\n",
      "See the caveats in the documentation: http://pandas.pydata.org/pandas-docs/stable/indexing.html#indexing-view-versus-copy\n",
      "  \"\"\"Entry point for launching an IPython kernel.\n"
     ]
    }
   ],
   "source": [
    "df['motivation_pr'][501] = 'adventure culture food'"
   ]
  },
  {
   "cell_type": "markdown",
   "metadata": {},
   "source": [
    "#### Processing"
   ]
  },
  {
   "cell_type": "markdown",
   "metadata": {},
   "source": [
    "N-grams n = 2"
   ]
  },
  {
   "cell_type": "code",
   "execution_count": 132,
   "metadata": {},
   "outputs": [
    {
     "name": "stderr",
     "output_type": "stream",
     "text": [
      "/home/eric/anaconda3/lib/python3.7/site-packages/ipykernel_launcher.py:3: SettingWithCopyWarning: \n",
      "A value is trying to be set on a copy of a slice from a DataFrame\n",
      "\n",
      "See the caveats in the documentation: http://pandas.pydata.org/pandas-docs/stable/indexing.html#indexing-view-versus-copy\n",
      "  This is separate from the ipykernel package so we can avoid doing imports until\n"
     ]
    }
   ],
   "source": [
    "df['motivation_n2'] = 'None'\n",
    "for i in range(df.shape[0]):\n",
    "    df['motivation_n2'][i] = TextBlob(df['motivation_pr'][i]).ngrams(2)"
   ]
  },
  {
   "cell_type": "code",
   "execution_count": 133,
   "metadata": {},
   "outputs": [
    {
     "data": {
      "text/plain": [
       "0                                                               []\n",
       "1                                                               []\n",
       "2    [[inspiration, getting], [getting, comfort], [comfort, zone]]\n",
       "3                                                               []\n",
       "4                                           [[exploring, culture]]\n",
       "Name: motivation_n2, dtype: object"
      ]
     },
     "execution_count": 133,
     "metadata": {},
     "output_type": "execute_result"
    }
   ],
   "source": [
    "df['motivation_n2'].head()"
   ]
  },
  {
   "cell_type": "code",
   "execution_count": 134,
   "metadata": {},
   "outputs": [
    {
     "data": {
      "text/html": [
       "<div>\n",
       "<style scoped>\n",
       "    .dataframe tbody tr th:only-of-type {\n",
       "        vertical-align: middle;\n",
       "    }\n",
       "\n",
       "    .dataframe tbody tr th {\n",
       "        vertical-align: top;\n",
       "    }\n",
       "\n",
       "    .dataframe thead th {\n",
       "        text-align: right;\n",
       "    }\n",
       "</style>\n",
       "<table border=\"1\" class=\"dataframe\">\n",
       "  <thead>\n",
       "    <tr style=\"text-align: right;\">\n",
       "      <th></th>\n",
       "      <th>words</th>\n",
       "      <th>tf</th>\n",
       "    </tr>\n",
       "  </thead>\n",
       "  <tbody>\n",
       "    <tr>\n",
       "      <th>0</th>\n",
       "      <td></td>\n",
       "      <td>162.0</td>\n",
       "    </tr>\n",
       "    <tr>\n",
       "      <th>1</th>\n",
       "      <td>comfort</td>\n",
       "      <td>3.0</td>\n",
       "    </tr>\n",
       "    <tr>\n",
       "      <th>2</th>\n",
       "      <td>inspiration</td>\n",
       "      <td>2.0</td>\n",
       "    </tr>\n",
       "    <tr>\n",
       "      <th>3</th>\n",
       "      <td>getting</td>\n",
       "      <td>16.0</td>\n",
       "    </tr>\n",
       "    <tr>\n",
       "      <th>4</th>\n",
       "      <td>zone</td>\n",
       "      <td>3.0</td>\n",
       "    </tr>\n",
       "  </tbody>\n",
       "</table>\n",
       "</div>"
      ],
      "text/plain": [
       "         words     tf\n",
       "0               162.0\n",
       "1      comfort    3.0\n",
       "2  inspiration    2.0\n",
       "3      getting   16.0\n",
       "4         zone    3.0"
      ]
     },
     "execution_count": 134,
     "metadata": {},
     "output_type": "execute_result"
    }
   ],
   "source": [
    "tf = df['motivation_pr'].apply(lambda x: pd.value_counts(x.split(' '))).sum(axis = 0).reset_index()\n",
    "tf.columns = ['words', 'tf']\n",
    "tf.head()"
   ]
  },
  {
   "cell_type": "code",
   "execution_count": 135,
   "metadata": {},
   "outputs": [],
   "source": [
    "tf.drop([0], inplace = True)"
   ]
  },
  {
   "cell_type": "code",
   "execution_count": 136,
   "metadata": {},
   "outputs": [
    {
     "data": {
      "text/html": [
       "<div>\n",
       "<style scoped>\n",
       "    .dataframe tbody tr th:only-of-type {\n",
       "        vertical-align: middle;\n",
       "    }\n",
       "\n",
       "    .dataframe tbody tr th {\n",
       "        vertical-align: top;\n",
       "    }\n",
       "\n",
       "    .dataframe thead th {\n",
       "        text-align: right;\n",
       "    }\n",
       "</style>\n",
       "<table border=\"1\" class=\"dataframe\">\n",
       "  <thead>\n",
       "    <tr style=\"text-align: right;\">\n",
       "      <th></th>\n",
       "      <th>words</th>\n",
       "      <th>tf</th>\n",
       "    </tr>\n",
       "  </thead>\n",
       "  <tbody>\n",
       "    <tr>\n",
       "      <th>31</th>\n",
       "      <td>new</td>\n",
       "      <td>222.0</td>\n",
       "    </tr>\n",
       "    <tr>\n",
       "      <th>6</th>\n",
       "      <td>culture</td>\n",
       "      <td>166.0</td>\n",
       "    </tr>\n",
       "    <tr>\n",
       "      <th>19</th>\n",
       "      <td>world</td>\n",
       "      <td>79.0</td>\n",
       "    </tr>\n",
       "    <tr>\n",
       "      <th>13</th>\n",
       "      <td>food</td>\n",
       "      <td>78.0</td>\n",
       "    </tr>\n",
       "    <tr>\n",
       "      <th>93</th>\n",
       "      <td>adventure</td>\n",
       "      <td>54.0</td>\n",
       "    </tr>\n",
       "    <tr>\n",
       "      <th>21</th>\n",
       "      <td>place</td>\n",
       "      <td>53.0</td>\n",
       "    </tr>\n",
       "    <tr>\n",
       "      <th>135</th>\n",
       "      <td>people</td>\n",
       "      <td>47.0</td>\n",
       "    </tr>\n",
       "    <tr>\n",
       "      <th>66</th>\n",
       "      <td>curiosity</td>\n",
       "      <td>33.0</td>\n",
       "    </tr>\n",
       "    <tr>\n",
       "      <th>5</th>\n",
       "      <td>exploring</td>\n",
       "      <td>32.0</td>\n",
       "    </tr>\n",
       "    <tr>\n",
       "      <th>40</th>\n",
       "      <td>life</td>\n",
       "      <td>31.0</td>\n",
       "    </tr>\n",
       "  </tbody>\n",
       "</table>\n",
       "</div>"
      ],
      "text/plain": [
       "         words     tf\n",
       "31         new  222.0\n",
       "6      culture  166.0\n",
       "19       world   79.0\n",
       "13        food   78.0\n",
       "93   adventure   54.0\n",
       "21       place   53.0\n",
       "135     people   47.0\n",
       "66   curiosity   33.0\n",
       "5    exploring   32.0\n",
       "40        life   31.0"
      ]
     },
     "execution_count": 136,
     "metadata": {},
     "output_type": "execute_result"
    }
   ],
   "source": [
    "tf.sort_values(by='tf', ascending = False)[:10]"
   ]
  },
  {
   "cell_type": "code",
   "execution_count": 137,
   "metadata": {},
   "outputs": [],
   "source": [
    "for i, word in enumerate(tf['words']):\n",
    "    tf.loc[i, 'idf'] = np.log(df.shape[0] / (len(df[df['motivation_pr'].str.contains(word)])))"
   ]
  },
  {
   "cell_type": "code",
   "execution_count": 138,
   "metadata": {},
   "outputs": [
    {
     "data": {
      "text/html": [
       "<div>\n",
       "<style scoped>\n",
       "    .dataframe tbody tr th:only-of-type {\n",
       "        vertical-align: middle;\n",
       "    }\n",
       "\n",
       "    .dataframe tbody tr th {\n",
       "        vertical-align: top;\n",
       "    }\n",
       "\n",
       "    .dataframe thead th {\n",
       "        text-align: right;\n",
       "    }\n",
       "</style>\n",
       "<table border=\"1\" class=\"dataframe\">\n",
       "  <thead>\n",
       "    <tr style=\"text-align: right;\">\n",
       "      <th></th>\n",
       "      <th>words</th>\n",
       "      <th>tf</th>\n",
       "      <th>idf</th>\n",
       "    </tr>\n",
       "  </thead>\n",
       "  <tbody>\n",
       "    <tr>\n",
       "      <th>1</th>\n",
       "      <td>comfort</td>\n",
       "      <td>3.0</td>\n",
       "      <td>6.061457</td>\n",
       "    </tr>\n",
       "    <tr>\n",
       "      <th>2</th>\n",
       "      <td>inspiration</td>\n",
       "      <td>2.0</td>\n",
       "      <td>4.046554</td>\n",
       "    </tr>\n",
       "    <tr>\n",
       "      <th>3</th>\n",
       "      <td>getting</td>\n",
       "      <td>16.0</td>\n",
       "      <td>5.655992</td>\n",
       "    </tr>\n",
       "    <tr>\n",
       "      <th>4</th>\n",
       "      <td>zone</td>\n",
       "      <td>3.0</td>\n",
       "      <td>3.288868</td>\n",
       "    </tr>\n",
       "    <tr>\n",
       "      <th>5</th>\n",
       "      <td>exploring</td>\n",
       "      <td>32.0</td>\n",
       "      <td>1.648659</td>\n",
       "    </tr>\n",
       "  </tbody>\n",
       "</table>\n",
       "</div>"
      ],
      "text/plain": [
       "         words    tf       idf\n",
       "1      comfort   3.0  6.061457\n",
       "2  inspiration   2.0  4.046554\n",
       "3      getting  16.0  5.655992\n",
       "4         zone   3.0  3.288868\n",
       "5    exploring  32.0  1.648659"
      ]
     },
     "execution_count": 138,
     "metadata": {},
     "output_type": "execute_result"
    }
   ],
   "source": [
    "tf.head()"
   ]
  },
  {
   "cell_type": "code",
   "execution_count": 139,
   "metadata": {},
   "outputs": [
    {
     "data": {
      "text/html": [
       "<div>\n",
       "<style scoped>\n",
       "    .dataframe tbody tr th:only-of-type {\n",
       "        vertical-align: middle;\n",
       "    }\n",
       "\n",
       "    .dataframe tbody tr th {\n",
       "        vertical-align: top;\n",
       "    }\n",
       "\n",
       "    .dataframe thead th {\n",
       "        text-align: right;\n",
       "    }\n",
       "</style>\n",
       "<table border=\"1\" class=\"dataframe\">\n",
       "  <thead>\n",
       "    <tr style=\"text-align: right;\">\n",
       "      <th></th>\n",
       "      <th>words</th>\n",
       "      <th>tf</th>\n",
       "      <th>idf</th>\n",
       "    </tr>\n",
       "  </thead>\n",
       "  <tbody>\n",
       "    <tr>\n",
       "      <th>223</th>\n",
       "      <td>somewhere</td>\n",
       "      <td>2.0</td>\n",
       "      <td>6.754604</td>\n",
       "    </tr>\n",
       "    <tr>\n",
       "      <th>363</th>\n",
       "      <td>knowledge</td>\n",
       "      <td>2.0</td>\n",
       "      <td>6.754604</td>\n",
       "    </tr>\n",
       "    <tr>\n",
       "      <th>329</th>\n",
       "      <td>journey</td>\n",
       "      <td>1.0</td>\n",
       "      <td>6.754604</td>\n",
       "    </tr>\n",
       "    <tr>\n",
       "      <th>328</th>\n",
       "      <td>taste</td>\n",
       "      <td>1.0</td>\n",
       "      <td>6.754604</td>\n",
       "    </tr>\n",
       "    <tr>\n",
       "      <th>327</th>\n",
       "      <td>sound</td>\n",
       "      <td>1.0</td>\n",
       "      <td>6.754604</td>\n",
       "    </tr>\n",
       "    <tr>\n",
       "      <th>326</th>\n",
       "      <td>smell</td>\n",
       "      <td>1.0</td>\n",
       "      <td>6.754604</td>\n",
       "    </tr>\n",
       "    <tr>\n",
       "      <th>325</th>\n",
       "      <td>traveling</td>\n",
       "      <td>2.0</td>\n",
       "      <td>6.754604</td>\n",
       "    </tr>\n",
       "    <tr>\n",
       "      <th>173</th>\n",
       "      <td>discover</td>\n",
       "      <td>3.0</td>\n",
       "      <td>6.754604</td>\n",
       "    </tr>\n",
       "    <tr>\n",
       "      <th>174</th>\n",
       "      <td>leisure</td>\n",
       "      <td>1.0</td>\n",
       "      <td>6.754604</td>\n",
       "    </tr>\n",
       "    <tr>\n",
       "      <th>175</th>\n",
       "      <td>design</td>\n",
       "      <td>1.0</td>\n",
       "      <td>6.754604</td>\n",
       "    </tr>\n",
       "  </tbody>\n",
       "</table>\n",
       "</div>"
      ],
      "text/plain": [
       "         words   tf       idf\n",
       "223  somewhere  2.0  6.754604\n",
       "363  knowledge  2.0  6.754604\n",
       "329    journey  1.0  6.754604\n",
       "328      taste  1.0  6.754604\n",
       "327      sound  1.0  6.754604\n",
       "326      smell  1.0  6.754604\n",
       "325  traveling  2.0  6.754604\n",
       "173   discover  3.0  6.754604\n",
       "174    leisure  1.0  6.754604\n",
       "175     design  1.0  6.754604"
      ]
     },
     "execution_count": 139,
     "metadata": {},
     "output_type": "execute_result"
    }
   ],
   "source": [
    "tf.sort_values(by='idf', ascending = False)[:10]"
   ]
  },
  {
   "cell_type": "markdown",
   "metadata": {},
   "source": [
    "Rarely used words have high idf"
   ]
  },
  {
   "cell_type": "code",
   "execution_count": 140,
   "metadata": {},
   "outputs": [
    {
     "data": {
      "text/html": [
       "<div>\n",
       "<style scoped>\n",
       "    .dataframe tbody tr th:only-of-type {\n",
       "        vertical-align: middle;\n",
       "    }\n",
       "\n",
       "    .dataframe tbody tr th {\n",
       "        vertical-align: top;\n",
       "    }\n",
       "\n",
       "    .dataframe thead th {\n",
       "        text-align: right;\n",
       "    }\n",
       "</style>\n",
       "<table border=\"1\" class=\"dataframe\">\n",
       "  <thead>\n",
       "    <tr style=\"text-align: right;\">\n",
       "      <th></th>\n",
       "      <th>words</th>\n",
       "      <th>tf</th>\n",
       "      <th>idf</th>\n",
       "      <th>tf-idf</th>\n",
       "    </tr>\n",
       "  </thead>\n",
       "  <tbody>\n",
       "    <tr>\n",
       "      <th>1</th>\n",
       "      <td>comfort</td>\n",
       "      <td>3.0</td>\n",
       "      <td>6.061457</td>\n",
       "      <td>18.184371</td>\n",
       "    </tr>\n",
       "    <tr>\n",
       "      <th>2</th>\n",
       "      <td>inspiration</td>\n",
       "      <td>2.0</td>\n",
       "      <td>4.046554</td>\n",
       "      <td>8.093108</td>\n",
       "    </tr>\n",
       "    <tr>\n",
       "      <th>3</th>\n",
       "      <td>getting</td>\n",
       "      <td>16.0</td>\n",
       "      <td>5.655992</td>\n",
       "      <td>90.495869</td>\n",
       "    </tr>\n",
       "    <tr>\n",
       "      <th>4</th>\n",
       "      <td>zone</td>\n",
       "      <td>3.0</td>\n",
       "      <td>3.288868</td>\n",
       "      <td>9.866605</td>\n",
       "    </tr>\n",
       "    <tr>\n",
       "      <th>5</th>\n",
       "      <td>exploring</td>\n",
       "      <td>32.0</td>\n",
       "      <td>1.648659</td>\n",
       "      <td>52.757076</td>\n",
       "    </tr>\n",
       "  </tbody>\n",
       "</table>\n",
       "</div>"
      ],
      "text/plain": [
       "         words    tf       idf     tf-idf\n",
       "1      comfort   3.0  6.061457  18.184371\n",
       "2  inspiration   2.0  4.046554   8.093108\n",
       "3      getting  16.0  5.655992  90.495869\n",
       "4         zone   3.0  3.288868   9.866605\n",
       "5    exploring  32.0  1.648659  52.757076"
      ]
     },
     "execution_count": 140,
     "metadata": {},
     "output_type": "execute_result"
    }
   ],
   "source": [
    "tf['tf-idf'] = tf['tf'] * tf['idf']\n",
    "tf.head()"
   ]
  },
  {
   "cell_type": "code",
   "execution_count": 141,
   "metadata": {},
   "outputs": [
    {
     "data": {
      "text/html": [
       "<div>\n",
       "<style scoped>\n",
       "    .dataframe tbody tr th:only-of-type {\n",
       "        vertical-align: middle;\n",
       "    }\n",
       "\n",
       "    .dataframe tbody tr th {\n",
       "        vertical-align: top;\n",
       "    }\n",
       "\n",
       "    .dataframe thead th {\n",
       "        text-align: right;\n",
       "    }\n",
       "</style>\n",
       "<table border=\"1\" class=\"dataframe\">\n",
       "  <thead>\n",
       "    <tr style=\"text-align: right;\">\n",
       "      <th></th>\n",
       "      <th>words</th>\n",
       "      <th>tf</th>\n",
       "      <th>idf</th>\n",
       "      <th>tf-idf</th>\n",
       "    </tr>\n",
       "  </thead>\n",
       "  <tbody>\n",
       "    <tr>\n",
       "      <th>6</th>\n",
       "      <td>culture</td>\n",
       "      <td>166.0</td>\n",
       "      <td>6.754604</td>\n",
       "      <td>1121.264281</td>\n",
       "    </tr>\n",
       "    <tr>\n",
       "      <th>31</th>\n",
       "      <td>new</td>\n",
       "      <td>222.0</td>\n",
       "      <td>4.356709</td>\n",
       "      <td>967.189360</td>\n",
       "    </tr>\n",
       "    <tr>\n",
       "      <th>13</th>\n",
       "      <td>food</td>\n",
       "      <td>78.0</td>\n",
       "      <td>5.655992</td>\n",
       "      <td>441.167361</td>\n",
       "    </tr>\n",
       "    <tr>\n",
       "      <th>19</th>\n",
       "      <td>world</td>\n",
       "      <td>79.0</td>\n",
       "      <td>4.356709</td>\n",
       "      <td>344.179997</td>\n",
       "    </tr>\n",
       "    <tr>\n",
       "      <th>93</th>\n",
       "      <td>adventure</td>\n",
       "      <td>54.0</td>\n",
       "      <td>4.675163</td>\n",
       "      <td>252.458778</td>\n",
       "    </tr>\n",
       "    <tr>\n",
       "      <th>135</th>\n",
       "      <td>people</td>\n",
       "      <td>47.0</td>\n",
       "      <td>5.368310</td>\n",
       "      <td>252.310558</td>\n",
       "    </tr>\n",
       "    <tr>\n",
       "      <th>21</th>\n",
       "      <td>place</td>\n",
       "      <td>53.0</td>\n",
       "      <td>4.557380</td>\n",
       "      <td>241.541115</td>\n",
       "    </tr>\n",
       "    <tr>\n",
       "      <th>16</th>\n",
       "      <td>nature</td>\n",
       "      <td>31.0</td>\n",
       "      <td>6.754604</td>\n",
       "      <td>209.392727</td>\n",
       "    </tr>\n",
       "    <tr>\n",
       "      <th>40</th>\n",
       "      <td>life</td>\n",
       "      <td>31.0</td>\n",
       "      <td>6.754604</td>\n",
       "      <td>209.392727</td>\n",
       "    </tr>\n",
       "    <tr>\n",
       "      <th>177</th>\n",
       "      <td>history</td>\n",
       "      <td>28.0</td>\n",
       "      <td>6.754604</td>\n",
       "      <td>189.128915</td>\n",
       "    </tr>\n",
       "  </tbody>\n",
       "</table>\n",
       "</div>"
      ],
      "text/plain": [
       "         words     tf       idf       tf-idf\n",
       "6      culture  166.0  6.754604  1121.264281\n",
       "31         new  222.0  4.356709   967.189360\n",
       "13        food   78.0  5.655992   441.167361\n",
       "19       world   79.0  4.356709   344.179997\n",
       "93   adventure   54.0  4.675163   252.458778\n",
       "135     people   47.0  5.368310   252.310558\n",
       "21       place   53.0  4.557380   241.541115\n",
       "16      nature   31.0  6.754604   209.392727\n",
       "40        life   31.0  6.754604   209.392727\n",
       "177    history   28.0  6.754604   189.128915"
      ]
     },
     "execution_count": 141,
     "metadata": {},
     "output_type": "execute_result"
    }
   ],
   "source": [
    "tf.sort_values(by='tf-idf', ascending = False)[:10]"
   ]
  },
  {
   "cell_type": "code",
   "execution_count": 142,
   "metadata": {},
   "outputs": [
    {
     "data": {
      "text/plain": [
       "0    (0.0, 0.0)\n",
       "1    (0.0, 0.0)\n",
       "2    (0.0, 0.0)\n",
       "3    (0.0, 0.0)\n",
       "4    (0.0, 0.0)\n",
       "5    (0.0, 0.0)\n",
       "6    (0.1, 0.2)\n",
       "7    (0.0, 0.0)\n",
       "8    (0.0, 0.0)\n",
       "9    (0.0, 0.0)\n",
       "Name: motivation_pr, dtype: object"
      ]
     },
     "execution_count": 142,
     "metadata": {},
     "output_type": "execute_result"
    }
   ],
   "source": [
    "df['motivation_pr'][:10].apply(lambda x: TextBlob(x).sentiment)"
   ]
  },
  {
   "cell_type": "code",
   "execution_count": 143,
   "metadata": {},
   "outputs": [],
   "source": [
    "df['motivation_pol'] = df['motivation_pr'].apply(lambda x: TextBlob(x).sentiment[0])"
   ]
  },
  {
   "cell_type": "code",
   "execution_count": 144,
   "metadata": {},
   "outputs": [],
   "source": [
    "df['motivation_sub'] = df['motivation_pr'].apply(lambda x: TextBlob(x).sentiment[1])"
   ]
  },
  {
   "cell_type": "code",
   "execution_count": 145,
   "metadata": {},
   "outputs": [
    {
     "data": {
      "text/html": [
       "<div>\n",
       "<style scoped>\n",
       "    .dataframe tbody tr th:only-of-type {\n",
       "        vertical-align: middle;\n",
       "    }\n",
       "\n",
       "    .dataframe tbody tr th {\n",
       "        vertical-align: top;\n",
       "    }\n",
       "\n",
       "    .dataframe thead th {\n",
       "        text-align: right;\n",
       "    }\n",
       "</style>\n",
       "<table border=\"1\" class=\"dataframe\">\n",
       "  <thead>\n",
       "    <tr style=\"text-align: right;\">\n",
       "      <th></th>\n",
       "      <th>motivation_pol</th>\n",
       "      <th>motivation_sub</th>\n",
       "    </tr>\n",
       "  </thead>\n",
       "  <tbody>\n",
       "    <tr>\n",
       "      <th>0</th>\n",
       "      <td>0.0</td>\n",
       "      <td>0.0</td>\n",
       "    </tr>\n",
       "    <tr>\n",
       "      <th>1</th>\n",
       "      <td>0.0</td>\n",
       "      <td>0.0</td>\n",
       "    </tr>\n",
       "    <tr>\n",
       "      <th>2</th>\n",
       "      <td>0.0</td>\n",
       "      <td>0.0</td>\n",
       "    </tr>\n",
       "    <tr>\n",
       "      <th>3</th>\n",
       "      <td>0.0</td>\n",
       "      <td>0.0</td>\n",
       "    </tr>\n",
       "    <tr>\n",
       "      <th>4</th>\n",
       "      <td>0.0</td>\n",
       "      <td>0.0</td>\n",
       "    </tr>\n",
       "    <tr>\n",
       "      <th>5</th>\n",
       "      <td>0.0</td>\n",
       "      <td>0.0</td>\n",
       "    </tr>\n",
       "    <tr>\n",
       "      <th>6</th>\n",
       "      <td>0.1</td>\n",
       "      <td>0.2</td>\n",
       "    </tr>\n",
       "    <tr>\n",
       "      <th>7</th>\n",
       "      <td>0.0</td>\n",
       "      <td>0.0</td>\n",
       "    </tr>\n",
       "    <tr>\n",
       "      <th>8</th>\n",
       "      <td>0.0</td>\n",
       "      <td>0.0</td>\n",
       "    </tr>\n",
       "    <tr>\n",
       "      <th>9</th>\n",
       "      <td>0.0</td>\n",
       "      <td>0.0</td>\n",
       "    </tr>\n",
       "  </tbody>\n",
       "</table>\n",
       "</div>"
      ],
      "text/plain": [
       "   motivation_pol  motivation_sub\n",
       "0             0.0             0.0\n",
       "1             0.0             0.0\n",
       "2             0.0             0.0\n",
       "3             0.0             0.0\n",
       "4             0.0             0.0\n",
       "5             0.0             0.0\n",
       "6             0.1             0.2\n",
       "7             0.0             0.0\n",
       "8             0.0             0.0\n",
       "9             0.0             0.0"
      ]
     },
     "execution_count": 145,
     "metadata": {},
     "output_type": "execute_result"
    }
   ],
   "source": [
    "df[['motivation_pol', 'motivation_sub']][:10]"
   ]
  },
  {
   "cell_type": "code",
   "execution_count": 146,
   "metadata": {},
   "outputs": [
    {
     "data": {
      "text/html": [
       "<div>\n",
       "<style scoped>\n",
       "    .dataframe tbody tr th:only-of-type {\n",
       "        vertical-align: middle;\n",
       "    }\n",
       "\n",
       "    .dataframe tbody tr th {\n",
       "        vertical-align: top;\n",
       "    }\n",
       "\n",
       "    .dataframe thead th {\n",
       "        text-align: right;\n",
       "    }\n",
       "</style>\n",
       "<table border=\"1\" class=\"dataframe\">\n",
       "  <thead>\n",
       "    <tr style=\"text-align: right;\">\n",
       "      <th></th>\n",
       "      <th>motivation_pr</th>\n",
       "      <th>motivation_pol</th>\n",
       "    </tr>\n",
       "  </thead>\n",
       "  <tbody>\n",
       "    <tr>\n",
       "      <th>367</th>\n",
       "      <td>beautiful landscape learning culture</td>\n",
       "      <td>0.85</td>\n",
       "    </tr>\n",
       "    <tr>\n",
       "      <th>333</th>\n",
       "      <td>beautiful landscape</td>\n",
       "      <td>0.85</td>\n",
       "    </tr>\n",
       "    <tr>\n",
       "      <th>754</th>\n",
       "      <td>creating beautiful memory</td>\n",
       "      <td>0.85</td>\n",
       "    </tr>\n",
       "    <tr>\n",
       "      <th>666</th>\n",
       "      <td>beautiful place learning culture</td>\n",
       "      <td>0.85</td>\n",
       "    </tr>\n",
       "    <tr>\n",
       "      <th>836</th>\n",
       "      <td>want beautiful</td>\n",
       "      <td>0.85</td>\n",
       "    </tr>\n",
       "    <tr>\n",
       "      <th>30</th>\n",
       "      <td>photography beautiful across world</td>\n",
       "      <td>0.85</td>\n",
       "    </tr>\n",
       "    <tr>\n",
       "      <th>363</th>\n",
       "      <td>beautiful landscape</td>\n",
       "      <td>0.85</td>\n",
       "    </tr>\n",
       "    <tr>\n",
       "      <th>794</th>\n",
       "      <td>beautiful sight culture</td>\n",
       "      <td>0.85</td>\n",
       "    </tr>\n",
       "    <tr>\n",
       "      <th>498</th>\n",
       "      <td>planet beautiful anna beauty</td>\n",
       "      <td>0.85</td>\n",
       "    </tr>\n",
       "    <tr>\n",
       "      <th>568</th>\n",
       "      <td>beautiful art nature</td>\n",
       "      <td>0.85</td>\n",
       "    </tr>\n",
       "  </tbody>\n",
       "</table>\n",
       "</div>"
      ],
      "text/plain": [
       "                            motivation_pr  motivation_pol\n",
       "367  beautiful landscape learning culture            0.85\n",
       "333                   beautiful landscape            0.85\n",
       "754             creating beautiful memory            0.85\n",
       "666      beautiful place learning culture            0.85\n",
       "836                        want beautiful            0.85\n",
       "30     photography beautiful across world            0.85\n",
       "363                   beautiful landscape            0.85\n",
       "794               beautiful sight culture            0.85\n",
       "498          planet beautiful anna beauty            0.85\n",
       "568                  beautiful art nature            0.85"
      ]
     },
     "execution_count": 146,
     "metadata": {},
     "output_type": "execute_result"
    }
   ],
   "source": [
    "df.sort_values(by='motivation_pol', ascending = False)[['motivation_pr', 'motivation_pol']][:10]"
   ]
  },
  {
   "cell_type": "markdown",
   "metadata": {},
   "source": [
    "Including beautiful boosts polarity"
   ]
  },
  {
   "cell_type": "code",
   "execution_count": 147,
   "metadata": {},
   "outputs": [
    {
     "data": {
      "text/html": [
       "<div>\n",
       "<style scoped>\n",
       "    .dataframe tbody tr th:only-of-type {\n",
       "        vertical-align: middle;\n",
       "    }\n",
       "\n",
       "    .dataframe tbody tr th {\n",
       "        vertical-align: top;\n",
       "    }\n",
       "\n",
       "    .dataframe thead th {\n",
       "        text-align: right;\n",
       "    }\n",
       "</style>\n",
       "<table border=\"1\" class=\"dataframe\">\n",
       "  <thead>\n",
       "    <tr style=\"text-align: right;\">\n",
       "      <th></th>\n",
       "      <th>motivation_pr</th>\n",
       "      <th>motivation_pol</th>\n",
       "    </tr>\n",
       "  </thead>\n",
       "  <tbody>\n",
       "    <tr>\n",
       "      <th>573</th>\n",
       "      <td>hate traveling</td>\n",
       "      <td>-0.8000</td>\n",
       "    </tr>\n",
       "    <tr>\n",
       "      <th>676</th>\n",
       "      <td>people lead life people also regardless expanding mind getting crazy situation would never get home art food</td>\n",
       "      <td>-0.6000</td>\n",
       "    </tr>\n",
       "    <tr>\n",
       "      <th>403</th>\n",
       "      <td>escape day day normal boring life</td>\n",
       "      <td>-0.4250</td>\n",
       "    </tr>\n",
       "    <tr>\n",
       "      <th>512</th>\n",
       "      <td>traveling secret life</td>\n",
       "      <td>-0.4000</td>\n",
       "    </tr>\n",
       "    <tr>\n",
       "      <th>854</th>\n",
       "      <td>long cold winter home</td>\n",
       "      <td>-0.3250</td>\n",
       "    </tr>\n",
       "    <tr>\n",
       "      <th>337</th>\n",
       "      <td>beyond usual surroundings</td>\n",
       "      <td>-0.2500</td>\n",
       "    </tr>\n",
       "    <tr>\n",
       "      <th>750</th>\n",
       "      <td>bored monotonous daily life</td>\n",
       "      <td>-0.2500</td>\n",
       "    </tr>\n",
       "    <tr>\n",
       "      <th>707</th>\n",
       "      <td>escaping monotony everyday life</td>\n",
       "      <td>-0.2000</td>\n",
       "    </tr>\n",
       "    <tr>\n",
       "      <th>694</th>\n",
       "      <td>getting change scenery getting away everyday life</td>\n",
       "      <td>-0.2000</td>\n",
       "    </tr>\n",
       "    <tr>\n",
       "      <th>72</th>\n",
       "      <td>much little time</td>\n",
       "      <td>-0.1875</td>\n",
       "    </tr>\n",
       "  </tbody>\n",
       "</table>\n",
       "</div>"
      ],
      "text/plain": [
       "                                                                                                    motivation_pr  \\\n",
       "573                                                                                                hate traveling   \n",
       "676  people lead life people also regardless expanding mind getting crazy situation would never get home art food   \n",
       "403                                                                             escape day day normal boring life   \n",
       "512                                                                                         traveling secret life   \n",
       "854                                                                                         long cold winter home   \n",
       "337                                                                                     beyond usual surroundings   \n",
       "750                                                                                   bored monotonous daily life   \n",
       "707                                                                               escaping monotony everyday life   \n",
       "694                                                             getting change scenery getting away everyday life   \n",
       "72                                                                                               much little time   \n",
       "\n",
       "     motivation_pol  \n",
       "573         -0.8000  \n",
       "676         -0.6000  \n",
       "403         -0.4250  \n",
       "512         -0.4000  \n",
       "854         -0.3250  \n",
       "337         -0.2500  \n",
       "750         -0.2500  \n",
       "707         -0.2000  \n",
       "694         -0.2000  \n",
       "72          -0.1875  "
      ]
     },
     "execution_count": 147,
     "metadata": {},
     "output_type": "execute_result"
    }
   ],
   "source": [
    "df.sort_values(by='motivation_pol')[['motivation_pr', 'motivation_pol']][:10]"
   ]
  },
  {
   "cell_type": "markdown",
   "metadata": {},
   "source": [
    "The lowest polarity motivations include 'hate', 'crazy', 'escape', 'boring'"
   ]
  },
  {
   "cell_type": "code",
   "execution_count": 148,
   "metadata": {},
   "outputs": [
    {
     "data": {
      "text/html": [
       "<div>\n",
       "<style scoped>\n",
       "    .dataframe tbody tr th:only-of-type {\n",
       "        vertical-align: middle;\n",
       "    }\n",
       "\n",
       "    .dataframe tbody tr th {\n",
       "        vertical-align: top;\n",
       "    }\n",
       "\n",
       "    .dataframe thead th {\n",
       "        text-align: right;\n",
       "    }\n",
       "</style>\n",
       "<table border=\"1\" class=\"dataframe\">\n",
       "  <thead>\n",
       "    <tr style=\"text-align: right;\">\n",
       "      <th></th>\n",
       "      <th>motivation_pr</th>\n",
       "      <th>motivation_sub</th>\n",
       "    </tr>\n",
       "  </thead>\n",
       "  <tbody>\n",
       "    <tr>\n",
       "      <th>24</th>\n",
       "      <td>geological site friend far place</td>\n",
       "      <td>1.0</td>\n",
       "    </tr>\n",
       "    <tr>\n",
       "      <th>794</th>\n",
       "      <td>beautiful sight culture</td>\n",
       "      <td>1.0</td>\n",
       "    </tr>\n",
       "    <tr>\n",
       "      <th>754</th>\n",
       "      <td>creating beautiful memory</td>\n",
       "      <td>1.0</td>\n",
       "    </tr>\n",
       "    <tr>\n",
       "      <th>666</th>\n",
       "      <td>beautiful place learning culture</td>\n",
       "      <td>1.0</td>\n",
       "    </tr>\n",
       "    <tr>\n",
       "      <th>568</th>\n",
       "      <td>beautiful art nature</td>\n",
       "      <td>1.0</td>\n",
       "    </tr>\n",
       "    <tr>\n",
       "      <th>559</th>\n",
       "      <td>beautiful place</td>\n",
       "      <td>1.0</td>\n",
       "    </tr>\n",
       "    <tr>\n",
       "      <th>498</th>\n",
       "      <td>planet beautiful anna beauty</td>\n",
       "      <td>1.0</td>\n",
       "    </tr>\n",
       "    <tr>\n",
       "      <th>472</th>\n",
       "      <td>make happy</td>\n",
       "      <td>1.0</td>\n",
       "    </tr>\n",
       "    <tr>\n",
       "      <th>410</th>\n",
       "      <td>much possible</td>\n",
       "      <td>1.0</td>\n",
       "    </tr>\n",
       "    <tr>\n",
       "      <th>406</th>\n",
       "      <td>world especially nature</td>\n",
       "      <td>1.0</td>\n",
       "    </tr>\n",
       "    <tr>\n",
       "      <th>367</th>\n",
       "      <td>beautiful landscape learning culture</td>\n",
       "      <td>1.0</td>\n",
       "    </tr>\n",
       "    <tr>\n",
       "      <th>363</th>\n",
       "      <td>beautiful landscape</td>\n",
       "      <td>1.0</td>\n",
       "    </tr>\n",
       "    <tr>\n",
       "      <th>333</th>\n",
       "      <td>beautiful landscape</td>\n",
       "      <td>1.0</td>\n",
       "    </tr>\n",
       "    <tr>\n",
       "      <th>195</th>\n",
       "      <td>beautiful place</td>\n",
       "      <td>1.0</td>\n",
       "    </tr>\n",
       "    <tr>\n",
       "      <th>113</th>\n",
       "      <td>want landscape around world dont get home in ohio dont much extreme landscape</td>\n",
       "      <td>1.0</td>\n",
       "    </tr>\n",
       "    <tr>\n",
       "      <th>30</th>\n",
       "      <td>photography beautiful across world</td>\n",
       "      <td>1.0</td>\n",
       "    </tr>\n",
       "    <tr>\n",
       "      <th>819</th>\n",
       "      <td>far away work</td>\n",
       "      <td>1.0</td>\n",
       "    </tr>\n",
       "    <tr>\n",
       "      <th>836</th>\n",
       "      <td>want beautiful</td>\n",
       "      <td>1.0</td>\n",
       "    </tr>\n",
       "  </tbody>\n",
       "</table>\n",
       "</div>"
      ],
      "text/plain": [
       "                                                                     motivation_pr  \\\n",
       "24                                                geological site friend far place   \n",
       "794                                                        beautiful sight culture   \n",
       "754                                                      creating beautiful memory   \n",
       "666                                               beautiful place learning culture   \n",
       "568                                                           beautiful art nature   \n",
       "559                                                                beautiful place   \n",
       "498                                                   planet beautiful anna beauty   \n",
       "472                                                                     make happy   \n",
       "410                                                                  much possible   \n",
       "406                                                        world especially nature   \n",
       "367                                           beautiful landscape learning culture   \n",
       "363                                                            beautiful landscape   \n",
       "333                                                            beautiful landscape   \n",
       "195                                                                beautiful place   \n",
       "113  want landscape around world dont get home in ohio dont much extreme landscape   \n",
       "30                                              photography beautiful across world   \n",
       "819                                                                  far away work   \n",
       "836                                                                 want beautiful   \n",
       "\n",
       "     motivation_sub  \n",
       "24              1.0  \n",
       "794             1.0  \n",
       "754             1.0  \n",
       "666             1.0  \n",
       "568             1.0  \n",
       "559             1.0  \n",
       "498             1.0  \n",
       "472             1.0  \n",
       "410             1.0  \n",
       "406             1.0  \n",
       "367             1.0  \n",
       "363             1.0  \n",
       "333             1.0  \n",
       "195             1.0  \n",
       "113             1.0  \n",
       "30              1.0  \n",
       "819             1.0  \n",
       "836             1.0  "
      ]
     },
     "execution_count": 148,
     "metadata": {},
     "output_type": "execute_result"
    }
   ],
   "source": [
    "df[df['motivation_sub'] == 1].sort_values(by='motivation_sub')[['motivation_pr', 'motivation_sub']]"
   ]
  },
  {
   "cell_type": "code",
   "execution_count": 149,
   "metadata": {},
   "outputs": [
    {
     "name": "stderr",
     "output_type": "stream",
     "text": [
      "/home/eric/anaconda3/lib/python3.7/site-packages/ipykernel_launcher.py:1: UserWarning: Boolean Series key will be reindexed to match DataFrame index.\n",
      "  \"\"\"Entry point for launching an IPython kernel.\n"
     ]
    },
    {
     "data": {
      "text/html": [
       "<div>\n",
       "<style scoped>\n",
       "    .dataframe tbody tr th:only-of-type {\n",
       "        vertical-align: middle;\n",
       "    }\n",
       "\n",
       "    .dataframe tbody tr th {\n",
       "        vertical-align: top;\n",
       "    }\n",
       "\n",
       "    .dataframe thead th {\n",
       "        text-align: right;\n",
       "    }\n",
       "</style>\n",
       "<table border=\"1\" class=\"dataframe\">\n",
       "  <thead>\n",
       "    <tr style=\"text-align: right;\">\n",
       "      <th></th>\n",
       "      <th>motivation_pr</th>\n",
       "      <th>motivation_sub</th>\n",
       "    </tr>\n",
       "  </thead>\n",
       "  <tbody>\n",
       "    <tr>\n",
       "      <th>208</th>\n",
       "      <td>can stay put home need everything</td>\n",
       "      <td>0.0</td>\n",
       "    </tr>\n",
       "    <tr>\n",
       "      <th>214</th>\n",
       "      <td>meeting people culture being nature</td>\n",
       "      <td>0.0</td>\n",
       "    </tr>\n",
       "    <tr>\n",
       "      <th>243</th>\n",
       "      <td>learn culture treasure humanity</td>\n",
       "      <td>0.0</td>\n",
       "    </tr>\n",
       "    <tr>\n",
       "      <th>429</th>\n",
       "      <td>curiosity wanting know in used</td>\n",
       "      <td>0.0</td>\n",
       "    </tr>\n",
       "    <tr>\n",
       "      <th>549</th>\n",
       "      <td>experiencing culture history part world</td>\n",
       "      <td>0.0</td>\n",
       "    </tr>\n",
       "    <tr>\n",
       "      <th>567</th>\n",
       "      <td>like people like home</td>\n",
       "      <td>0.0</td>\n",
       "    </tr>\n",
       "    <tr>\n",
       "      <th>585</th>\n",
       "      <td>broadening learning world</td>\n",
       "      <td>0.0</td>\n",
       "    </tr>\n",
       "    <tr>\n",
       "      <th>601</th>\n",
       "      <td>learning culture way life including food</td>\n",
       "      <td>0.0</td>\n",
       "    </tr>\n",
       "    <tr>\n",
       "      <th>618</th>\n",
       "      <td>world know insignificance</td>\n",
       "      <td>0.0</td>\n",
       "    </tr>\n",
       "    <tr>\n",
       "      <th>643</th>\n",
       "      <td>world that one in living</td>\n",
       "      <td>0.0</td>\n",
       "    </tr>\n",
       "    <tr>\n",
       "      <th>698</th>\n",
       "      <td>culture history food get away friend</td>\n",
       "      <td>0.0</td>\n",
       "    </tr>\n",
       "    <tr>\n",
       "      <th>788</th>\n",
       "      <td>thrill learning place travel</td>\n",
       "      <td>0.0</td>\n",
       "    </tr>\n",
       "    <tr>\n",
       "      <th>812</th>\n",
       "      <td>everything world offer grow person</td>\n",
       "      <td>0.0</td>\n",
       "    </tr>\n",
       "    <tr>\n",
       "      <th>822</th>\n",
       "      <td>in looking world looking place</td>\n",
       "      <td>0.0</td>\n",
       "    </tr>\n",
       "    <tr>\n",
       "      <th>856</th>\n",
       "      <td>world immediate surrounding accustomed lifestyle</td>\n",
       "      <td>0.0</td>\n",
       "    </tr>\n",
       "  </tbody>\n",
       "</table>\n",
       "</div>"
      ],
      "text/plain": [
       "                                        motivation_pr  motivation_sub\n",
       "208                 can stay put home need everything             0.0\n",
       "214               meeting people culture being nature             0.0\n",
       "243                   learn culture treasure humanity             0.0\n",
       "429                    curiosity wanting know in used             0.0\n",
       "549           experiencing culture history part world             0.0\n",
       "567                             like people like home             0.0\n",
       "585                         broadening learning world             0.0\n",
       "601          learning culture way life including food             0.0\n",
       "618                         world know insignificance             0.0\n",
       "643                          world that one in living             0.0\n",
       "698              culture history food get away friend             0.0\n",
       "788                      thrill learning place travel             0.0\n",
       "812                everything world offer grow person             0.0\n",
       "822                    in looking world looking place             0.0\n",
       "856  world immediate surrounding accustomed lifestyle             0.0"
      ]
     },
     "execution_count": 149,
     "metadata": {},
     "output_type": "execute_result"
    }
   ],
   "source": [
    "df[df['motivation_sub'] == 0][df['motivation_word_count'] >= 10].sort_values(by='motivation_sub')[['motivation_pr', 'motivation_sub']]"
   ]
  },
  {
   "cell_type": "code",
   "execution_count": 150,
   "metadata": {},
   "outputs": [],
   "source": [
    "tf.to_csv('../resources/tfMotivation.csv', index = False)"
   ]
  },
  {
   "cell_type": "code",
   "execution_count": 417,
   "metadata": {},
   "outputs": [],
   "source": [
    "df[['motivation', 'motivation_pr', 'motivation_pol', 'motivation_sub']][df['motivation'] != 'None'].to_csv('../resources/sentMotivation.csv', index=False)"
   ]
  },
  {
   "cell_type": "markdown",
   "metadata": {},
   "source": [
    "Wrote term frequency and sentiment csv files for motivation"
   ]
  },
  {
   "cell_type": "markdown",
   "metadata": {},
   "source": [
    "### Describes"
   ]
  },
  {
   "cell_type": "code",
   "execution_count": 152,
   "metadata": {},
   "outputs": [],
   "source": [
    "df.rename(index=str, columns = {'Please choose which best describes you:': 'describes'}, inplace = True)"
   ]
  },
  {
   "cell_type": "code",
   "execution_count": 153,
   "metadata": {},
   "outputs": [
    {
     "data": {
      "text/plain": [
       "218"
      ]
     },
     "execution_count": 153,
     "metadata": {},
     "output_type": "execute_result"
    }
   ],
   "source": [
    "df.shape[0] - df['describes'].count()"
   ]
  },
  {
   "cell_type": "code",
   "execution_count": 154,
   "metadata": {},
   "outputs": [
    {
     "data": {
      "text/plain": [
       "array(['Employee', nan, 'Student', 'Unemployed', 'Other', 'Owner',\n",
       "       'Freelancer'], dtype=object)"
      ]
     },
     "execution_count": 154,
     "metadata": {},
     "output_type": "execute_result"
    }
   ],
   "source": [
    "df['describes'].unique()"
   ]
  },
  {
   "cell_type": "markdown",
   "metadata": {},
   "source": [
    "Not the most interesting, expecially since there are so many missing values"
   ]
  },
  {
   "cell_type": "markdown",
   "metadata": {},
   "source": [
    "### Disappointing"
   ]
  },
  {
   "cell_type": "code",
   "execution_count": 155,
   "metadata": {},
   "outputs": [],
   "source": [
    "df.rename(index = str, columns = {'In which country was your most disappointing destination? ': 'disappointing'}, inplace = True)"
   ]
  },
  {
   "cell_type": "code",
   "execution_count": 156,
   "metadata": {},
   "outputs": [
    {
     "data": {
      "text/plain": [
       "359"
      ]
     },
     "execution_count": 156,
     "metadata": {},
     "output_type": "execute_result"
    }
   ],
   "source": [
    "df.shape[0] - df['disappointing'].count()"
   ]
  },
  {
   "cell_type": "code",
   "execution_count": 157,
   "metadata": {},
   "outputs": [],
   "source": [
    "df['disappointing'].fillna('None', inplace = True)"
   ]
  },
  {
   "cell_type": "code",
   "execution_count": 158,
   "metadata": {},
   "outputs": [
    {
     "data": {
      "text/plain": [
       "array(['Vatican City', 'None', 'New Zealand', 'Indonesia', 'Germany',\n",
       "       'Liechtenstein', 'France', 'Slovakia', 'Canada', 'Italy',\n",
       "       'Bangladesh', 'Greece', 'United States', 'Malta', 'Turkey',\n",
       "       'Morocco', 'Luxembourg', 'Cambodia', 'Czech Republic',\n",
       "       'United Arab Emirates', 'Monaco', 'Belgium', 'Australia',\n",
       "       'Costa Rica', 'Singapore', 'Antigua & Deps', 'Egypt',\n",
       "       'Netherlands', 'United Kingdom', 'Denmark', 'Serbia', 'Spain',\n",
       "       'Pakistan', 'Dominican Republic', 'Philippines', 'Argentina',\n",
       "       'Switzerland', 'Taiwan', 'Vietnam', 'Qatar', 'Brazil', 'Belize',\n",
       "       'Mexico', 'Tanzania', 'Thailand', 'China', 'Korea North',\n",
       "       'Finland', 'Ireland {Republic}', 'Norway', 'Korea South', 'Japan',\n",
       "       'Kenya', 'Sweden', 'Sri Lanka', 'Hungary', 'Austria',\n",
       "       'Russian Federation', 'Chile', 'Kuwait', 'Myanmar, {Burma}',\n",
       "       'Jamaica', 'Malaysia', 'Fiji', 'Latvia', 'Laos', 'El Salvador',\n",
       "       'Bahamas', 'Iceland', 'South Africa', 'Sierra Leone', 'India',\n",
       "       'Colombia', 'Vanuatu', 'Congo {Democratic Rep}', 'Ghana',\n",
       "       'Estonia', 'Croatia', 'Gambia', 'Peru', 'Honduras', 'Cuba',\n",
       "       'Zimbabwe', 'Macedonia', 'Portugal', 'St Kitts & Nevis', 'Ecuador',\n",
       "       'Israel', 'Iran', 'Jordan', 'Panama', 'Bosnia Herzegovina',\n",
       "       'Barbados', 'Nepal', 'Romania'], dtype=object)"
      ]
     },
     "execution_count": 158,
     "metadata": {},
     "output_type": "execute_result"
    }
   ],
   "source": [
    "df['disappointing'].unique()"
   ]
  },
  {
   "cell_type": "code",
   "execution_count": 159,
   "metadata": {},
   "outputs": [
    {
     "data": {
      "text/html": [
       "<div>\n",
       "<style scoped>\n",
       "    .dataframe tbody tr th:only-of-type {\n",
       "        vertical-align: middle;\n",
       "    }\n",
       "\n",
       "    .dataframe tbody tr th {\n",
       "        vertical-align: top;\n",
       "    }\n",
       "\n",
       "    .dataframe thead th {\n",
       "        text-align: right;\n",
       "    }\n",
       "</style>\n",
       "<table border=\"1\" class=\"dataframe\">\n",
       "  <thead>\n",
       "    <tr style=\"text-align: right;\">\n",
       "      <th></th>\n",
       "      <th>Timestamp</th>\n",
       "    </tr>\n",
       "    <tr>\n",
       "      <th>disappointing</th>\n",
       "      <th></th>\n",
       "    </tr>\n",
       "  </thead>\n",
       "  <tbody>\n",
       "    <tr>\n",
       "      <th>United States</th>\n",
       "      <td>45</td>\n",
       "    </tr>\n",
       "    <tr>\n",
       "      <th>France</th>\n",
       "      <td>40</td>\n",
       "    </tr>\n",
       "    <tr>\n",
       "      <th>Italy</th>\n",
       "      <td>28</td>\n",
       "    </tr>\n",
       "    <tr>\n",
       "      <th>Belgium</th>\n",
       "      <td>22</td>\n",
       "    </tr>\n",
       "    <tr>\n",
       "      <th>Spain</th>\n",
       "      <td>19</td>\n",
       "    </tr>\n",
       "    <tr>\n",
       "      <th>United Kingdom</th>\n",
       "      <td>19</td>\n",
       "    </tr>\n",
       "    <tr>\n",
       "      <th>Mexico</th>\n",
       "      <td>18</td>\n",
       "    </tr>\n",
       "    <tr>\n",
       "      <th>Jamaica</th>\n",
       "      <td>13</td>\n",
       "    </tr>\n",
       "    <tr>\n",
       "      <th>Canada</th>\n",
       "      <td>13</td>\n",
       "    </tr>\n",
       "    <tr>\n",
       "      <th>China</th>\n",
       "      <td>12</td>\n",
       "    </tr>\n",
       "  </tbody>\n",
       "</table>\n",
       "</div>"
      ],
      "text/plain": [
       "                Timestamp\n",
       "disappointing            \n",
       "United States          45\n",
       "France                 40\n",
       "Italy                  28\n",
       "Belgium                22\n",
       "Spain                  19\n",
       "United Kingdom         19\n",
       "Mexico                 18\n",
       "Jamaica                13\n",
       "Canada                 13\n",
       "China                  12"
      ]
     },
     "execution_count": 159,
     "metadata": {},
     "output_type": "execute_result"
    }
   ],
   "source": [
    "df[df['disappointing'] != 'None'].groupby('disappointing')[['Timestamp']].count().sort_values('Timestamp', ascending = False)[:10]"
   ]
  },
  {
   "cell_type": "markdown",
   "metadata": {},
   "source": [
    "People are disappointed with America! I wonder where they're from, I have a feeling/wish that they are from the US and just visiting another state."
   ]
  },
  {
   "cell_type": "code",
   "execution_count": 160,
   "metadata": {},
   "outputs": [
    {
     "data": {
      "text/plain": [
       "nationality\n",
       "Australia          2\n",
       "Canada             9\n",
       "Germany            1\n",
       "India              1\n",
       "Netherlands        1\n",
       "Romania            1\n",
       "United Kingdom     1\n",
       "United States     29\n",
       "Name: Timestamp, dtype: int64"
      ]
     },
     "execution_count": 160,
     "metadata": {},
     "output_type": "execute_result"
    }
   ],
   "source": [
    "df[df['disappointing'] == 'United States'].groupby('nationality').count()['Timestamp']"
   ]
  },
  {
   "cell_type": "markdown",
   "metadata": {},
   "source": [
    "Figures. Not because noone else could be disappointed with America but because so many of the responses are from Americans."
   ]
  },
  {
   "cell_type": "markdown",
   "metadata": {},
   "source": [
    "### Positive"
   ]
  },
  {
   "cell_type": "markdown",
   "metadata": {},
   "source": [
    "Remember this question was for the 'most *unexpectedly* positive destination'"
   ]
  },
  {
   "cell_type": "code",
   "execution_count": 161,
   "metadata": {},
   "outputs": [],
   "source": [
    "df.rename(index = str, columns = {'In which country was your most unexpectedly positive destination?': 'positive'}, inplace = True)"
   ]
  },
  {
   "cell_type": "code",
   "execution_count": 162,
   "metadata": {},
   "outputs": [
    {
     "data": {
      "text/plain": [
       "303"
      ]
     },
     "execution_count": 162,
     "metadata": {},
     "output_type": "execute_result"
    }
   ],
   "source": [
    "df.shape[0] - df['positive'].count()"
   ]
  },
  {
   "cell_type": "code",
   "execution_count": 163,
   "metadata": {},
   "outputs": [],
   "source": [
    "df['positive'].fillna('None', inplace = True)"
   ]
  },
  {
   "cell_type": "code",
   "execution_count": 164,
   "metadata": {},
   "outputs": [
    {
     "data": {
      "text/plain": [
       "array(['Denmark', 'None', 'Colombia', 'Australia', 'Liechtenstein',\n",
       "       'East Timor', 'Moldova', 'United Kingdom', 'Bolivia',\n",
       "       'Czech Republic', 'Austria', 'United States', 'China', 'Belgium',\n",
       "       'Poland', 'Taiwan', 'Ukraine', 'Greece', 'Lebanon', 'Armenia',\n",
       "       'Slovenia', 'France', 'Hungary', 'India', 'Germany', 'Croatia',\n",
       "       'Japan', 'Russian Federation', 'Malaysia', 'Portugal', 'Indonesia',\n",
       "       'Bosnia Herzegovina', 'Madagascar', 'Sri Lanka', 'Maldives',\n",
       "       'Romania', 'Ghana', 'Congo {Democratic Rep}', 'Italy', 'Tunisia',\n",
       "       'Peru', 'Mexico', 'Laos', 'Singapore', 'Georgia', 'Vietnam',\n",
       "       'Turkey', 'Uganda', 'Korea South', 'Honduras', 'Slovakia',\n",
       "       'Dominican Republic', 'Estonia', 'Ireland {Republic}', 'Jordan',\n",
       "       'Nicaragua', 'Egypt', 'Canada', 'Kazakhstan', 'Korea North',\n",
       "       'Netherlands', 'Spain', 'Guyana', 'Namibia', 'Sweden', 'Finland',\n",
       "       'Lithuania', 'Costa Rica', 'Albania', 'Yemen', 'Azerbaijan',\n",
       "       'Iceland', 'Oman', 'Myanmar, {Burma}', 'Trinidad & Tobago',\n",
       "       'Thailand', 'Chile', 'Bahamas', 'Uzbekistan', 'Malta', 'Mongolia',\n",
       "       'Montenegro', 'Jamaica', 'Switzerland', 'Nepal', 'Serbia',\n",
       "       'Algeria', 'Bangladesh', 'Iran', 'Luxembourg', 'Brazil', 'Norway',\n",
       "       'Guatemala', 'South Africa', 'United Arab Emirates', 'Cambodia',\n",
       "       'Samoa', 'Mozambique', 'Haiti', 'Qatar', 'Lesotho', 'Morocco',\n",
       "       'Belize', 'Israel', 'Argentina', 'Burkina', 'Philippines', 'Syria',\n",
       "       'Andorra', 'Tanzania', 'Pakistan', 'Kenya', 'Bulgaria', 'Panama',\n",
       "       'Iraq', 'Antigua & Deps', 'Botswana', 'New Zealand', 'Ecuador',\n",
       "       'Papua New Guinea', 'Zimbabwe'], dtype=object)"
      ]
     },
     "execution_count": 164,
     "metadata": {},
     "output_type": "execute_result"
    }
   ],
   "source": [
    "df['positive'].unique()"
   ]
  },
  {
   "cell_type": "markdown",
   "metadata": {},
   "source": [
    "There is a greater variety of responses than for the disappointing locations"
   ]
  },
  {
   "cell_type": "code",
   "execution_count": 165,
   "metadata": {},
   "outputs": [
    {
     "data": {
      "text/plain": [
       "positive\n",
       "France            22\n",
       "Germany           21\n",
       "Mexico            20\n",
       "United States     18\n",
       "Hungary           16\n",
       "Italy             16\n",
       "United Kingdom    14\n",
       "Portugal          13\n",
       "Belgium           13\n",
       "Spain             13\n",
       "Name: Timestamp, dtype: int64"
      ]
     },
     "execution_count": 165,
     "metadata": {},
     "output_type": "execute_result"
    }
   ],
   "source": [
    "df[df['positive'] != 'None'].groupby('positive').count()['Timestamp'].sort_values(ascending = False)[:10]"
   ]
  },
  {
   "cell_type": "markdown",
   "metadata": {},
   "source": [
    "### Airport food"
   ]
  },
  {
   "cell_type": "code",
   "execution_count": 166,
   "metadata": {},
   "outputs": [],
   "source": [
    "df.rename(index = str, columns = {'What is your favorite airport food?': 'airport_food'}, inplace = True)"
   ]
  },
  {
   "cell_type": "code",
   "execution_count": 167,
   "metadata": {},
   "outputs": [
    {
     "data": {
      "text/plain": [
       "351"
      ]
     },
     "execution_count": 167,
     "metadata": {},
     "output_type": "execute_result"
    }
   ],
   "source": [
    "df.shape[0] - df['airport_food'].count()"
   ]
  },
  {
   "cell_type": "code",
   "execution_count": 168,
   "metadata": {},
   "outputs": [],
   "source": [
    "df['airport_food'].fillna('None', inplace = True)"
   ]
  },
  {
   "cell_type": "code",
   "execution_count": 169,
   "metadata": {},
   "outputs": [
    {
     "data": {
      "text/plain": [
       "array(['beer', 'None', 'Joe and the Juice', 'Rice with anything',\n",
       "       'Giraffe (the brand, not the animal)', 'Sparkling water', 'Wine',\n",
       "       'Breakfast food', 'French fries', 'Pizza'], dtype=object)"
      ]
     },
     "execution_count": 169,
     "metadata": {},
     "output_type": "execute_result"
    }
   ],
   "source": [
    "df['airport_food'].unique()[:10]"
   ]
  },
  {
   "cell_type": "markdown",
   "metadata": {},
   "source": [
    "Airport food doesn't strike me as the most interesting thing, is there meaningful variety?"
   ]
  },
  {
   "cell_type": "markdown",
   "metadata": {},
   "source": [
    "I wonder what question was asked for the 'Pick one's"
   ]
  },
  {
   "cell_type": "code",
   "execution_count": 170,
   "metadata": {},
   "outputs": [
    {
     "data": {
      "text/plain": [
       "array(['Bike', nan, 'Kayak', 'Couch'], dtype=object)"
      ]
     },
     "execution_count": 170,
     "metadata": {},
     "output_type": "execute_result"
    }
   ],
   "source": [
    "df['Pick one:'].unique()"
   ]
  },
  {
   "cell_type": "code",
   "execution_count": 171,
   "metadata": {},
   "outputs": [
    {
     "data": {
      "text/plain": [
       "array(['Stinky tofu', nan, 'Hákarl', 'Escargots', 'Balut'], dtype=object)"
      ]
     },
     "execution_count": 171,
     "metadata": {},
     "output_type": "execute_result"
    }
   ],
   "source": [
    "df['Pick one:.1'].unique()"
   ]
  },
  {
   "cell_type": "code",
   "execution_count": 172,
   "metadata": {},
   "outputs": [
    {
     "data": {
      "text/plain": [
       "array(['Tourist', nan, 'Traveler'], dtype=object)"
      ]
     },
     "execution_count": 172,
     "metadata": {},
     "output_type": "execute_result"
    }
   ],
   "source": [
    "df['Pick one:.2'].unique()"
   ]
  },
  {
   "cell_type": "markdown",
   "metadata": {},
   "source": [
    "* What is your favorite food?\n",
    "* What do foreigners call you most?\n",
    "* Which does your butt spend the most time on?  \n",
    "respectively :p"
   ]
  },
  {
   "cell_type": "markdown",
   "metadata": {},
   "source": [
    "### Travel Tip"
   ]
  },
  {
   "cell_type": "markdown",
   "metadata": {},
   "source": [
    "### Souvenir"
   ]
  },
  {
   "cell_type": "code",
   "execution_count": 173,
   "metadata": {},
   "outputs": [],
   "source": [
    "df.rename(index = str, columns = {'In 10 words or less, what is your best travel tip?': 'tip'}, inplace = True)"
   ]
  },
  {
   "cell_type": "code",
   "execution_count": 174,
   "metadata": {},
   "outputs": [
    {
     "data": {
      "text/plain": [
       "376"
      ]
     },
     "execution_count": 174,
     "metadata": {},
     "output_type": "execute_result"
    }
   ],
   "source": [
    "df.shape[0] - df['tip'].count()"
   ]
  },
  {
   "cell_type": "code",
   "execution_count": 175,
   "metadata": {},
   "outputs": [],
   "source": [
    "df['tip'].fillna('None', inplace = True)"
   ]
  },
  {
   "cell_type": "code",
   "execution_count": 176,
   "metadata": {},
   "outputs": [
    {
     "data": {
      "text/plain": [
       "array(['have multiple ways to pay', 'None', 'stay flexible',\n",
       "       'Watch your belongings.',\n",
       "       'Walking will take you places cars can not.'], dtype=object)"
      ]
     },
     "execution_count": 176,
     "metadata": {},
     "output_type": "execute_result"
    }
   ],
   "source": [
    "df['tip'].unique()[:5]"
   ]
  },
  {
   "cell_type": "markdown",
   "metadata": {},
   "source": [
    "I'm going to do some nlp on this, too"
   ]
  },
  {
   "cell_type": "code",
   "execution_count": 177,
   "metadata": {},
   "outputs": [],
   "source": [
    "df['tip_word_count'] = df['tip'].apply(lambda x: len(x.split(' ')))"
   ]
  },
  {
   "cell_type": "code",
   "execution_count": 178,
   "metadata": {},
   "outputs": [
    {
     "data": {
      "text/plain": [
       "581    Pay a little more for convenience and comfort from time to time, might make better experiences when you look back. E.g. hotel in better location, better flight time over early start etc.\n",
       "446                                                                                                      Pick a few things to do before you arrive in a city, and flag them on your google maps. \n",
       "380                                                                                           Go off the trail sometimes, I had the best travel experience of my life going in none tourist area.\n",
       "676                                                                                   Don’t go to another continent for a short period of time, you’re barely getting over jetlag and coming back\n",
       "425                                                                                                                  Be super alert and go back to hostel before dark, so get up early to explore\n",
       "Name: tip, dtype: object"
      ]
     },
     "execution_count": 178,
     "metadata": {},
     "output_type": "execute_result"
    }
   ],
   "source": [
    "df.sort_values('tip_word_count', ascending = False)['tip'][:5]"
   ]
  },
  {
   "cell_type": "code",
   "execution_count": 179,
   "metadata": {},
   "outputs": [],
   "source": [
    "df['tip_char'] = df['tip'].str.len()"
   ]
  },
  {
   "cell_type": "code",
   "execution_count": 180,
   "metadata": {},
   "outputs": [],
   "source": [
    "df['tip_avg'] = df['tip'].apply(avg_length)"
   ]
  },
  {
   "cell_type": "code",
   "execution_count": 181,
   "metadata": {},
   "outputs": [
    {
     "data": {
      "text/plain": [
       "257                                                                  Improvise! \n",
       "245                                                          Research beforehand\n",
       "431                                                          Multiple locations \n",
       "642                                                  Don’t overschedule yourself\n",
       "539                                                                     Research\n",
       "746                                                            Research properly\n",
       "723                                                                     Research\n",
       "833                                                    Experiences are priceless\n",
       "418                                            Low expectations, high flexiblity\n",
       "358    Be approachable and friendly, minimalist, open minded; no preconceptions.\n",
       "Name: tip, dtype: object"
      ]
     },
     "execution_count": 181,
     "metadata": {},
     "output_type": "execute_result"
    }
   ],
   "source": [
    "df.sort_values('tip_avg', ascending = False)['tip'][:10]"
   ]
  },
  {
   "cell_type": "markdown",
   "metadata": {},
   "source": [
    "#### Processing"
   ]
  },
  {
   "cell_type": "markdown",
   "metadata": {},
   "source": [
    "Lower-case"
   ]
  },
  {
   "cell_type": "code",
   "execution_count": 182,
   "metadata": {},
   "outputs": [],
   "source": [
    "df['tip_pr'] = df['tip'].apply(lambda x: x.lower())"
   ]
  },
  {
   "cell_type": "markdown",
   "metadata": {},
   "source": [
    "Remove punctuation"
   ]
  },
  {
   "cell_type": "code",
   "execution_count": 183,
   "metadata": {},
   "outputs": [],
   "source": [
    "df['tip_pr'] = df['tip_pr'].str.replace(r'[^\\w\\s]', '')"
   ]
  },
  {
   "cell_type": "markdown",
   "metadata": {},
   "source": [
    "Remove stop words"
   ]
  },
  {
   "cell_type": "code",
   "execution_count": 184,
   "metadata": {},
   "outputs": [],
   "source": [
    "df['tip_pr'] = df['tip_pr'].apply(lambda x: ' '.join([y for y in x.split() if y not in stop]))"
   ]
  },
  {
   "cell_type": "markdown",
   "metadata": {},
   "source": [
    "Get word frequencies"
   ]
  },
  {
   "cell_type": "code",
   "execution_count": 185,
   "metadata": {},
   "outputs": [],
   "source": [
    "freq = pd.Series(' '.join(df['tip_pr']).split()).value_counts()"
   ]
  },
  {
   "cell_type": "code",
   "execution_count": 186,
   "metadata": {},
   "outputs": [],
   "source": [
    "freq = freq[1:]"
   ]
  },
  {
   "cell_type": "code",
   "execution_count": 187,
   "metadata": {},
   "outputs": [
    {
     "data": {
      "text/plain": [
       "dont        79\n",
       "go          47\n",
       "plan        45\n",
       "flexible    33\n",
       "research    28\n",
       "pack        27\n",
       "light       24\n",
       "get         21\n",
       "travel      19\n",
       "take        19\n",
       "things      16\n",
       "ahead       16\n",
       "flow        15\n",
       "always      15\n",
       "time        15\n",
       "local       14\n",
       "try         14\n",
       "eat         13\n",
       "open        13\n",
       "enjoy       13\n",
       "dtype: int64"
      ]
     },
     "execution_count": 187,
     "metadata": {},
     "output_type": "execute_result"
    }
   ],
   "source": [
    "freq[:20]"
   ]
  },
  {
   "cell_type": "code",
   "execution_count": 188,
   "metadata": {},
   "outputs": [],
   "source": [
    "common = ['dont', 'go', 'get', 'take', 'things', 'ahead', 'always', 'try']\n",
    "df['tip_pr'] = df['tip_pr'].apply(lambda x: ' '.join([y for y in x.split() if y not in common]))"
   ]
  },
  {
   "cell_type": "code",
   "execution_count": 189,
   "metadata": {},
   "outputs": [],
   "source": [
    "freq = pd.Series(' '.join(df['tip_pr']).split()).value_counts()\n",
    "freq = freq[1:]"
   ]
  },
  {
   "cell_type": "code",
   "execution_count": 190,
   "metadata": {},
   "outputs": [],
   "source": [
    "df['tip_pr'] = df['tip_pr'].apply(lambda x: ' '.join([Word(y).lemmatize() for y in x.split()]))"
   ]
  },
  {
   "cell_type": "code",
   "execution_count": 191,
   "metadata": {},
   "outputs": [],
   "source": [
    "df['tip_pr'] = df['tip_pr'].apply(lambda x: str(TextBlob(x).correct()))"
   ]
  },
  {
   "cell_type": "code",
   "execution_count": 192,
   "metadata": {},
   "outputs": [],
   "source": [
    "freq = pd.Series(' '.join(df['tip_pr']).split()).value_counts()\n",
    "freq = freq[1:]"
   ]
  },
  {
   "cell_type": "markdown",
   "metadata": {},
   "source": [
    "Remove rare words"
   ]
  },
  {
   "cell_type": "code",
   "execution_count": 193,
   "metadata": {},
   "outputs": [],
   "source": [
    "df['tip_pr'] = df['tip_pr'].apply(lambda x: ' '.join([y for y in x.split() if y not in freq[freq == 1]]))"
   ]
  },
  {
   "cell_type": "markdown",
   "metadata": {},
   "source": [
    "Term frequency"
   ]
  },
  {
   "cell_type": "code",
   "execution_count": 281,
   "metadata": {},
   "outputs": [
    {
     "data": {
      "text/html": [
       "<div>\n",
       "<style scoped>\n",
       "    .dataframe tbody tr th:only-of-type {\n",
       "        vertical-align: middle;\n",
       "    }\n",
       "\n",
       "    .dataframe tbody tr th {\n",
       "        vertical-align: top;\n",
       "    }\n",
       "\n",
       "    .dataframe thead th {\n",
       "        text-align: right;\n",
       "    }\n",
       "</style>\n",
       "<table border=\"1\" class=\"dataframe\">\n",
       "  <thead>\n",
       "    <tr style=\"text-align: right;\">\n",
       "      <th></th>\n",
       "      <th>words</th>\n",
       "      <th>tf</th>\n",
       "    </tr>\n",
       "  </thead>\n",
       "  <tbody>\n",
       "    <tr>\n",
       "      <th>0</th>\n",
       "      <td>pay</td>\n",
       "      <td>3.0</td>\n",
       "    </tr>\n",
       "    <tr>\n",
       "      <th>1</th>\n",
       "      <td>way</td>\n",
       "      <td>3.0</td>\n",
       "    </tr>\n",
       "    <tr>\n",
       "      <th>2</th>\n",
       "      <td>multiple</td>\n",
       "      <td>3.0</td>\n",
       "    </tr>\n",
       "    <tr>\n",
       "      <th>3</th>\n",
       "      <td>none</td>\n",
       "      <td>377.0</td>\n",
       "    </tr>\n",
       "    <tr>\n",
       "      <th>4</th>\n",
       "      <td>flexible</td>\n",
       "      <td>33.0</td>\n",
       "    </tr>\n",
       "  </tbody>\n",
       "</table>\n",
       "</div>"
      ],
      "text/plain": [
       "      words     tf\n",
       "0       pay    3.0\n",
       "1       way    3.0\n",
       "2  multiple    3.0\n",
       "3      none  377.0\n",
       "4  flexible   33.0"
      ]
     },
     "execution_count": 281,
     "metadata": {},
     "output_type": "execute_result"
    }
   ],
   "source": [
    "tf = df['tip_pr'].apply(lambda x: pd.value_counts(x.split(' '))).sum(axis = 0).reset_index()\n",
    "tf.columns = ['words', 'tf']\n",
    "tf.head()"
   ]
  },
  {
   "cell_type": "code",
   "execution_count": 282,
   "metadata": {},
   "outputs": [
    {
     "data": {
      "text/html": [
       "<div>\n",
       "<style scoped>\n",
       "    .dataframe tbody tr th:only-of-type {\n",
       "        vertical-align: middle;\n",
       "    }\n",
       "\n",
       "    .dataframe tbody tr th {\n",
       "        vertical-align: top;\n",
       "    }\n",
       "\n",
       "    .dataframe thead th {\n",
       "        text-align: right;\n",
       "    }\n",
       "</style>\n",
       "<table border=\"1\" class=\"dataframe\">\n",
       "  <thead>\n",
       "    <tr style=\"text-align: right;\">\n",
       "      <th></th>\n",
       "      <th>words</th>\n",
       "      <th>tf</th>\n",
       "    </tr>\n",
       "  </thead>\n",
       "  <tbody>\n",
       "    <tr>\n",
       "      <th>3</th>\n",
       "      <td>none</td>\n",
       "      <td>377.0</td>\n",
       "    </tr>\n",
       "    <tr>\n",
       "      <th>23</th>\n",
       "      <td>plan</td>\n",
       "      <td>48.0</td>\n",
       "    </tr>\n",
       "    <tr>\n",
       "      <th>4</th>\n",
       "      <td>flexible</td>\n",
       "      <td>33.0</td>\n",
       "    </tr>\n",
       "    <tr>\n",
       "      <th>18</th>\n",
       "      <td></td>\n",
       "      <td>32.0</td>\n",
       "    </tr>\n",
       "    <tr>\n",
       "      <th>100</th>\n",
       "      <td>research</td>\n",
       "      <td>28.0</td>\n",
       "    </tr>\n",
       "  </tbody>\n",
       "</table>\n",
       "</div>"
      ],
      "text/plain": [
       "        words     tf\n",
       "3        none  377.0\n",
       "23       plan   48.0\n",
       "4    flexible   33.0\n",
       "18              32.0\n",
       "100  research   28.0"
      ]
     },
     "execution_count": 282,
     "metadata": {},
     "output_type": "execute_result"
    }
   ],
   "source": [
    "tf.sort_values('tf', ascending = False).head()"
   ]
  },
  {
   "cell_type": "markdown",
   "metadata": {},
   "source": [
    "'Plan flexible research pack light', sound advice"
   ]
  },
  {
   "cell_type": "markdown",
   "metadata": {},
   "source": [
    "IDF feature"
   ]
  },
  {
   "cell_type": "code",
   "execution_count": 283,
   "metadata": {},
   "outputs": [],
   "source": [
    "for i, word in enumerate(tf['words']):\n",
    "    tf.loc[i, 'idf'] = np.log(df.shape[0] / (len(df[df['tip_pr'].str.contains(word)])))"
   ]
  },
  {
   "cell_type": "code",
   "execution_count": 284,
   "metadata": {},
   "outputs": [
    {
     "data": {
      "text/html": [
       "<div>\n",
       "<style scoped>\n",
       "    .dataframe tbody tr th:only-of-type {\n",
       "        vertical-align: middle;\n",
       "    }\n",
       "\n",
       "    .dataframe tbody tr th {\n",
       "        vertical-align: top;\n",
       "    }\n",
       "\n",
       "    .dataframe thead th {\n",
       "        text-align: right;\n",
       "    }\n",
       "</style>\n",
       "<table border=\"1\" class=\"dataframe\">\n",
       "  <thead>\n",
       "    <tr style=\"text-align: right;\">\n",
       "      <th></th>\n",
       "      <th>words</th>\n",
       "      <th>tf</th>\n",
       "      <th>idf</th>\n",
       "    </tr>\n",
       "  </thead>\n",
       "  <tbody>\n",
       "    <tr>\n",
       "      <th>239</th>\n",
       "      <td>cut</td>\n",
       "      <td>2.0</td>\n",
       "      <td>6.061457</td>\n",
       "    </tr>\n",
       "    <tr>\n",
       "      <th>240</th>\n",
       "      <td>street</td>\n",
       "      <td>2.0</td>\n",
       "      <td>6.061457</td>\n",
       "    </tr>\n",
       "    <tr>\n",
       "      <th>241</th>\n",
       "      <td>choose</td>\n",
       "      <td>2.0</td>\n",
       "      <td>6.061457</td>\n",
       "    </tr>\n",
       "    <tr>\n",
       "      <th>242</th>\n",
       "      <td>travelling</td>\n",
       "      <td>2.0</td>\n",
       "      <td>6.061457</td>\n",
       "    </tr>\n",
       "    <tr>\n",
       "      <th>243</th>\n",
       "      <td>behind</td>\n",
       "      <td>2.0</td>\n",
       "      <td>6.061457</td>\n",
       "    </tr>\n",
       "  </tbody>\n",
       "</table>\n",
       "</div>"
      ],
      "text/plain": [
       "          words   tf       idf\n",
       "239         cut  2.0  6.061457\n",
       "240      street  2.0  6.061457\n",
       "241      choose  2.0  6.061457\n",
       "242  travelling  2.0  6.061457\n",
       "243      behind  2.0  6.061457"
      ]
     },
     "execution_count": 284,
     "metadata": {},
     "output_type": "execute_result"
    }
   ],
   "source": [
    "tf.tail()"
   ]
  },
  {
   "cell_type": "code",
   "execution_count": 285,
   "metadata": {},
   "outputs": [
    {
     "data": {
      "text/html": [
       "<div>\n",
       "<style scoped>\n",
       "    .dataframe tbody tr th:only-of-type {\n",
       "        vertical-align: middle;\n",
       "    }\n",
       "\n",
       "    .dataframe tbody tr th {\n",
       "        vertical-align: top;\n",
       "    }\n",
       "\n",
       "    .dataframe thead th {\n",
       "        text-align: right;\n",
       "    }\n",
       "</style>\n",
       "<table border=\"1\" class=\"dataframe\">\n",
       "  <thead>\n",
       "    <tr style=\"text-align: right;\">\n",
       "      <th></th>\n",
       "      <th>words</th>\n",
       "      <th>tf</th>\n",
       "      <th>idf</th>\n",
       "    </tr>\n",
       "  </thead>\n",
       "  <tbody>\n",
       "    <tr>\n",
       "      <th>122</th>\n",
       "      <td>important</td>\n",
       "      <td>2.0</td>\n",
       "      <td>6.061457</td>\n",
       "    </tr>\n",
       "    <tr>\n",
       "      <th>170</th>\n",
       "      <td>bar</td>\n",
       "      <td>2.0</td>\n",
       "      <td>6.061457</td>\n",
       "    </tr>\n",
       "    <tr>\n",
       "      <th>156</th>\n",
       "      <td>budget</td>\n",
       "      <td>2.0</td>\n",
       "      <td>6.061457</td>\n",
       "    </tr>\n",
       "    <tr>\n",
       "      <th>157</th>\n",
       "      <td>comfortable</td>\n",
       "      <td>2.0</td>\n",
       "      <td>6.061457</td>\n",
       "    </tr>\n",
       "    <tr>\n",
       "      <th>160</th>\n",
       "      <td>improvised</td>\n",
       "      <td>2.0</td>\n",
       "      <td>6.061457</td>\n",
       "    </tr>\n",
       "  </tbody>\n",
       "</table>\n",
       "</div>"
      ],
      "text/plain": [
       "           words   tf       idf\n",
       "122    important  2.0  6.061457\n",
       "170          bar  2.0  6.061457\n",
       "156       budget  2.0  6.061457\n",
       "157  comfortable  2.0  6.061457\n",
       "160   improvised  2.0  6.061457"
      ]
     },
     "execution_count": 285,
     "metadata": {},
     "output_type": "execute_result"
    }
   ],
   "source": [
    "tf.sort_values('idf', ascending = False).head()"
   ]
  },
  {
   "cell_type": "markdown",
   "metadata": {},
   "source": [
    "TF-IDF"
   ]
  },
  {
   "cell_type": "code",
   "execution_count": 286,
   "metadata": {},
   "outputs": [],
   "source": [
    "tf['tfidf'] = tf['tf'] * tf['idf']"
   ]
  },
  {
   "cell_type": "code",
   "execution_count": 287,
   "metadata": {},
   "outputs": [
    {
     "data": {
      "text/html": [
       "<div>\n",
       "<style scoped>\n",
       "    .dataframe tbody tr th:only-of-type {\n",
       "        vertical-align: middle;\n",
       "    }\n",
       "\n",
       "    .dataframe tbody tr th {\n",
       "        vertical-align: top;\n",
       "    }\n",
       "\n",
       "    .dataframe thead th {\n",
       "        text-align: right;\n",
       "    }\n",
       "</style>\n",
       "<table border=\"1\" class=\"dataframe\">\n",
       "  <thead>\n",
       "    <tr style=\"text-align: right;\">\n",
       "      <th></th>\n",
       "      <th>words</th>\n",
       "      <th>tf</th>\n",
       "      <th>idf</th>\n",
       "      <th>tfidf</th>\n",
       "    </tr>\n",
       "  </thead>\n",
       "  <tbody>\n",
       "    <tr>\n",
       "      <th>3</th>\n",
       "      <td>none</td>\n",
       "      <td>377.0</td>\n",
       "      <td>0.822359</td>\n",
       "      <td>310.029310</td>\n",
       "    </tr>\n",
       "    <tr>\n",
       "      <th>23</th>\n",
       "      <td>plan</td>\n",
       "      <td>48.0</td>\n",
       "      <td>2.862784</td>\n",
       "      <td>137.413622</td>\n",
       "    </tr>\n",
       "    <tr>\n",
       "      <th>4</th>\n",
       "      <td>flexible</td>\n",
       "      <td>33.0</td>\n",
       "      <td>3.258097</td>\n",
       "      <td>107.517186</td>\n",
       "    </tr>\n",
       "    <tr>\n",
       "      <th>100</th>\n",
       "      <td>research</td>\n",
       "      <td>28.0</td>\n",
       "      <td>3.458767</td>\n",
       "      <td>96.845483</td>\n",
       "    </tr>\n",
       "    <tr>\n",
       "      <th>65</th>\n",
       "      <td>pack</td>\n",
       "      <td>27.0</td>\n",
       "      <td>3.258097</td>\n",
       "      <td>87.968607</td>\n",
       "    </tr>\n",
       "  </tbody>\n",
       "</table>\n",
       "</div>"
      ],
      "text/plain": [
       "        words     tf       idf       tfidf\n",
       "3        none  377.0  0.822359  310.029310\n",
       "23       plan   48.0  2.862784  137.413622\n",
       "4    flexible   33.0  3.258097  107.517186\n",
       "100  research   28.0  3.458767   96.845483\n",
       "65       pack   27.0  3.258097   87.968607"
      ]
     },
     "execution_count": 287,
     "metadata": {},
     "output_type": "execute_result"
    }
   ],
   "source": [
    "tf.sort_values('tfidf', ascending = False).head()"
   ]
  },
  {
   "cell_type": "code",
   "execution_count": 288,
   "metadata": {},
   "outputs": [],
   "source": [
    "tf.drop(3, inplace = True)"
   ]
  },
  {
   "cell_type": "code",
   "execution_count": 289,
   "metadata": {},
   "outputs": [],
   "source": [
    "tf.drop(18, inplace = True)"
   ]
  },
  {
   "cell_type": "code",
   "execution_count": 290,
   "metadata": {},
   "outputs": [],
   "source": [
    "tf = tf.reset_index()"
   ]
  },
  {
   "cell_type": "code",
   "execution_count": 295,
   "metadata": {},
   "outputs": [],
   "source": [
    "tf = tf.drop('index', axis = 1)"
   ]
  },
  {
   "cell_type": "code",
   "execution_count": 297,
   "metadata": {},
   "outputs": [],
   "source": [
    "tf.to_csv('../resources/tfTip.csv', index = False)"
   ]
  },
  {
   "cell_type": "markdown",
   "metadata": {},
   "source": [
    "Sentiment analysis"
   ]
  },
  {
   "cell_type": "code",
   "execution_count": 303,
   "metadata": {},
   "outputs": [
    {
     "data": {
      "text/plain": [
       "0    (0.0, 0.0)\n",
       "1    (0.0, 0.0)\n",
       "2    (0.0, 0.0)\n",
       "3    (0.0, 0.0)\n",
       "4    (0.0, 0.0)\n",
       "5    (0.0, 0.0)\n",
       "6    (0.0, 0.0)\n",
       "7    (0.0, 0.0)\n",
       "8    (0.4, 0.7)\n",
       "9    (0.0, 0.0)\n",
       "Name: tip_pr, dtype: object"
      ]
     },
     "execution_count": 303,
     "metadata": {},
     "output_type": "execute_result"
    }
   ],
   "source": [
    "df['tip_pr'][:10].apply(lambda x: TextBlob(x).sentiment)"
   ]
  },
  {
   "cell_type": "code",
   "execution_count": 304,
   "metadata": {},
   "outputs": [],
   "source": [
    "df['tip_pol'] = df['tip_pr'].apply(lambda x: TextBlob(x).sentiment[0])"
   ]
  },
  {
   "cell_type": "code",
   "execution_count": 305,
   "metadata": {},
   "outputs": [],
   "source": [
    "df['tip_sub'] = df['tip_pr'].apply(lambda x: TextBlob(x).sentiment[1])"
   ]
  },
  {
   "cell_type": "code",
   "execution_count": 416,
   "metadata": {},
   "outputs": [],
   "source": [
    "df[['tip', 'tip_pr', 'tip_pol', 'tip_sub']][df['tip'] != 'None'].to_csv('../resources/sentTip.csv', index = False)"
   ]
  },
  {
   "cell_type": "markdown",
   "metadata": {},
   "source": [
    "Wrote sentiment csv for tips"
   ]
  },
  {
   "cell_type": "code",
   "execution_count": 314,
   "metadata": {},
   "outputs": [
    {
     "data": {
      "text/html": [
       "<div>\n",
       "<style scoped>\n",
       "    .dataframe tbody tr th:only-of-type {\n",
       "        vertical-align: middle;\n",
       "    }\n",
       "\n",
       "    .dataframe tbody tr th {\n",
       "        vertical-align: top;\n",
       "    }\n",
       "\n",
       "    .dataframe thead th {\n",
       "        text-align: right;\n",
       "    }\n",
       "</style>\n",
       "<table border=\"1\" class=\"dataframe\">\n",
       "  <thead>\n",
       "    <tr style=\"text-align: right;\">\n",
       "      <th></th>\n",
       "      <th>tip</th>\n",
       "      <th>tip_pr</th>\n",
       "      <th>tip_pol</th>\n",
       "    </tr>\n",
       "  </thead>\n",
       "  <tbody>\n",
       "    <tr>\n",
       "      <th>614</th>\n",
       "      <td>Traveling through Europe without a map with my best friend</td>\n",
       "      <td>traveling without map best friend</td>\n",
       "      <td>1.0</td>\n",
       "    </tr>\n",
       "    <tr>\n",
       "      <th>380</th>\n",
       "      <td>Go off the trail sometimes, I had the best travel experience of my life going in none tourist area.</td>\n",
       "      <td>trail best travel experience life going none tourist area</td>\n",
       "      <td>1.0</td>\n",
       "    </tr>\n",
       "    <tr>\n",
       "      <th>131</th>\n",
       "      <td>do what works best for you</td>\n",
       "      <td>work best</td>\n",
       "      <td>1.0</td>\n",
       "    </tr>\n",
       "    <tr>\n",
       "      <th>329</th>\n",
       "      <td>Late night city visits are best espacially in Italy</td>\n",
       "      <td>night city visit best</td>\n",
       "      <td>1.0</td>\n",
       "    </tr>\n",
       "    <tr>\n",
       "      <th>601</th>\n",
       "      <td>Take the train vs. fly</td>\n",
       "      <td>fly</td>\n",
       "      <td>0.8</td>\n",
       "    </tr>\n",
       "  </tbody>\n",
       "</table>\n",
       "</div>"
      ],
      "text/plain": [
       "                                                                                                     tip  \\\n",
       "614                                           Traveling through Europe without a map with my best friend   \n",
       "380  Go off the trail sometimes, I had the best travel experience of my life going in none tourist area.   \n",
       "131                                                                           do what works best for you   \n",
       "329                                                  Late night city visits are best espacially in Italy   \n",
       "601                                                                               Take the train vs. fly   \n",
       "\n",
       "                                                        tip_pr  tip_pol  \n",
       "614                          traveling without map best friend      1.0  \n",
       "380  trail best travel experience life going none tourist area      1.0  \n",
       "131                                                  work best      1.0  \n",
       "329                                      night city visit best      1.0  \n",
       "601                                                        fly      0.8  "
      ]
     },
     "execution_count": 314,
     "metadata": {},
     "output_type": "execute_result"
    }
   ],
   "source": [
    "df.sort_values('tip_pol', ascending = False)[['tip', 'tip_pr', 'tip_pol']].head()"
   ]
  },
  {
   "cell_type": "code",
   "execution_count": 313,
   "metadata": {},
   "outputs": [
    {
     "data": {
      "text/html": [
       "<div>\n",
       "<style scoped>\n",
       "    .dataframe tbody tr th:only-of-type {\n",
       "        vertical-align: middle;\n",
       "    }\n",
       "\n",
       "    .dataframe tbody tr th {\n",
       "        vertical-align: top;\n",
       "    }\n",
       "\n",
       "    .dataframe thead th {\n",
       "        text-align: right;\n",
       "    }\n",
       "</style>\n",
       "<table border=\"1\" class=\"dataframe\">\n",
       "  <thead>\n",
       "    <tr style=\"text-align: right;\">\n",
       "      <th></th>\n",
       "      <th>tip</th>\n",
       "      <th>tip_pr</th>\n",
       "      <th>tip_pol</th>\n",
       "    </tr>\n",
       "  </thead>\n",
       "  <tbody>\n",
       "    <tr>\n",
       "      <th>220</th>\n",
       "      <td>Plan for the worst</td>\n",
       "      <td>plan worst</td>\n",
       "      <td>-1.0</td>\n",
       "    </tr>\n",
       "    <tr>\n",
       "      <th>578</th>\n",
       "      <td>Don’t be stupid</td>\n",
       "      <td>stupid</td>\n",
       "      <td>-0.8</td>\n",
       "    </tr>\n",
       "    <tr>\n",
       "      <th>496</th>\n",
       "      <td>Please don't act like a stupid tourist</td>\n",
       "      <td>act like stupid tourist</td>\n",
       "      <td>-0.8</td>\n",
       "    </tr>\n",
       "    <tr>\n",
       "      <th>608</th>\n",
       "      <td>There are no bad experiences, just funnier stories</td>\n",
       "      <td>bad experience</td>\n",
       "      <td>-0.7</td>\n",
       "    </tr>\n",
       "    <tr>\n",
       "      <th>333</th>\n",
       "      <td>Stay at least two nights each location if bad weather.</td>\n",
       "      <td>stay night location bad</td>\n",
       "      <td>-0.7</td>\n",
       "    </tr>\n",
       "  </tbody>\n",
       "</table>\n",
       "</div>"
      ],
      "text/plain": [
       "                                                         tip  \\\n",
       "220                                       Plan for the worst   \n",
       "578                                          Don’t be stupid   \n",
       "496                   Please don't act like a stupid tourist   \n",
       "608       There are no bad experiences, just funnier stories   \n",
       "333  Stay at least two nights each location if bad weather.    \n",
       "\n",
       "                      tip_pr  tip_pol  \n",
       "220               plan worst     -1.0  \n",
       "578                   stupid     -0.8  \n",
       "496  act like stupid tourist     -0.8  \n",
       "608           bad experience     -0.7  \n",
       "333  stay night location bad     -0.7  "
      ]
     },
     "execution_count": 313,
     "metadata": {},
     "output_type": "execute_result"
    }
   ],
   "source": [
    "df.sort_values('tip_pol')[['tip', 'tip_pr', 'tip_pol']].head()"
   ]
  },
  {
   "cell_type": "code",
   "execution_count": 312,
   "metadata": {},
   "outputs": [
    {
     "data": {
      "text/html": [
       "<div>\n",
       "<style scoped>\n",
       "    .dataframe tbody tr th:only-of-type {\n",
       "        vertical-align: middle;\n",
       "    }\n",
       "\n",
       "    .dataframe tbody tr th {\n",
       "        vertical-align: top;\n",
       "    }\n",
       "\n",
       "    .dataframe thead th {\n",
       "        text-align: right;\n",
       "    }\n",
       "</style>\n",
       "<table border=\"1\" class=\"dataframe\">\n",
       "  <thead>\n",
       "    <tr style=\"text-align: right;\">\n",
       "      <th></th>\n",
       "      <th>tip</th>\n",
       "      <th>tip_pr</th>\n",
       "      <th>tip_sub</th>\n",
       "    </tr>\n",
       "  </thead>\n",
       "  <tbody>\n",
       "    <tr>\n",
       "      <th>578</th>\n",
       "      <td>Don’t be stupid</td>\n",
       "      <td>stupid</td>\n",
       "      <td>1.0</td>\n",
       "    </tr>\n",
       "    <tr>\n",
       "      <th>618</th>\n",
       "      <td>immerse yourself in the world around you</td>\n",
       "      <td>immense around</td>\n",
       "      <td>1.0</td>\n",
       "    </tr>\n",
       "    <tr>\n",
       "      <th>496</th>\n",
       "      <td>Please don't act like a stupid tourist</td>\n",
       "      <td>act like stupid tourist</td>\n",
       "      <td>1.0</td>\n",
       "    </tr>\n",
       "    <tr>\n",
       "      <th>793</th>\n",
       "      <td>Don't take checked in luggage if possible.</td>\n",
       "      <td>luggage possible</td>\n",
       "      <td>1.0</td>\n",
       "    </tr>\n",
       "    <tr>\n",
       "      <th>562</th>\n",
       "      <td>Be flexible and curious</td>\n",
       "      <td>flexible curious</td>\n",
       "      <td>1.0</td>\n",
       "    </tr>\n",
       "  </tbody>\n",
       "</table>\n",
       "</div>"
      ],
      "text/plain": [
       "                                            tip                   tip_pr  \\\n",
       "578                             Don’t be stupid                   stupid   \n",
       "618    immerse yourself in the world around you           immense around   \n",
       "496      Please don't act like a stupid tourist  act like stupid tourist   \n",
       "793  Don't take checked in luggage if possible.         luggage possible   \n",
       "562                    Be flexible and curious          flexible curious   \n",
       "\n",
       "     tip_sub  \n",
       "578      1.0  \n",
       "618      1.0  \n",
       "496      1.0  \n",
       "793      1.0  \n",
       "562      1.0  "
      ]
     },
     "execution_count": 312,
     "metadata": {},
     "output_type": "execute_result"
    }
   ],
   "source": [
    "df.sort_values('tip_sub', ascending = False)[['tip', 'tip_pr', 'tip_sub']].head()"
   ]
  },
  {
   "cell_type": "code",
   "execution_count": 311,
   "metadata": {},
   "outputs": [
    {
     "data": {
      "text/html": [
       "<div>\n",
       "<style scoped>\n",
       "    .dataframe tbody tr th:only-of-type {\n",
       "        vertical-align: middle;\n",
       "    }\n",
       "\n",
       "    .dataframe tbody tr th {\n",
       "        vertical-align: top;\n",
       "    }\n",
       "\n",
       "    .dataframe thead th {\n",
       "        text-align: right;\n",
       "    }\n",
       "</style>\n",
       "<table border=\"1\" class=\"dataframe\">\n",
       "  <thead>\n",
       "    <tr style=\"text-align: right;\">\n",
       "      <th></th>\n",
       "      <th>tip</th>\n",
       "      <th>tip_pr</th>\n",
       "      <th>tip_sub</th>\n",
       "    </tr>\n",
       "  </thead>\n",
       "  <tbody>\n",
       "    <tr>\n",
       "      <th>0</th>\n",
       "      <td>have multiple ways to pay</td>\n",
       "      <td>multiple way pay</td>\n",
       "      <td>0.0</td>\n",
       "    </tr>\n",
       "    <tr>\n",
       "      <th>535</th>\n",
       "      <td>Don't plan everything and let if flow</td>\n",
       "      <td>plan everything let flow</td>\n",
       "      <td>0.0</td>\n",
       "    </tr>\n",
       "    <tr>\n",
       "      <th>536</th>\n",
       "      <td>Push yourself to do the things you’re scared of</td>\n",
       "      <td>push your</td>\n",
       "      <td>0.0</td>\n",
       "    </tr>\n",
       "    <tr>\n",
       "      <th>537</th>\n",
       "      <td>Remember to clear out your camera memory beforehand</td>\n",
       "      <td>camera beforehand</td>\n",
       "      <td>0.0</td>\n",
       "    </tr>\n",
       "    <tr>\n",
       "      <th>538</th>\n",
       "      <td>Take is easy</td>\n",
       "      <td></td>\n",
       "      <td>0.0</td>\n",
       "    </tr>\n",
       "  </tbody>\n",
       "</table>\n",
       "</div>"
      ],
      "text/plain": [
       "                                                     tip  \\\n",
       "0                              have multiple ways to pay   \n",
       "535               Don't plan everything and let if flow    \n",
       "536     Push yourself to do the things you’re scared of    \n",
       "537  Remember to clear out your camera memory beforehand   \n",
       "538                                         Take is easy   \n",
       "\n",
       "                       tip_pr  tip_sub  \n",
       "0            multiple way pay      0.0  \n",
       "535  plan everything let flow      0.0  \n",
       "536                 push your      0.0  \n",
       "537         camera beforehand      0.0  \n",
       "538                                0.0  "
      ]
     },
     "execution_count": 311,
     "metadata": {},
     "output_type": "execute_result"
    }
   ],
   "source": [
    "df.sort_values('tip_sub')[['tip', 'tip_pr', 'tip_sub']].head()"
   ]
  },
  {
   "cell_type": "markdown",
   "metadata": {},
   "source": [
    "I am more drawn to the word frequencies than these sentiment scores, maybe I could use them as a secondary encoding rather than the focus of a visualization themselves. Or make them the focus of supplementary visualizations."
   ]
  },
  {
   "cell_type": "markdown",
   "metadata": {},
   "source": [
    "### Necessary Item"
   ]
  },
  {
   "cell_type": "code",
   "execution_count": 317,
   "metadata": {},
   "outputs": [],
   "source": [
    "df.rename(index = str, columns = {'What is the one item (excluding passport/money/phone/clothes/hygiene) you cannot travel without?': 'item'}, inplace = True)"
   ]
  },
  {
   "cell_type": "code",
   "execution_count": 319,
   "metadata": {},
   "outputs": [
    {
     "data": {
      "text/plain": [
       "370"
      ]
     },
     "execution_count": 319,
     "metadata": {},
     "output_type": "execute_result"
    }
   ],
   "source": [
    "df.shape[0] - df['item'].count()"
   ]
  },
  {
   "cell_type": "code",
   "execution_count": 322,
   "metadata": {},
   "outputs": [
    {
     "data": {
      "text/plain": [
       "array(['earplugs', nan, 'camera', 'Earphones',\n",
       "       'a book; a physical copy of some fiction book.'], dtype=object)"
      ]
     },
     "execution_count": 322,
     "metadata": {},
     "output_type": "execute_result"
    }
   ],
   "source": [
    "df['item'].unique()[:5]"
   ]
  },
  {
   "cell_type": "markdown",
   "metadata": {},
   "source": [
    "### Primary deciding factor"
   ]
  },
  {
   "cell_type": "code",
   "execution_count": 323,
   "metadata": {},
   "outputs": [],
   "source": [
    "df.rename(index = str, columns = {'When deciding on a trip, what is the primary deciding factor?': 'decide'}, inplace = True)"
   ]
  },
  {
   "cell_type": "code",
   "execution_count": 325,
   "metadata": {},
   "outputs": [
    {
     "data": {
      "text/plain": [
       "244"
      ]
     },
     "execution_count": 325,
     "metadata": {},
     "output_type": "execute_result"
    }
   ],
   "source": [
    "df.shape[0] - df['decide'].count()"
   ]
  },
  {
   "cell_type": "code",
   "execution_count": 327,
   "metadata": {},
   "outputs": [
    {
     "data": {
      "text/plain": [
       "array(['Cheap transportation', nan, 'Destination', 'Other',\n",
       "       'Specific events', 'Activities availible', 'Hotels/resorts'],\n",
       "      dtype=object)"
      ]
     },
     "execution_count": 327,
     "metadata": {},
     "output_type": "execute_result"
    }
   ],
   "source": [
    "df['decide'].unique()"
   ]
  },
  {
   "cell_type": "markdown",
   "metadata": {},
   "source": [
    "Thought the answer would be open-ended, its not as interesting a feature with set responses"
   ]
  },
  {
   "cell_type": "markdown",
   "metadata": {},
   "source": [
    "### Before you die"
   ]
  },
  {
   "cell_type": "code",
   "execution_count": 202,
   "metadata": {},
   "outputs": [],
   "source": [
    "df.rename(index = str, columns = {'What is the one thing you recommend people have to do/see before they die?': 'die'}, inplace = True)"
   ]
  },
  {
   "cell_type": "code",
   "execution_count": 203,
   "metadata": {},
   "outputs": [
    {
     "data": {
      "text/plain": [
       "361"
      ]
     },
     "execution_count": 203,
     "metadata": {},
     "output_type": "execute_result"
    }
   ],
   "source": [
    "df.shape[0] - df['die'].count()"
   ]
  },
  {
   "cell_type": "code",
   "execution_count": 204,
   "metadata": {},
   "outputs": [],
   "source": [
    "df['die'].fillna('None', inplace = True)"
   ]
  },
  {
   "cell_type": "code",
   "execution_count": 205,
   "metadata": {},
   "outputs": [
    {
     "data": {
      "text/plain": [
       "array(['live in another country', 'None', 'the ocean', 'Skydive',\n",
       "       'The dawn chorus, anywhere in the world; see an eclipse'],\n",
       "      dtype=object)"
      ]
     },
     "execution_count": 205,
     "metadata": {},
     "output_type": "execute_result"
    }
   ],
   "source": [
    "df['die'].unique()[:5]"
   ]
  },
  {
   "cell_type": "code",
   "execution_count": 331,
   "metadata": {},
   "outputs": [],
   "source": [
    "df['die_word_count'] = df['die'].apply(lambda x: len(x.split()))"
   ]
  },
  {
   "cell_type": "code",
   "execution_count": 332,
   "metadata": {},
   "outputs": [
    {
     "data": {
      "text/plain": [
       "262    Everyone should sit on a park bench in the middle of a foreign country and just watch the world go by. Dancing on a train in front of locals is always fun too.\n",
       "555            actually live somewhere, or at least visit for more than a week. Let normalcy set in. Figure out whether you still love a place one week, two weeks in.\n",
       "454                 Visit the country you feel is most related to you. My mother is Korean, I visited Korea. My father is French, I will one day visit France as well.\n",
       "147                  Depends on the person. I love the Isle of Skye, but I don't think everyone should go. It was particular to me. Others might find it crazy boring.\n",
       "400                         I don't have a specific thing or place, but I think it's important to get out of your comfort zone and experience new things and cultures.\n",
       "Name: die, dtype: object"
      ]
     },
     "execution_count": 332,
     "metadata": {},
     "output_type": "execute_result"
    }
   ],
   "source": [
    "df.sort_values('die_word_count', ascending = False)['die'].head()"
   ]
  },
  {
   "cell_type": "code",
   "execution_count": 334,
   "metadata": {},
   "outputs": [],
   "source": [
    "df['die_char_count'] = df['die'].str.len()"
   ]
  },
  {
   "cell_type": "code",
   "execution_count": 335,
   "metadata": {},
   "outputs": [
    {
     "data": {
      "text/plain": [
       "262    Everyone should sit on a park bench in the middle of a foreign country and just watch the world go by. Dancing on a train in front of locals is always fun too.\n",
       "555            actually live somewhere, or at least visit for more than a week. Let normalcy set in. Figure out whether you still love a place one week, two weeks in.\n",
       "480             Go somewhere completely new/foreign on your own. Zero planning (beyond accommodation and visas I guess) and wing it. You'll learn a lot about yourself\n",
       "454                 Visit the country you feel is most related to you. My mother is Korean, I visited Korea. My father is French, I will one day visit France as well.\n",
       "147                  Depends on the person. I love the Isle of Skye, but I don't think everyone should go. It was particular to me. Others might find it crazy boring.\n",
       "Name: die, dtype: object"
      ]
     },
     "execution_count": 335,
     "metadata": {},
     "output_type": "execute_result"
    }
   ],
   "source": [
    "df.sort_values('die_char_count', ascending = False)['die'].head()"
   ]
  },
  {
   "cell_type": "code",
   "execution_count": 337,
   "metadata": {},
   "outputs": [],
   "source": [
    "df['die_avg'] = df['die'].apply(avg_length)"
   ]
  },
  {
   "cell_type": "code",
   "execution_count": 338,
   "metadata": {},
   "outputs": [
    {
     "data": {
      "text/plain": [
       "740                 Switzerland\n",
       "710    Solo hiking/backpacking \n",
       "96                  wilderness \n",
       "117                 Seychelles \n",
       "34                   Antarctica\n",
       "Name: die, dtype: object"
      ]
     },
     "execution_count": 338,
     "metadata": {},
     "output_type": "execute_result"
    }
   ],
   "source": [
    "df.sort_values('die_avg', ascending = False)['die'].head()"
   ]
  },
  {
   "cell_type": "markdown",
   "metadata": {},
   "source": [
    "Processing"
   ]
  },
  {
   "cell_type": "code",
   "execution_count": 340,
   "metadata": {},
   "outputs": [],
   "source": [
    "df['die_pr'] = df['die'].str.lower()"
   ]
  },
  {
   "cell_type": "markdown",
   "metadata": {},
   "source": [
    "Remove punctuation"
   ]
  },
  {
   "cell_type": "code",
   "execution_count": 343,
   "metadata": {},
   "outputs": [],
   "source": [
    "df['die_pr'] = df['die_pr'].str.replace(r'[^\\w\\s]', '')"
   ]
  },
  {
   "cell_type": "markdown",
   "metadata": {},
   "source": [
    "Remove stop words"
   ]
  },
  {
   "cell_type": "code",
   "execution_count": 348,
   "metadata": {},
   "outputs": [],
   "source": [
    "df['die_pr'] = df['die_pr'].apply(lambda x: ' '.join([y for y in x.split() if y not in stop]))"
   ]
  },
  {
   "cell_type": "code",
   "execution_count": 353,
   "metadata": {},
   "outputs": [],
   "source": [
    "freq = pd.Series(' '.join(df['die_pr']).split()).value_counts()"
   ]
  },
  {
   "cell_type": "code",
   "execution_count": 355,
   "metadata": {},
   "outputs": [
    {
     "data": {
      "text/plain": [
       "none        361\n",
       "travel       33\n",
       "see          27\n",
       "go           25\n",
       "visit        24\n",
       "country      22\n",
       "northern     14\n",
       "eat          14\n",
       "world        14\n",
       "get          12\n",
       "dtype: int64"
      ]
     },
     "execution_count": 355,
     "metadata": {},
     "output_type": "execute_result"
    }
   ],
   "source": [
    "freq.sort_values(ascending = False)[:10]"
   ]
  },
  {
   "cell_type": "markdown",
   "metadata": {},
   "source": [
    "Remove common words"
   ]
  },
  {
   "cell_type": "code",
   "execution_count": 357,
   "metadata": {},
   "outputs": [],
   "source": [
    "common = ['travel', 'see', 'go', 'visit', 'country', 'northern', 'world', 'get']\n",
    "df['die_pr'] = df['die_pr'].apply(lambda x: ' '.join([y for y in x.split() if y not in common]))"
   ]
  },
  {
   "cell_type": "code",
   "execution_count": 358,
   "metadata": {},
   "outputs": [],
   "source": [
    "freq = pd.Series(' '.join(df['die_pr']).split()).value_counts()"
   ]
  },
  {
   "cell_type": "code",
   "execution_count": 359,
   "metadata": {},
   "outputs": [
    {
     "data": {
      "text/plain": [
       "none         361\n",
       "eat           14\n",
       "new           12\n",
       "solo          11\n",
       "somewhere     11\n",
       "lights        10\n",
       "dont          10\n",
       "paris          9\n",
       "live           9\n",
       "national       9\n",
       "dtype: int64"
      ]
     },
     "execution_count": 359,
     "metadata": {},
     "output_type": "execute_result"
    }
   ],
   "source": [
    "freq.sort_values(ascending = False)[:10]"
   ]
  },
  {
   "cell_type": "code",
   "execution_count": 360,
   "metadata": {},
   "outputs": [
    {
     "data": {
      "text/plain": [
       "20          1\n",
       "finish      1\n",
       "related     1\n",
       "step        1\n",
       "icefjord    1\n",
       "dtype: int64"
      ]
     },
     "execution_count": 360,
     "metadata": {},
     "output_type": "execute_result"
    }
   ],
   "source": [
    "freq[freq == 1].head()"
   ]
  },
  {
   "cell_type": "markdown",
   "metadata": {},
   "source": [
    "Lemmatize and correct spelling"
   ]
  },
  {
   "cell_type": "code",
   "execution_count": 361,
   "metadata": {},
   "outputs": [],
   "source": [
    "df['die_pr'] = df['die_pr'].apply(lambda x: ' '.join([Word(y).lemmatize() for y in x.split()]))"
   ]
  },
  {
   "cell_type": "code",
   "execution_count": 363,
   "metadata": {},
   "outputs": [],
   "source": [
    "df['die_pr'] = df['die_pr'].apply(lambda x: str(TextBlob(x).correct()))"
   ]
  },
  {
   "cell_type": "code",
   "execution_count": 364,
   "metadata": {},
   "outputs": [],
   "source": [
    "freq = pd.Series(' '.join(df['die_pr']).split()).value_counts()"
   ]
  },
  {
   "cell_type": "code",
   "execution_count": 369,
   "metadata": {},
   "outputs": [
    {
     "data": {
      "text/plain": [
       "477"
      ]
     },
     "execution_count": 369,
     "metadata": {},
     "output_type": "execute_result"
    }
   ],
   "source": [
    "len(freq[freq == 1])"
   ]
  },
  {
   "cell_type": "code",
   "execution_count": 371,
   "metadata": {},
   "outputs": [
    {
     "data": {
      "text/plain": [
       "none         361\n",
       "eat           14\n",
       "new           12\n",
       "solo          11\n",
       "park          11\n",
       "like          11\n",
       "dont          11\n",
       "somewhere     11\n",
       "place         10\n",
       "light         10\n",
       "dtype: int64"
      ]
     },
     "execution_count": 371,
     "metadata": {},
     "output_type": "execute_result"
    }
   ],
   "source": [
    "freq.sort_values(ascending = False)[:10]"
   ]
  },
  {
   "cell_type": "markdown",
   "metadata": {},
   "source": [
    "Term frequency"
   ]
  },
  {
   "cell_type": "code",
   "execution_count": 389,
   "metadata": {},
   "outputs": [
    {
     "data": {
      "text/html": [
       "<div>\n",
       "<style scoped>\n",
       "    .dataframe tbody tr th:only-of-type {\n",
       "        vertical-align: middle;\n",
       "    }\n",
       "\n",
       "    .dataframe tbody tr th {\n",
       "        vertical-align: top;\n",
       "    }\n",
       "\n",
       "    .dataframe thead th {\n",
       "        text-align: right;\n",
       "    }\n",
       "</style>\n",
       "<table border=\"1\" class=\"dataframe\">\n",
       "  <thead>\n",
       "    <tr style=\"text-align: right;\">\n",
       "      <th></th>\n",
       "      <th>words</th>\n",
       "      <th>tf</th>\n",
       "    </tr>\n",
       "  </thead>\n",
       "  <tbody>\n",
       "    <tr>\n",
       "      <th>0</th>\n",
       "      <td>live</td>\n",
       "      <td>9.0</td>\n",
       "    </tr>\n",
       "    <tr>\n",
       "      <th>1</th>\n",
       "      <td>another</td>\n",
       "      <td>5.0</td>\n",
       "    </tr>\n",
       "    <tr>\n",
       "      <th>2</th>\n",
       "      <td>none</td>\n",
       "      <td>361.0</td>\n",
       "    </tr>\n",
       "    <tr>\n",
       "      <th>3</th>\n",
       "      <td>ocean</td>\n",
       "      <td>6.0</td>\n",
       "    </tr>\n",
       "    <tr>\n",
       "      <th>4</th>\n",
       "      <td>skyline</td>\n",
       "      <td>1.0</td>\n",
       "    </tr>\n",
       "  </tbody>\n",
       "</table>\n",
       "</div>"
      ],
      "text/plain": [
       "     words     tf\n",
       "0     live    9.0\n",
       "1  another    5.0\n",
       "2     none  361.0\n",
       "3    ocean    6.0\n",
       "4  skyline    1.0"
      ]
     },
     "execution_count": 389,
     "metadata": {},
     "output_type": "execute_result"
    }
   ],
   "source": [
    "tf = df['die_pr'].apply(lambda x: pd.value_counts(x.split(' '))).sum(axis = 0).reset_index()\n",
    "tf.columns = ['words', 'tf']\n",
    "tf.head()"
   ]
  },
  {
   "cell_type": "markdown",
   "metadata": {},
   "source": [
    "IDF"
   ]
  },
  {
   "cell_type": "code",
   "execution_count": 390,
   "metadata": {},
   "outputs": [],
   "source": [
    "for i, word in enumerate(tf['words']):\n",
    "    tf.loc[i, 'idf'] = np.log(df.shape[0] / (len(df[df['die_pr'].str.contains(word)])))"
   ]
  },
  {
   "cell_type": "code",
   "execution_count": 391,
   "metadata": {},
   "outputs": [
    {
     "data": {
      "text/html": [
       "<div>\n",
       "<style scoped>\n",
       "    .dataframe tbody tr th:only-of-type {\n",
       "        vertical-align: middle;\n",
       "    }\n",
       "\n",
       "    .dataframe tbody tr th {\n",
       "        vertical-align: top;\n",
       "    }\n",
       "\n",
       "    .dataframe thead th {\n",
       "        text-align: right;\n",
       "    }\n",
       "</style>\n",
       "<table border=\"1\" class=\"dataframe\">\n",
       "  <thead>\n",
       "    <tr style=\"text-align: right;\">\n",
       "      <th></th>\n",
       "      <th>words</th>\n",
       "      <th>tf</th>\n",
       "      <th>idf</th>\n",
       "    </tr>\n",
       "  </thead>\n",
       "  <tbody>\n",
       "    <tr>\n",
       "      <th>0</th>\n",
       "      <td>live</td>\n",
       "      <td>9.0</td>\n",
       "      <td>4.452019</td>\n",
       "    </tr>\n",
       "    <tr>\n",
       "      <th>1</th>\n",
       "      <td>another</td>\n",
       "      <td>5.0</td>\n",
       "      <td>5.145166</td>\n",
       "    </tr>\n",
       "    <tr>\n",
       "      <th>2</th>\n",
       "      <td>none</td>\n",
       "      <td>361.0</td>\n",
       "      <td>0.865726</td>\n",
       "    </tr>\n",
       "    <tr>\n",
       "      <th>3</th>\n",
       "      <td>ocean</td>\n",
       "      <td>6.0</td>\n",
       "      <td>4.962845</td>\n",
       "    </tr>\n",
       "    <tr>\n",
       "      <th>4</th>\n",
       "      <td>skyline</td>\n",
       "      <td>1.0</td>\n",
       "      <td>6.754604</td>\n",
       "    </tr>\n",
       "  </tbody>\n",
       "</table>\n",
       "</div>"
      ],
      "text/plain": [
       "     words     tf       idf\n",
       "0     live    9.0  4.452019\n",
       "1  another    5.0  5.145166\n",
       "2     none  361.0  0.865726\n",
       "3    ocean    6.0  4.962845\n",
       "4  skyline    1.0  6.754604"
      ]
     },
     "execution_count": 391,
     "metadata": {},
     "output_type": "execute_result"
    }
   ],
   "source": [
    "tf.head()"
   ]
  },
  {
   "cell_type": "markdown",
   "metadata": {},
   "source": [
    "TF-IDF"
   ]
  },
  {
   "cell_type": "code",
   "execution_count": 392,
   "metadata": {},
   "outputs": [],
   "source": [
    "tf['tfidf'] = tf['tf'] * tf['idf']"
   ]
  },
  {
   "cell_type": "code",
   "execution_count": 393,
   "metadata": {},
   "outputs": [
    {
     "data": {
      "text/html": [
       "<div>\n",
       "<style scoped>\n",
       "    .dataframe tbody tr th:only-of-type {\n",
       "        vertical-align: middle;\n",
       "    }\n",
       "\n",
       "    .dataframe tbody tr th {\n",
       "        vertical-align: top;\n",
       "    }\n",
       "\n",
       "    .dataframe thead th {\n",
       "        text-align: right;\n",
       "    }\n",
       "</style>\n",
       "<table border=\"1\" class=\"dataframe\">\n",
       "  <thead>\n",
       "    <tr style=\"text-align: right;\">\n",
       "      <th></th>\n",
       "      <th>words</th>\n",
       "      <th>tf</th>\n",
       "      <th>idf</th>\n",
       "      <th>tfidf</th>\n",
       "    </tr>\n",
       "  </thead>\n",
       "  <tbody>\n",
       "    <tr>\n",
       "      <th>0</th>\n",
       "      <td>live</td>\n",
       "      <td>9.0</td>\n",
       "      <td>4.452019</td>\n",
       "      <td>40.068171</td>\n",
       "    </tr>\n",
       "    <tr>\n",
       "      <th>1</th>\n",
       "      <td>another</td>\n",
       "      <td>5.0</td>\n",
       "      <td>5.145166</td>\n",
       "      <td>25.725831</td>\n",
       "    </tr>\n",
       "    <tr>\n",
       "      <th>2</th>\n",
       "      <td>none</td>\n",
       "      <td>361.0</td>\n",
       "      <td>0.865726</td>\n",
       "      <td>312.527137</td>\n",
       "    </tr>\n",
       "    <tr>\n",
       "      <th>3</th>\n",
       "      <td>ocean</td>\n",
       "      <td>6.0</td>\n",
       "      <td>4.962845</td>\n",
       "      <td>29.777068</td>\n",
       "    </tr>\n",
       "    <tr>\n",
       "      <th>4</th>\n",
       "      <td>skyline</td>\n",
       "      <td>1.0</td>\n",
       "      <td>6.754604</td>\n",
       "      <td>6.754604</td>\n",
       "    </tr>\n",
       "  </tbody>\n",
       "</table>\n",
       "</div>"
      ],
      "text/plain": [
       "     words     tf       idf       tfidf\n",
       "0     live    9.0  4.452019   40.068171\n",
       "1  another    5.0  5.145166   25.725831\n",
       "2     none  361.0  0.865726  312.527137\n",
       "3    ocean    6.0  4.962845   29.777068\n",
       "4  skyline    1.0  6.754604    6.754604"
      ]
     },
     "execution_count": 393,
     "metadata": {},
     "output_type": "execute_result"
    }
   ],
   "source": [
    "tf.head()"
   ]
  },
  {
   "cell_type": "code",
   "execution_count": 394,
   "metadata": {},
   "outputs": [
    {
     "data": {
      "text/html": [
       "<div>\n",
       "<style scoped>\n",
       "    .dataframe tbody tr th:only-of-type {\n",
       "        vertical-align: middle;\n",
       "    }\n",
       "\n",
       "    .dataframe tbody tr th {\n",
       "        vertical-align: top;\n",
       "    }\n",
       "\n",
       "    .dataframe thead th {\n",
       "        text-align: right;\n",
       "    }\n",
       "</style>\n",
       "<table border=\"1\" class=\"dataframe\">\n",
       "  <thead>\n",
       "    <tr style=\"text-align: right;\">\n",
       "      <th></th>\n",
       "      <th>words</th>\n",
       "      <th>tf</th>\n",
       "      <th>idf</th>\n",
       "      <th>tfidf</th>\n",
       "    </tr>\n",
       "  </thead>\n",
       "  <tbody>\n",
       "    <tr>\n",
       "      <th>2</th>\n",
       "      <td>none</td>\n",
       "      <td>361.0</td>\n",
       "      <td>0.865726</td>\n",
       "      <td>312.527137</td>\n",
       "    </tr>\n",
       "    <tr>\n",
       "      <th>32</th>\n",
       "      <td>eat</td>\n",
       "      <td>14.0</td>\n",
       "      <td>3.663562</td>\n",
       "      <td>51.289863</td>\n",
       "    </tr>\n",
       "    <tr>\n",
       "      <th>80</th>\n",
       "      <td>new</td>\n",
       "      <td>12.0</td>\n",
       "      <td>4.189655</td>\n",
       "      <td>50.275857</td>\n",
       "    </tr>\n",
       "    <tr>\n",
       "      <th>74</th>\n",
       "      <td>park</td>\n",
       "      <td>11.0</td>\n",
       "      <td>4.356709</td>\n",
       "      <td>47.923797</td>\n",
       "    </tr>\n",
       "    <tr>\n",
       "      <th>119</th>\n",
       "      <td>like</td>\n",
       "      <td>11.0</td>\n",
       "      <td>4.356709</td>\n",
       "      <td>47.923797</td>\n",
       "    </tr>\n",
       "    <tr>\n",
       "      <th>162</th>\n",
       "      <td>dont</td>\n",
       "      <td>11.0</td>\n",
       "      <td>4.356709</td>\n",
       "      <td>47.923797</td>\n",
       "    </tr>\n",
       "    <tr>\n",
       "      <th>44</th>\n",
       "      <td>solo</td>\n",
       "      <td>11.0</td>\n",
       "      <td>4.356709</td>\n",
       "      <td>47.923797</td>\n",
       "    </tr>\n",
       "    <tr>\n",
       "      <th>204</th>\n",
       "      <td>somewhere</td>\n",
       "      <td>11.0</td>\n",
       "      <td>4.356709</td>\n",
       "      <td>47.923797</td>\n",
       "    </tr>\n",
       "    <tr>\n",
       "      <th>18</th>\n",
       "      <td>place</td>\n",
       "      <td>10.0</td>\n",
       "      <td>4.452019</td>\n",
       "      <td>44.520190</td>\n",
       "    </tr>\n",
       "    <tr>\n",
       "      <th>186</th>\n",
       "      <td>light</td>\n",
       "      <td>10.0</td>\n",
       "      <td>4.452019</td>\n",
       "      <td>44.520190</td>\n",
       "    </tr>\n",
       "  </tbody>\n",
       "</table>\n",
       "</div>"
      ],
      "text/plain": [
       "         words     tf       idf       tfidf\n",
       "2         none  361.0  0.865726  312.527137\n",
       "32         eat   14.0  3.663562   51.289863\n",
       "80         new   12.0  4.189655   50.275857\n",
       "74        park   11.0  4.356709   47.923797\n",
       "119       like   11.0  4.356709   47.923797\n",
       "162       dont   11.0  4.356709   47.923797\n",
       "44        solo   11.0  4.356709   47.923797\n",
       "204  somewhere   11.0  4.356709   47.923797\n",
       "18       place   10.0  4.452019   44.520190\n",
       "186      light   10.0  4.452019   44.520190"
      ]
     },
     "execution_count": 394,
     "metadata": {},
     "output_type": "execute_result"
    }
   ],
   "source": [
    "tf.sort_values('tfidf', ascending = False)[:10]"
   ]
  },
  {
   "cell_type": "code",
   "execution_count": 395,
   "metadata": {},
   "outputs": [],
   "source": [
    "tf.drop([2, 24], inplace = True)"
   ]
  },
  {
   "cell_type": "code",
   "execution_count": 396,
   "metadata": {},
   "outputs": [
    {
     "data": {
      "text/html": [
       "<div>\n",
       "<style scoped>\n",
       "    .dataframe tbody tr th:only-of-type {\n",
       "        vertical-align: middle;\n",
       "    }\n",
       "\n",
       "    .dataframe tbody tr th {\n",
       "        vertical-align: top;\n",
       "    }\n",
       "\n",
       "    .dataframe thead th {\n",
       "        text-align: right;\n",
       "    }\n",
       "</style>\n",
       "<table border=\"1\" class=\"dataframe\">\n",
       "  <thead>\n",
       "    <tr style=\"text-align: right;\">\n",
       "      <th></th>\n",
       "      <th>words</th>\n",
       "      <th>tf</th>\n",
       "      <th>idf</th>\n",
       "      <th>tfidf</th>\n",
       "    </tr>\n",
       "  </thead>\n",
       "  <tbody>\n",
       "    <tr>\n",
       "      <th>32</th>\n",
       "      <td>eat</td>\n",
       "      <td>14.0</td>\n",
       "      <td>3.663562</td>\n",
       "      <td>51.289863</td>\n",
       "    </tr>\n",
       "    <tr>\n",
       "      <th>80</th>\n",
       "      <td>new</td>\n",
       "      <td>12.0</td>\n",
       "      <td>4.189655</td>\n",
       "      <td>50.275857</td>\n",
       "    </tr>\n",
       "    <tr>\n",
       "      <th>204</th>\n",
       "      <td>somewhere</td>\n",
       "      <td>11.0</td>\n",
       "      <td>4.356709</td>\n",
       "      <td>47.923797</td>\n",
       "    </tr>\n",
       "    <tr>\n",
       "      <th>162</th>\n",
       "      <td>dont</td>\n",
       "      <td>11.0</td>\n",
       "      <td>4.356709</td>\n",
       "      <td>47.923797</td>\n",
       "    </tr>\n",
       "    <tr>\n",
       "      <th>119</th>\n",
       "      <td>like</td>\n",
       "      <td>11.0</td>\n",
       "      <td>4.356709</td>\n",
       "      <td>47.923797</td>\n",
       "    </tr>\n",
       "    <tr>\n",
       "      <th>74</th>\n",
       "      <td>park</td>\n",
       "      <td>11.0</td>\n",
       "      <td>4.356709</td>\n",
       "      <td>47.923797</td>\n",
       "    </tr>\n",
       "    <tr>\n",
       "      <th>44</th>\n",
       "      <td>solo</td>\n",
       "      <td>11.0</td>\n",
       "      <td>4.356709</td>\n",
       "      <td>47.923797</td>\n",
       "    </tr>\n",
       "    <tr>\n",
       "      <th>186</th>\n",
       "      <td>light</td>\n",
       "      <td>10.0</td>\n",
       "      <td>4.452019</td>\n",
       "      <td>44.520190</td>\n",
       "    </tr>\n",
       "    <tr>\n",
       "      <th>18</th>\n",
       "      <td>place</td>\n",
       "      <td>10.0</td>\n",
       "      <td>4.452019</td>\n",
       "      <td>44.520190</td>\n",
       "    </tr>\n",
       "    <tr>\n",
       "      <th>247</th>\n",
       "      <td>paris</td>\n",
       "      <td>9.0</td>\n",
       "      <td>4.557380</td>\n",
       "      <td>41.016416</td>\n",
       "    </tr>\n",
       "  </tbody>\n",
       "</table>\n",
       "</div>"
      ],
      "text/plain": [
       "         words    tf       idf      tfidf\n",
       "32         eat  14.0  3.663562  51.289863\n",
       "80         new  12.0  4.189655  50.275857\n",
       "204  somewhere  11.0  4.356709  47.923797\n",
       "162       dont  11.0  4.356709  47.923797\n",
       "119       like  11.0  4.356709  47.923797\n",
       "74        park  11.0  4.356709  47.923797\n",
       "44        solo  11.0  4.356709  47.923797\n",
       "186      light  10.0  4.452019  44.520190\n",
       "18       place  10.0  4.452019  44.520190\n",
       "247      paris   9.0  4.557380  41.016416"
      ]
     },
     "execution_count": 396,
     "metadata": {},
     "output_type": "execute_result"
    }
   ],
   "source": [
    "tf.sort_values('tf', ascending = False)[:10]"
   ]
  },
  {
   "cell_type": "code",
   "execution_count": 397,
   "metadata": {},
   "outputs": [
    {
     "data": {
      "text/html": [
       "<div>\n",
       "<style scoped>\n",
       "    .dataframe tbody tr th:only-of-type {\n",
       "        vertical-align: middle;\n",
       "    }\n",
       "\n",
       "    .dataframe tbody tr th {\n",
       "        vertical-align: top;\n",
       "    }\n",
       "\n",
       "    .dataframe thead th {\n",
       "        text-align: right;\n",
       "    }\n",
       "</style>\n",
       "<table border=\"1\" class=\"dataframe\">\n",
       "  <thead>\n",
       "    <tr style=\"text-align: right;\">\n",
       "      <th></th>\n",
       "      <th>index</th>\n",
       "      <th>words</th>\n",
       "      <th>tf</th>\n",
       "      <th>idf</th>\n",
       "      <th>tfidf</th>\n",
       "    </tr>\n",
       "  </thead>\n",
       "  <tbody>\n",
       "    <tr>\n",
       "      <th>0</th>\n",
       "      <td>0</td>\n",
       "      <td>live</td>\n",
       "      <td>9.0</td>\n",
       "      <td>4.452019</td>\n",
       "      <td>40.068171</td>\n",
       "    </tr>\n",
       "    <tr>\n",
       "      <th>1</th>\n",
       "      <td>1</td>\n",
       "      <td>another</td>\n",
       "      <td>5.0</td>\n",
       "      <td>5.145166</td>\n",
       "      <td>25.725831</td>\n",
       "    </tr>\n",
       "    <tr>\n",
       "      <th>2</th>\n",
       "      <td>3</td>\n",
       "      <td>ocean</td>\n",
       "      <td>6.0</td>\n",
       "      <td>4.962845</td>\n",
       "      <td>29.777068</td>\n",
       "    </tr>\n",
       "    <tr>\n",
       "      <th>3</th>\n",
       "      <td>4</td>\n",
       "      <td>skyline</td>\n",
       "      <td>1.0</td>\n",
       "      <td>6.754604</td>\n",
       "      <td>6.754604</td>\n",
       "    </tr>\n",
       "    <tr>\n",
       "      <th>4</th>\n",
       "      <td>5</td>\n",
       "      <td>ellipse</td>\n",
       "      <td>2.0</td>\n",
       "      <td>6.061457</td>\n",
       "      <td>12.122914</td>\n",
       "    </tr>\n",
       "  </tbody>\n",
       "</table>\n",
       "</div>"
      ],
      "text/plain": [
       "   index    words   tf       idf      tfidf\n",
       "0      0     live  9.0  4.452019  40.068171\n",
       "1      1  another  5.0  5.145166  25.725831\n",
       "2      3    ocean  6.0  4.962845  29.777068\n",
       "3      4  skyline  1.0  6.754604   6.754604\n",
       "4      5  ellipse  2.0  6.061457  12.122914"
      ]
     },
     "execution_count": 397,
     "metadata": {},
     "output_type": "execute_result"
    }
   ],
   "source": [
    "tf = tf.reset_index()\n",
    "tf.head()"
   ]
  },
  {
   "cell_type": "code",
   "execution_count": 399,
   "metadata": {},
   "outputs": [],
   "source": [
    "tf.drop('index', axis = 1, inplace = True)"
   ]
  },
  {
   "cell_type": "code",
   "execution_count": 400,
   "metadata": {},
   "outputs": [],
   "source": [
    "tf.to_csv('../resources/tfDie.csv', index = False)"
   ]
  },
  {
   "cell_type": "code",
   "execution_count": 401,
   "metadata": {},
   "outputs": [
    {
     "data": {
      "text/plain": [
       "0    (0.13636363636363635, 0.5)\n",
       "1                    (0.0, 0.0)\n",
       "2                    (0.0, 0.0)\n",
       "3                    (0.0, 0.0)\n",
       "4                    (0.0, 0.0)\n",
       "5                    (0.0, 0.0)\n",
       "6                    (0.0, 0.0)\n",
       "7                    (0.0, 0.0)\n",
       "8                    (0.0, 0.0)\n",
       "9                    (0.0, 0.0)\n",
       "Name: die_pr, dtype: object"
      ]
     },
     "execution_count": 401,
     "metadata": {},
     "output_type": "execute_result"
    }
   ],
   "source": [
    "df['die_pr'][:10].apply(lambda x: TextBlob(x).sentiment)"
   ]
  },
  {
   "cell_type": "code",
   "execution_count": 402,
   "metadata": {},
   "outputs": [],
   "source": [
    "df['die_pol'] = df['die'].apply(lambda x: TextBlob(x).sentiment[0])"
   ]
  },
  {
   "cell_type": "code",
   "execution_count": 403,
   "metadata": {},
   "outputs": [],
   "source": [
    "df['die_sub'] = df['die'].apply(lambda x: TextBlob(x).sentiment[1])"
   ]
  },
  {
   "cell_type": "code",
   "execution_count": 405,
   "metadata": {},
   "outputs": [
    {
     "data": {
      "text/html": [
       "<div>\n",
       "<style scoped>\n",
       "    .dataframe tbody tr th:only-of-type {\n",
       "        vertical-align: middle;\n",
       "    }\n",
       "\n",
       "    .dataframe tbody tr th {\n",
       "        vertical-align: top;\n",
       "    }\n",
       "\n",
       "    .dataframe thead th {\n",
       "        text-align: right;\n",
       "    }\n",
       "</style>\n",
       "<table border=\"1\" class=\"dataframe\">\n",
       "  <thead>\n",
       "    <tr style=\"text-align: right;\">\n",
       "      <th></th>\n",
       "      <th>die</th>\n",
       "      <th>die_pr</th>\n",
       "      <th>die_pol</th>\n",
       "    </tr>\n",
       "  </thead>\n",
       "  <tbody>\n",
       "    <tr>\n",
       "      <th>343</th>\n",
       "      <td>Go to australia and see the great barrier reef &amp; the 12 apostles- before they die!</td>\n",
       "      <td>australia great barrier reef 12 apostle die</td>\n",
       "      <td>1.00</td>\n",
       "    </tr>\n",
       "    <tr>\n",
       "      <th>341</th>\n",
       "      <td>Scuba dive a beautiful location</td>\n",
       "      <td>cuba dive beautiful location</td>\n",
       "      <td>0.85</td>\n",
       "    </tr>\n",
       "    <tr>\n",
       "      <th>522</th>\n",
       "      <td>Hike somewhere beautiful</td>\n",
       "      <td>like somewhere beautiful</td>\n",
       "      <td>0.85</td>\n",
       "    </tr>\n",
       "    <tr>\n",
       "      <th>847</th>\n",
       "      <td>whatever make them happy</td>\n",
       "      <td>whatever make happy</td>\n",
       "      <td>0.80</td>\n",
       "    </tr>\n",
       "    <tr>\n",
       "      <th>68</th>\n",
       "      <td>Great wall of China</td>\n",
       "      <td>great wall china</td>\n",
       "      <td>0.80</td>\n",
       "    </tr>\n",
       "    <tr>\n",
       "      <th>156</th>\n",
       "      <td>Great Wall of China</td>\n",
       "      <td>great wall china</td>\n",
       "      <td>0.80</td>\n",
       "    </tr>\n",
       "    <tr>\n",
       "      <th>10</th>\n",
       "      <td>Go backpacking and live/see Australia, its really is a great place,</td>\n",
       "      <td>backpacking lives australia really great place</td>\n",
       "      <td>0.80</td>\n",
       "    </tr>\n",
       "    <tr>\n",
       "      <th>216</th>\n",
       "      <td>The Great Pyramids of Giza</td>\n",
       "      <td>great pyramid liza</td>\n",
       "      <td>0.80</td>\n",
       "    </tr>\n",
       "    <tr>\n",
       "      <th>47</th>\n",
       "      <td>Be happy and content</td>\n",
       "      <td>happy content</td>\n",
       "      <td>0.80</td>\n",
       "    </tr>\n",
       "    <tr>\n",
       "      <th>594</th>\n",
       "      <td>Great wall</td>\n",
       "      <td>great wall</td>\n",
       "      <td>0.80</td>\n",
       "    </tr>\n",
       "  </tbody>\n",
       "</table>\n",
       "</div>"
      ],
      "text/plain": [
       "                                                                                    die  \\\n",
       "343  Go to australia and see the great barrier reef & the 12 apostles- before they die!   \n",
       "341                                                     Scuba dive a beautiful location   \n",
       "522                                                            Hike somewhere beautiful   \n",
       "847                                                            whatever make them happy   \n",
       "68                                                                  Great wall of China   \n",
       "156                                                                 Great Wall of China   \n",
       "10                  Go backpacking and live/see Australia, its really is a great place,   \n",
       "216                                                          The Great Pyramids of Giza   \n",
       "47                                                                 Be happy and content   \n",
       "594                                                                          Great wall   \n",
       "\n",
       "                                             die_pr  die_pol  \n",
       "343     australia great barrier reef 12 apostle die     1.00  \n",
       "341                    cuba dive beautiful location     0.85  \n",
       "522                        like somewhere beautiful     0.85  \n",
       "847                             whatever make happy     0.80  \n",
       "68                                 great wall china     0.80  \n",
       "156                                great wall china     0.80  \n",
       "10   backpacking lives australia really great place     0.80  \n",
       "216                              great pyramid liza     0.80  \n",
       "47                                    happy content     0.80  \n",
       "594                                      great wall     0.80  "
      ]
     },
     "execution_count": 405,
     "metadata": {},
     "output_type": "execute_result"
    }
   ],
   "source": [
    "df.sort_values('die_pol', ascending = False)[['die', 'die_pr', 'die_pol']][:10]"
   ]
  },
  {
   "cell_type": "code",
   "execution_count": 406,
   "metadata": {},
   "outputs": [
    {
     "data": {
      "text/html": [
       "<div>\n",
       "<style scoped>\n",
       "    .dataframe tbody tr th:only-of-type {\n",
       "        vertical-align: middle;\n",
       "    }\n",
       "\n",
       "    .dataframe tbody tr th {\n",
       "        vertical-align: top;\n",
       "    }\n",
       "\n",
       "    .dataframe thead th {\n",
       "        text-align: right;\n",
       "    }\n",
       "</style>\n",
       "<table border=\"1\" class=\"dataframe\">\n",
       "  <thead>\n",
       "    <tr style=\"text-align: right;\">\n",
       "      <th></th>\n",
       "      <th>die</th>\n",
       "      <th>die_pr</th>\n",
       "      <th>die_pol</th>\n",
       "    </tr>\n",
       "  </thead>\n",
       "  <tbody>\n",
       "    <tr>\n",
       "      <th>152</th>\n",
       "      <td>Some scary animals</td>\n",
       "      <td>scar animal</td>\n",
       "      <td>-0.500000</td>\n",
       "    </tr>\n",
       "    <tr>\n",
       "      <th>734</th>\n",
       "      <td>Drunk polish students</td>\n",
       "      <td>drunk polish student</td>\n",
       "      <td>-0.500000</td>\n",
       "    </tr>\n",
       "    <tr>\n",
       "      <th>506</th>\n",
       "      <td>Visit poor and needy kids</td>\n",
       "      <td>poor needy kid</td>\n",
       "      <td>-0.400000</td>\n",
       "    </tr>\n",
       "    <tr>\n",
       "      <th>585</th>\n",
       "      <td>Angkor Wat complex</td>\n",
       "      <td>anger wat complex</td>\n",
       "      <td>-0.300000</td>\n",
       "    </tr>\n",
       "    <tr>\n",
       "      <th>751</th>\n",
       "      <td>Get out of your comfort zone at least 1st</td>\n",
       "      <td>comfort zone least st</td>\n",
       "      <td>-0.300000</td>\n",
       "    </tr>\n",
       "    <tr>\n",
       "      <th>127</th>\n",
       "      <td>all countries at least once</td>\n",
       "      <td>country least</td>\n",
       "      <td>-0.300000</td>\n",
       "    </tr>\n",
       "    <tr>\n",
       "      <th>36</th>\n",
       "      <td>hard to pick just one</td>\n",
       "      <td>hard pick one</td>\n",
       "      <td>-0.291667</td>\n",
       "    </tr>\n",
       "    <tr>\n",
       "      <th>651</th>\n",
       "      <td>Take a trip anywhere and stay there for at least a week and a half and try to do what locals do.</td>\n",
       "      <td>take trip anywhere stay least week half try local</td>\n",
       "      <td>-0.233333</td>\n",
       "    </tr>\n",
       "    <tr>\n",
       "      <th>147</th>\n",
       "      <td>Depends on the person. I love the Isle of Skye, but I don't think everyone should go. It was particular to me. Others might find it crazy boring.</td>\n",
       "      <td>depends person love isle sky dont think everyone particular others might find crazy boring</td>\n",
       "      <td>-0.233333</td>\n",
       "    </tr>\n",
       "    <tr>\n",
       "      <th>270</th>\n",
       "      <td>Leave for a few months and stay with locals</td>\n",
       "      <td>leave month stay local</td>\n",
       "      <td>-0.200000</td>\n",
       "    </tr>\n",
       "  </tbody>\n",
       "</table>\n",
       "</div>"
      ],
      "text/plain": [
       "                                                                                                                                                   die  \\\n",
       "152                                                                                                                                 Some scary animals   \n",
       "734                                                                                                                              Drunk polish students   \n",
       "506                                                                                                                          Visit poor and needy kids   \n",
       "585                                                                                                                                 Angkor Wat complex   \n",
       "751                                                                                                          Get out of your comfort zone at least 1st   \n",
       "127                                                                                                                        all countries at least once   \n",
       "36                                                                                                                               hard to pick just one   \n",
       "651                                                  Take a trip anywhere and stay there for at least a week and a half and try to do what locals do.    \n",
       "147  Depends on the person. I love the Isle of Skye, but I don't think everyone should go. It was particular to me. Others might find it crazy boring.   \n",
       "270                                                                                                        Leave for a few months and stay with locals   \n",
       "\n",
       "                                                                                         die_pr  \\\n",
       "152                                                                                 scar animal   \n",
       "734                                                                        drunk polish student   \n",
       "506                                                                              poor needy kid   \n",
       "585                                                                           anger wat complex   \n",
       "751                                                                       comfort zone least st   \n",
       "127                                                                               country least   \n",
       "36                                                                                hard pick one   \n",
       "651                                           take trip anywhere stay least week half try local   \n",
       "147  depends person love isle sky dont think everyone particular others might find crazy boring   \n",
       "270                                                                      leave month stay local   \n",
       "\n",
       "      die_pol  \n",
       "152 -0.500000  \n",
       "734 -0.500000  \n",
       "506 -0.400000  \n",
       "585 -0.300000  \n",
       "751 -0.300000  \n",
       "127 -0.300000  \n",
       "36  -0.291667  \n",
       "651 -0.233333  \n",
       "147 -0.233333  \n",
       "270 -0.200000  "
      ]
     },
     "execution_count": 406,
     "metadata": {},
     "output_type": "execute_result"
    }
   ],
   "source": [
    "df.sort_values('die_pol')[['die', 'die_pr', 'die_pol']][:10]"
   ]
  },
  {
   "cell_type": "markdown",
   "metadata": {},
   "source": [
    "Polarity seems especially off on this one, Great Wall, Great Pyramids are high polarity and poor needy kids are low because of adjectives not particular content."
   ]
  },
  {
   "cell_type": "code",
   "execution_count": 407,
   "metadata": {},
   "outputs": [
    {
     "data": {
      "text/html": [
       "<div>\n",
       "<style scoped>\n",
       "    .dataframe tbody tr th:only-of-type {\n",
       "        vertical-align: middle;\n",
       "    }\n",
       "\n",
       "    .dataframe tbody tr th {\n",
       "        vertical-align: top;\n",
       "    }\n",
       "\n",
       "    .dataframe thead th {\n",
       "        text-align: right;\n",
       "    }\n",
       "</style>\n",
       "<table border=\"1\" class=\"dataframe\">\n",
       "  <thead>\n",
       "    <tr style=\"text-align: right;\">\n",
       "      <th></th>\n",
       "      <th>die</th>\n",
       "      <th>die_pr</th>\n",
       "      <th>die_sub</th>\n",
       "    </tr>\n",
       "  </thead>\n",
       "  <tbody>\n",
       "    <tr>\n",
       "      <th>17</th>\n",
       "      <td>something naturally grand (not man-made)</td>\n",
       "      <td>something naturally grand manage</td>\n",
       "      <td>1.0</td>\n",
       "    </tr>\n",
       "    <tr>\n",
       "      <th>341</th>\n",
       "      <td>Scuba dive a beautiful location</td>\n",
       "      <td>cuba dive beautiful location</td>\n",
       "      <td>1.0</td>\n",
       "    </tr>\n",
       "    <tr>\n",
       "      <th>255</th>\n",
       "      <td>Grand Canyon</td>\n",
       "      <td>grand canyon</td>\n",
       "      <td>1.0</td>\n",
       "    </tr>\n",
       "    <tr>\n",
       "      <th>30</th>\n",
       "      <td>Explore your home country as much as possible</td>\n",
       "      <td>explore home much possible</td>\n",
       "      <td>1.0</td>\n",
       "    </tr>\n",
       "    <tr>\n",
       "      <th>621</th>\n",
       "      <td>The world :)</td>\n",
       "      <td></td>\n",
       "      <td>1.0</td>\n",
       "    </tr>\n",
       "    <tr>\n",
       "      <th>650</th>\n",
       "      <td>Any form of unexpected culture</td>\n",
       "      <td>form unexpected culture</td>\n",
       "      <td>1.0</td>\n",
       "    </tr>\n",
       "    <tr>\n",
       "      <th>661</th>\n",
       "      <td>travel as much as possible to non-touristy places</td>\n",
       "      <td>much possible nontouristy place</td>\n",
       "      <td>1.0</td>\n",
       "    </tr>\n",
       "    <tr>\n",
       "      <th>47</th>\n",
       "      <td>Be happy and content</td>\n",
       "      <td>happy content</td>\n",
       "      <td>1.0</td>\n",
       "    </tr>\n",
       "    <tr>\n",
       "      <th>189</th>\n",
       "      <td>grand canyon</td>\n",
       "      <td>grand canyon</td>\n",
       "      <td>1.0</td>\n",
       "    </tr>\n",
       "    <tr>\n",
       "      <th>714</th>\n",
       "      <td>Grand Canyon</td>\n",
       "      <td>grand canyon</td>\n",
       "      <td>1.0</td>\n",
       "    </tr>\n",
       "  </tbody>\n",
       "</table>\n",
       "</div>"
      ],
      "text/plain": [
       "                                                   die  \\\n",
       "17            something naturally grand (not man-made)   \n",
       "341                    Scuba dive a beautiful location   \n",
       "255                                       Grand Canyon   \n",
       "30       Explore your home country as much as possible   \n",
       "621                                       The world :)   \n",
       "650                     Any form of unexpected culture   \n",
       "661  travel as much as possible to non-touristy places   \n",
       "47                                Be happy and content   \n",
       "189                                      grand canyon    \n",
       "714                                      Grand Canyon    \n",
       "\n",
       "                               die_pr  die_sub  \n",
       "17   something naturally grand manage      1.0  \n",
       "341      cuba dive beautiful location      1.0  \n",
       "255                      grand canyon      1.0  \n",
       "30         explore home much possible      1.0  \n",
       "621                                        1.0  \n",
       "650           form unexpected culture      1.0  \n",
       "661   much possible nontouristy place      1.0  \n",
       "47                      happy content      1.0  \n",
       "189                      grand canyon      1.0  \n",
       "714                      grand canyon      1.0  "
      ]
     },
     "execution_count": 407,
     "metadata": {},
     "output_type": "execute_result"
    }
   ],
   "source": [
    "df.sort_values('die_sub', ascending = False)[['die', 'die_pr', 'die_sub']][:10]"
   ]
  },
  {
   "cell_type": "code",
   "execution_count": 409,
   "metadata": {},
   "outputs": [
    {
     "data": {
      "text/html": [
       "<div>\n",
       "<style scoped>\n",
       "    .dataframe tbody tr th:only-of-type {\n",
       "        vertical-align: middle;\n",
       "    }\n",
       "\n",
       "    .dataframe tbody tr th {\n",
       "        vertical-align: top;\n",
       "    }\n",
       "\n",
       "    .dataframe thead th {\n",
       "        text-align: right;\n",
       "    }\n",
       "</style>\n",
       "<table border=\"1\" class=\"dataframe\">\n",
       "  <thead>\n",
       "    <tr style=\"text-align: right;\">\n",
       "      <th></th>\n",
       "      <th>die</th>\n",
       "      <th>die_pr</th>\n",
       "      <th>die_sub</th>\n",
       "    </tr>\n",
       "  </thead>\n",
       "  <tbody>\n",
       "    <tr>\n",
       "      <th>425</th>\n",
       "      <td>Everywhere in the world</td>\n",
       "      <td>everywhere</td>\n",
       "      <td>0.0</td>\n",
       "    </tr>\n",
       "    <tr>\n",
       "      <th>455</th>\n",
       "      <td>Dive</td>\n",
       "      <td>dive</td>\n",
       "      <td>0.0</td>\n",
       "    </tr>\n",
       "    <tr>\n",
       "      <th>453</th>\n",
       "      <td>tropical volcanic island (Bali, Hawaii etc)</td>\n",
       "      <td>tropical volcanic island ball hawaii etc</td>\n",
       "      <td>0.0</td>\n",
       "    </tr>\n",
       "    <tr>\n",
       "      <th>739</th>\n",
       "      <td>Wieliczka Salt Mines</td>\n",
       "      <td>wieliczka salt mine</td>\n",
       "      <td>0.0</td>\n",
       "    </tr>\n",
       "    <tr>\n",
       "      <th>450</th>\n",
       "      <td>Rome</td>\n",
       "      <td>rome</td>\n",
       "      <td>0.0</td>\n",
       "    </tr>\n",
       "    <tr>\n",
       "      <th>449</th>\n",
       "      <td>Lake Toba in northern Sumatra</td>\n",
       "      <td>lake to suvara</td>\n",
       "      <td>0.0</td>\n",
       "    </tr>\n",
       "    <tr>\n",
       "      <th>740</th>\n",
       "      <td>Switzerland</td>\n",
       "      <td>switzerland</td>\n",
       "      <td>0.0</td>\n",
       "    </tr>\n",
       "    <tr>\n",
       "      <th>446</th>\n",
       "      <td>Solo travel</td>\n",
       "      <td>solo</td>\n",
       "      <td>0.0</td>\n",
       "    </tr>\n",
       "    <tr>\n",
       "      <th>444</th>\n",
       "      <td>Isle of Skye, Scotland</td>\n",
       "      <td>isle sky scotland</td>\n",
       "      <td>0.0</td>\n",
       "    </tr>\n",
       "    <tr>\n",
       "      <th>440</th>\n",
       "      <td>Antarctica or Greenland</td>\n",
       "      <td>antarctica greenland</td>\n",
       "      <td>0.0</td>\n",
       "    </tr>\n",
       "  </tbody>\n",
       "</table>\n",
       "</div>"
      ],
      "text/plain": [
       "                                             die  \\\n",
       "425                     Everywhere in the world    \n",
       "455                                         Dive   \n",
       "453  tropical volcanic island (Bali, Hawaii etc)   \n",
       "739                         Wieliczka Salt Mines   \n",
       "450                                         Rome   \n",
       "449                Lake Toba in northern Sumatra   \n",
       "740                                  Switzerland   \n",
       "446                                 Solo travel    \n",
       "444                       Isle of Skye, Scotland   \n",
       "440                      Antarctica or Greenland   \n",
       "\n",
       "                                       die_pr  die_sub  \n",
       "425                                everywhere      0.0  \n",
       "455                                      dive      0.0  \n",
       "453  tropical volcanic island ball hawaii etc      0.0  \n",
       "739                       wieliczka salt mine      0.0  \n",
       "450                                      rome      0.0  \n",
       "449                            lake to suvara      0.0  \n",
       "740                               switzerland      0.0  \n",
       "446                                      solo      0.0  \n",
       "444                         isle sky scotland      0.0  \n",
       "440                      antarctica greenland      0.0  "
      ]
     },
     "execution_count": 409,
     "metadata": {},
     "output_type": "execute_result"
    }
   ],
   "source": [
    "df[df['die'] != 'None'].sort_values('die_sub')[['die', 'die_pr', 'die_sub']][:10]"
   ]
  },
  {
   "cell_type": "markdown",
   "metadata": {},
   "source": [
    "Proper nouns are given low subjectivity, and adjectives are given high subjectivity, eg 'grand' canyon."
   ]
  },
  {
   "cell_type": "code",
   "execution_count": 418,
   "metadata": {},
   "outputs": [],
   "source": [
    "df[['die', 'die_pr', 'die_pol', 'die_sub']][df['die'] != 'None'].to_csv('../resources/sentDie.csv', index = False)"
   ]
  },
  {
   "cell_type": "markdown",
   "metadata": {},
   "source": [
    "Wrote sentiment to csv"
   ]
  },
  {
   "cell_type": "code",
   "execution_count": 328,
   "metadata": {},
   "outputs": [
    {
     "data": {
      "text/plain": [
       "116"
      ]
     },
     "execution_count": 328,
     "metadata": {},
     "output_type": "execute_result"
    }
   ],
   "source": [
    "len(df.columns)"
   ]
  },
  {
   "cell_type": "code",
   "execution_count": 414,
   "metadata": {},
   "outputs": [
    {
     "data": {
      "text/plain": [
       "Index(['What country is your next trip to?', 'tip', 'decide',\n",
       "       'What would be the most important thing you would like to see change for /r/travel ?',\n",
       "       'To exclude submissions by bots, please select \"a cruise\" from the options below.',\n",
       "       'motivation_word_count', 'motivation_char_count',\n",
       "       'motivation_avg_word_len', 'motivation_stopwords',\n",
       "       'motivation_numerics', 'motivation_upper', 'motivation_pr',\n",
       "       'motivation_n2', 'motivation_pol', 'motivation_sub', 'tip_word_count',\n",
       "       'tip_char', 'tip_avg', 'tip_pr', 'tip_pol', 'tip_sub', 'die_word_count',\n",
       "       'die_char_count', 'die_avg', 'die_pr', 'die_pol', 'die_sub'],\n",
       "      dtype='object')"
      ]
     },
     "execution_count": 414,
     "metadata": {},
     "output_type": "execute_result"
    }
   ],
   "source": [
    "df.columns[95:]"
   ]
  }
 ],
 "metadata": {
  "kernelspec": {
   "display_name": "Python 3",
   "language": "python",
   "name": "python3"
  },
  "language_info": {
   "codemirror_mode": {
    "name": "ipython",
    "version": 3
   },
   "file_extension": ".py",
   "mimetype": "text/x-python",
   "name": "python",
   "nbconvert_exporter": "python",
   "pygments_lexer": "ipython3",
   "version": "3.7.0"
  }
 },
 "nbformat": 4,
 "nbformat_minor": 2
}
